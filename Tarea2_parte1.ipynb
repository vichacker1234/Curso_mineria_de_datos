{
  "nbformat": 4,
  "nbformat_minor": 0,
  "metadata": {
    "colab": {
      "provenance": [],
      "collapsed_sections": [],
      "authorship_tag": "ABX9TyMTqIbn0nn9KfQLASOXbTPh",
      "include_colab_link": true
    },
    "kernelspec": {
      "name": "python3",
      "display_name": "Python 3"
    },
    "language_info": {
      "name": "python"
    }
  },
  "cells": [
    {
      "cell_type": "markdown",
      "metadata": {
        "id": "view-in-github",
        "colab_type": "text"
      },
      "source": [
        "<a href=\"https://colab.research.google.com/github/vichacker1234/Curso_mineria_de_datos/blob/main/Tarea2_parte1.ipynb\" target=\"_parent\"><img src=\"https://colab.research.google.com/assets/colab-badge.svg\" alt=\"Open In Colab\"/></a>"
      ]
    },
    {
      "cell_type": "markdown",
      "source": [
        "## Ejercicio No 1 (Conjuntos)"
      ],
      "metadata": {
        "id": "Vv_ohuAC7f7z"
      }
    },
    {
      "cell_type": "code",
      "execution_count": 4,
      "metadata": {
        "colab": {
          "base_uri": "https://localhost:8080/"
        },
        "id": "OlZRwnqtx8mA",
        "outputId": "aba55845-65b1-48b6-8687-cc68d4e9d20c"
      },
      "outputs": [
        {
          "output_type": "stream",
          "name": "stdout",
          "text": [
            "<class 'set'>\n"
          ]
        }
      ],
      "source": [
        "#Ejercicio con tuplas \n",
        "#Ejemplo resuelto\n",
        "#Se define el conjutno de frutas\n",
        "frutas={'Banano','Naranja','Manzana','tomate'}\n",
        "#Se imprime el tipo del objeto frutas\n",
        "print(type(frutas))"
      ]
    },
    {
      "cell_type": "code",
      "source": [
        "#Se va  agregar una fruta al conjunto\n",
        "frutas.add('fresa')\n",
        "print(frutas)"
      ],
      "metadata": {
        "colab": {
          "base_uri": "https://localhost:8080/"
        },
        "id": "-NrSAXH70wUe",
        "outputId": "0158988b-bb3c-4ed5-b38b-bd2cfd21e49f"
      },
      "execution_count": 5,
      "outputs": [
        {
          "output_type": "stream",
          "name": "stdout",
          "text": [
            "{'Naranja', 'Banano', 'tomate', 'fresa', 'Manzana'}\n"
          ]
        }
      ]
    },
    {
      "cell_type": "code",
      "source": [
        "#Ahora se define el conjunto verduras\n",
        "\n",
        "verduras = {'cebolla', 'tomate'}\n",
        "print( verduras)"
      ],
      "metadata": {
        "colab": {
          "base_uri": "https://localhost:8080/"
        },
        "id": "cMC-RqxW1Zdd",
        "outputId": "c051d2aa-03cd-4470-c1fa-6ab6651162b0"
      },
      "execution_count": 13,
      "outputs": [
        {
          "output_type": "stream",
          "name": "stdout",
          "text": [
            "{'cebolla', 'tomate'}\n"
          ]
        }
      ]
    },
    {
      "cell_type": "code",
      "source": [
        "#Intersección entre dos conjuntos \n",
        "print(frutas & verduras)"
      ],
      "metadata": {
        "colab": {
          "base_uri": "https://localhost:8080/"
        },
        "id": "3Flcnk8R32ll",
        "outputId": "66e20f1a-3bf2-4153-86f9-db2e4df27ec1"
      },
      "execution_count": 14,
      "outputs": [
        {
          "output_type": "stream",
          "name": "stdout",
          "text": [
            "{'tomate'}\n"
          ]
        }
      ]
    },
    {
      "cell_type": "code",
      "source": [
        "#unión de conjuntos \n",
        "print(frutas | verduras)"
      ],
      "metadata": {
        "colab": {
          "base_uri": "https://localhost:8080/"
        },
        "id": "U4rDeAQO4bh_",
        "outputId": "3554b0f0-ef97-4e88-e717-10d15f3cee10"
      },
      "execution_count": 15,
      "outputs": [
        {
          "output_type": "stream",
          "name": "stdout",
          "text": [
            "{'Naranja', 'Banano', 'cebolla', 'tomate', 'fresa', 'Manzana'}\n"
          ]
        }
      ]
    },
    {
      "cell_type": "code",
      "source": [
        "# diferencia de conjutnos \n",
        "print( frutas - verduras)"
      ],
      "metadata": {
        "colab": {
          "base_uri": "https://localhost:8080/"
        },
        "id": "vE3-vJzr6Roa",
        "outputId": "192ef15e-963c-4d37-df21-96ca56d11e09"
      },
      "execution_count": 16,
      "outputs": [
        {
          "output_type": "stream",
          "name": "stdout",
          "text": [
            "{'Naranja', 'Banano', 'Manzana', 'fresa'}\n"
          ]
        }
      ]
    },
    {
      "cell_type": "code",
      "source": [
        "# diferencia simétrica\n",
        "print( frutas ^ verduras)"
      ],
      "metadata": {
        "colab": {
          "base_uri": "https://localhost:8080/"
        },
        "id": "kErWbJTd6YYg",
        "outputId": "c44763ee-09d8-4d2f-9ded-057cca26a874"
      },
      "execution_count": 17,
      "outputs": [
        {
          "output_type": "stream",
          "name": "stdout",
          "text": [
            "{'cebolla', 'Naranja', 'Banano', 'fresa', 'Manzana'}\n"
          ]
        }
      ]
    },
    {
      "cell_type": "code",
      "source": [
        "#Frozenset\n",
        "fruta_congelada = frozenset(frutas)\n",
        "print(fruta_congelada)"
      ],
      "metadata": {
        "colab": {
          "base_uri": "https://localhost:8080/"
        },
        "id": "mgtZ4LfE6ilp",
        "outputId": "0a849d25-c44c-49b6-8811-55b61724d93f"
      },
      "execution_count": 20,
      "outputs": [
        {
          "output_type": "stream",
          "name": "stdout",
          "text": [
            "frozenset({'Naranja', 'Banano', 'tomate', 'fresa', 'Manzana'})\n"
          ]
        }
      ]
    },
    {
      "cell_type": "markdown",
      "source": [
        "## Ejercicio No 2 (Listas)\n",
        "\n",
        "\n",
        "\n"
      ],
      "metadata": {
        "id": "R_wEAIpQ8I2T"
      }
    },
    {
      "cell_type": "code",
      "source": [
        "#Definir la lista de nombres\n",
        "lista1 = ['Alvaro', 'Daniel', 'Pilar', 'Beatriz','Diana','Marcela','Daniel']\n",
        "print(lista1)\n"
      ],
      "metadata": {
        "colab": {
          "base_uri": "https://localhost:8080/"
        },
        "id": "SFfz5q3C8MiY",
        "outputId": "f0c9fb9d-4d57-4dc0-a37d-755013ccef18"
      },
      "execution_count": 30,
      "outputs": [
        {
          "output_type": "stream",
          "name": "stdout",
          "text": [
            "['Alvaro', 'Daniel', 'Pilar', 'Beatriz', 'Diana', 'Marcela', 'Daniel']\n"
          ]
        }
      ]
    },
    {
      "cell_type": "code",
      "source": [
        "#Se va a acceder a los elementos de esta lista\n",
        "for i in lista1:\n",
        "    print(i)\n",
        "print('\\n')\n"
      ],
      "metadata": {
        "colab": {
          "base_uri": "https://localhost:8080/"
        },
        "id": "X9Qe3cSb_BEb",
        "outputId": "5ce6739d-52fc-491b-a729-01d11a66d9af"
      },
      "execution_count": 24,
      "outputs": [
        {
          "output_type": "stream",
          "name": "stdout",
          "text": [
            "Alvaro\n",
            "Daniel\n",
            "Pilar\n",
            "Beatriz\n",
            "Diana\n",
            "Marcela\n",
            "\n",
            "\n"
          ]
        }
      ]
    },
    {
      "cell_type": "code",
      "source": [
        "#Contar los elementos de la lista\n",
        "#Cuenta el número de veces que aparace un elemento en la lista \n",
        "lista1.count('Daniel')"
      ],
      "metadata": {
        "colab": {
          "base_uri": "https://localhost:8080/"
        },
        "id": "gumXjdZk_kz5",
        "outputId": "094f0d3d-981e-4939-dccd-17bdfe5ee3d4"
      },
      "execution_count": 32,
      "outputs": [
        {
          "output_type": "execute_result",
          "data": {
            "text/plain": [
              "2"
            ]
          },
          "metadata": {},
          "execution_count": 32
        }
      ]
    },
    {
      "cell_type": "code",
      "source": [
        "#Definir el objeto nombres\n",
        "Nombres=('Alvaro', 'Daniel', 'Pilar', 'Beatriz','Diana','Marcela','Daniel')"
      ],
      "metadata": {
        "id": "tZ294udYMKgG"
      },
      "execution_count": 34,
      "outputs": []
    },
    {
      "cell_type": "code",
      "source": [
        "#Adicionar elementos a la lista\n",
        "#Se define en primer lugar la lista vacía \n",
        "Lista2 = []\n",
        "for i in Nombres:\n",
        "    Lista2.append(i)\n",
        "\n",
        "print(Lista2)\n"
      ],
      "metadata": {
        "colab": {
          "base_uri": "https://localhost:8080/"
        },
        "id": "yYbH-Rn8_Otb",
        "outputId": "240d3899-e081-4c20-f24a-149265e70848"
      },
      "execution_count": 53,
      "outputs": [
        {
          "output_type": "stream",
          "name": "stdout",
          "text": [
            "['Alvaro', 'Daniel', 'Pilar', 'Beatriz', 'Diana', 'Marcela', 'Daniel']\n"
          ]
        }
      ]
    },
    {
      "cell_type": "code",
      "source": [
        "#Concatenar las listas\n",
        "N = len(Lista2)\n",
        "\n",
        "numL = []\n",
        "\n",
        "for i in range(N):\n",
        "    numL.append(i)\n",
        "\n",
        "print('alfaL = ',Lista2) \n",
        "print('\\n')\n",
        "print('numL = ',numL)\n",
        "print('\\n')\n",
        "\n",
        "\n",
        "Lista2_numL = Lista2 + numL\n",
        "Lista2_numLL = [Lista2, numL]\n",
        "\n",
        "print('alfanumL = ',Lista2_numL) \n",
        "print('\\n')\n",
        "print('alfanumLL = ',Lista2_numLL)"
      ],
      "metadata": {
        "colab": {
          "base_uri": "https://localhost:8080/"
        },
        "id": "xgiw9EqeO6s8",
        "outputId": "bd00aff9-a2d8-4b43-b019-2dae83c9ea28"
      },
      "execution_count": 47,
      "outputs": [
        {
          "output_type": "stream",
          "name": "stdout",
          "text": [
            "alfaL =  ['Alvaro', 'Daniel', 'Pilar', 'Beatriz', 'Diana', 'Marcela', 'Daniel']\n",
            "\n",
            "\n",
            "numL =  [0, 1, 2, 3, 4, 5, 6]\n",
            "\n",
            "\n",
            "alfanumL =  ['Alvaro', 'Daniel', 'Pilar', 'Beatriz', 'Diana', 'Marcela', 'Daniel', 0, 1, 2, 3, 4, 5, 6]\n",
            "\n",
            "\n",
            "alfanumLL =  [['Alvaro', 'Daniel', 'Pilar', 'Beatriz', 'Diana', 'Marcela', 'Daniel'], [0, 1, 2, 3, 4, 5, 6]]\n"
          ]
        }
      ]
    },
    {
      "cell_type": "code",
      "source": [
        "# Acceso a los elementos de la lista alfanumLL\n",
        "\n",
        "for i in range(N):\n",
        "    print(Lista2_numLL[0][i],Lista2_numLL[1][i] )\n"
      ],
      "metadata": {
        "colab": {
          "base_uri": "https://localhost:8080/"
        },
        "id": "o6j5_AI9Po6R",
        "outputId": "e30fc4de-7a11-459f-89b1-a13e1fdda560"
      },
      "execution_count": 48,
      "outputs": [
        {
          "output_type": "stream",
          "name": "stdout",
          "text": [
            "Alvaro 0\n",
            "Daniel 1\n",
            "Pilar 2\n",
            "Beatriz 3\n",
            "Diana 4\n",
            "Marcela 5\n",
            "Daniel 6\n"
          ]
        }
      ]
    },
    {
      "cell_type": "code",
      "source": [
        "#Remover los elementos de una lista\n",
        "#Remueve ambos nombres de Daniel en este caso \n",
        "Lista2.remove('Daniel')\n",
        "print(Lista2)"
      ],
      "metadata": {
        "colab": {
          "base_uri": "https://localhost:8080/"
        },
        "id": "VXYE-BY7QY-3",
        "outputId": "2c18e6ea-050d-4ee4-97ce-0af6f9df6e27"
      },
      "execution_count": 54,
      "outputs": [
        {
          "output_type": "stream",
          "name": "stdout",
          "text": [
            "['Alvaro', 'Pilar', 'Beatriz', 'Diana', 'Marcela', 'Daniel']\n"
          ]
        }
      ]
    },
    {
      "cell_type": "code",
      "source": [
        "#Ahora se van a imprimir los nombres que cumplen una cierta condición\n",
        "Lista3=[]\n",
        "for i in Lista2:\n",
        "  if \"e\" in i:\n",
        "    Lista3.append(i)\n",
        "print(Lista3)"
      ],
      "metadata": {
        "colab": {
          "base_uri": "https://localhost:8080/"
        },
        "id": "dUV4D2SCSPhe",
        "outputId": "009205a6-9fa7-4131-a643-a8cdcf980418"
      },
      "execution_count": 56,
      "outputs": [
        {
          "output_type": "stream",
          "name": "stdout",
          "text": [
            "['Beatriz', 'Marcela', 'Daniel']\n"
          ]
        }
      ]
    },
    {
      "cell_type": "code",
      "source": [
        "#Se va a hacer la misma ejecución por compresión\n",
        "lista3 = [i for i in Lista2 if \"e\" not in i]\n",
        "print(lista3)"
      ],
      "metadata": {
        "colab": {
          "base_uri": "https://localhost:8080/"
        },
        "id": "82qzDCOJTjjq",
        "outputId": "d4b7aa74-9384-43cc-c2fc-d46b4d723a57"
      },
      "execution_count": 58,
      "outputs": [
        {
          "output_type": "stream",
          "name": "stdout",
          "text": [
            "['Alvaro', 'Pilar', 'Diana']\n"
          ]
        }
      ]
    }
  ]
}