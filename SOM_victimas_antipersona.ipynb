{
  "nbformat": 4,
  "nbformat_minor": 0,
  "metadata": {
    "colab": {
      "provenance": [],
      "collapsed_sections": [
        "vhc4qbOxW0N4",
        "U7UORMChbIug",
        "loqD3E8FLK66",
        "h7hHnL__HEoz"
      ],
      "mount_file_id": "1CJaBK-I3T_sJAotKRPWeemNGhAmrrndY",
      "authorship_tag": "ABX9TyMZI6kmqTHJkT4sek+yJBdh",
      "include_colab_link": true
    },
    "kernelspec": {
      "name": "python3",
      "display_name": "Python 3"
    },
    "language_info": {
      "name": "python"
    },
    "accelerator": "GPU",
    "gpuClass": "standard"
  },
  "cells": [
    {
      "cell_type": "markdown",
      "metadata": {
        "id": "view-in-github",
        "colab_type": "text"
      },
      "source": [
        "<a href=\"https://colab.research.google.com/github/vichacker1234/Curso_mineria_de_datos/blob/main/SOM_victimas_antipersona.ipynb\" target=\"_parent\"><img src=\"https://colab.research.google.com/assets/colab-badge.svg\" alt=\"Open In Colab\"/></a>"
      ]
    },
    {
      "cell_type": "markdown",
      "source": [
        "#**Análisis del conjunto de datos (modelo de tipo explicativo)**"
      ],
      "metadata": {
        "id": "QIkdltUePcEB"
      }
    },
    {
      "cell_type": "code",
      "source": [
        "#Importar las librerías más importantes \n",
        "import pandas as pd\n",
        "import numpy as np\n",
        "import matplotlib.pyplot as plt"
      ],
      "metadata": {
        "id": "7VbVYG1QPitu"
      },
      "execution_count": null,
      "outputs": []
    },
    {
      "cell_type": "code",
      "source": [
        "import sys\n",
        "sys.path.insert(0, '../')\n",
        "\n",
        "\n",
        "\n",
        "\n",
        "import numpy as np\n",
        "import matplotlib.pyplot as plt\n",
        "%matplotlib inline\n",
        "\n",
        "%load_ext autoreload"
      ],
      "metadata": {
        "id": "ROj_fPrRQNXU"
      },
      "execution_count": null,
      "outputs": []
    },
    {
      "cell_type": "code",
      "source": [
        "#Montar el drive\n",
        "from google.colab import drive\n",
        "drive.mount('/content/gdrive')"
      ],
      "metadata": {
        "id": "fQzEdnX6anzJ",
        "colab": {
          "base_uri": "https://localhost:8080/"
        },
        "outputId": "95d2b788-f787-445e-9fd8-73ee349a468a"
      },
      "execution_count": null,
      "outputs": [
        {
          "output_type": "stream",
          "name": "stdout",
          "text": [
            "Mounted at /content/gdrive\n"
          ]
        }
      ]
    },
    {
      "cell_type": "code",
      "source": [
        "#Lectura del dataframe de victimas \n",
        "victimas_minas_df=pd.read_csv('/content/gdrive/MyDrive/Mineria_de_datos/victimas_MAP_1999-2017.csv')"
      ],
      "metadata": {
        "id": "0fU5qXFbYzz8"
      },
      "execution_count": null,
      "outputs": []
    },
    {
      "cell_type": "code",
      "source": [
        "# Ver las columnas del dataframe\n",
        "victimas_minas_df.head()"
      ],
      "metadata": {
        "id": "3BUluSCkbfiA"
      },
      "execution_count": null,
      "outputs": []
    },
    {
      "cell_type": "code",
      "source": [
        "victimas_minas_df.shape"
      ],
      "metadata": {
        "id": "9jbhIeOfXk7C",
        "colab": {
          "base_uri": "https://localhost:8080/"
        },
        "outputId": "500187a9-3b41-4dca-b743-444e98e6f4c3"
      },
      "execution_count": null,
      "outputs": [
        {
          "output_type": "execute_result",
          "data": {
            "text/plain": [
              "(12229, 17)"
            ]
          },
          "metadata": {},
          "execution_count": 6
        }
      ]
    },
    {
      "cell_type": "code",
      "source": [
        "#Tamaño del dataframe\n",
        "print(victimas_minas_df.shape)\n",
        "#Columnas del dataframe \n",
        "victimas_minas_df.columns"
      ],
      "metadata": {
        "id": "XXdcUonTccHH",
        "colab": {
          "base_uri": "https://localhost:8080/"
        },
        "outputId": "dfefbdf0-eb5c-4636-ac96-c8df952179ce"
      },
      "execution_count": null,
      "outputs": [
        {
          "output_type": "stream",
          "name": "stdout",
          "text": [
            "(12229, 17)\n"
          ]
        },
        {
          "output_type": "execute_result",
          "data": {
            "text/plain": [
              "Index(['departamento', 'codigodanedepartamento', 'municipio',\n",
              "       'codigodanemunicipio', 'tipoarea', 'sitio', 'ano', 'mes', 'rangoedad',\n",
              "       'grupoetnico', 'condicion', 'estado', 'genero', 'latitudcabecera',\n",
              "       'longitudcabecera', 'tipoevento', 'Ubicación'],\n",
              "      dtype='object')"
            ]
          },
          "metadata": {},
          "execution_count": 7
        }
      ]
    },
    {
      "cell_type": "markdown",
      "source": [
        "##**Resumen de los resultados estadísticos**"
      ],
      "metadata": {
        "id": "NVPC4fQrbxvJ"
      }
    },
    {
      "cell_type": "code",
      "source": [
        "#Resumen estadístico del dataframe\n",
        "victimas_minas_df.info()"
      ],
      "metadata": {
        "id": "IR5UQGNbeMx6",
        "colab": {
          "base_uri": "https://localhost:8080/"
        },
        "outputId": "168b8e30-cb1d-4c0d-d1f3-d43b5ca6fe5e"
      },
      "execution_count": null,
      "outputs": [
        {
          "output_type": "stream",
          "name": "stdout",
          "text": [
            "<class 'pandas.core.frame.DataFrame'>\n",
            "RangeIndex: 12229 entries, 0 to 12228\n",
            "Data columns (total 17 columns):\n",
            " #   Column                  Non-Null Count  Dtype  \n",
            "---  ------                  --------------  -----  \n",
            " 0   departamento            12229 non-null  object \n",
            " 1   codigodanedepartamento  12229 non-null  int64  \n",
            " 2   municipio               12229 non-null  object \n",
            " 3   codigodanemunicipio     12229 non-null  int64  \n",
            " 4   tipoarea                12229 non-null  object \n",
            " 5   sitio                   12229 non-null  object \n",
            " 6   ano                     12229 non-null  int64  \n",
            " 7   mes                     12229 non-null  int64  \n",
            " 8   rangoedad               12229 non-null  object \n",
            " 9   grupoetnico             12229 non-null  object \n",
            " 10  condicion               12229 non-null  object \n",
            " 11  estado                  12229 non-null  object \n",
            " 12  genero                  12229 non-null  object \n",
            " 13  latitudcabecera         12229 non-null  float64\n",
            " 14  longitudcabecera        12229 non-null  float64\n",
            " 15  tipoevento              12229 non-null  object \n",
            " 16  Ubicación               12229 non-null  object \n",
            "dtypes: float64(2), int64(4), object(11)\n",
            "memory usage: 1.6+ MB\n"
          ]
        }
      ]
    },
    {
      "cell_type": "markdown",
      "source": [
        "#**Reducción de dimensionalidad**\n",
        "\n",
        "En este apartado se van a seleccionar las variables categórticas para codificarlas usando one-hot"
      ],
      "metadata": {
        "id": "EK7mQ-apd8Hy"
      }
    },
    {
      "cell_type": "markdown",
      "source": [
        "##**Definir las variables categóricas**"
      ],
      "metadata": {
        "id": "MfhqwbOu-kge"
      }
    },
    {
      "cell_type": "code",
      "source": [
        "#Definir las variables categóricas\n",
        "df1_cat=victimas_minas_df[['rangoedad','condicion','tipoarea','grupoetnico','genero']]"
      ],
      "metadata": {
        "id": "ucWgVTegd_nB"
      },
      "execution_count": null,
      "outputs": []
    },
    {
      "cell_type": "code",
      "source": [
        "#10 primeros registros de la parte superior\n",
        "df1_cat.head(10)\n"
      ],
      "metadata": {
        "id": "fVkQRgD5fIMk"
      },
      "execution_count": null,
      "outputs": []
    },
    {
      "cell_type": "markdown",
      "source": [
        "##**Tabla cruzada**"
      ],
      "metadata": {
        "id": "gYjteVZf9R8n"
      }
    },
    {
      "cell_type": "code",
      "source": [
        "#Primera tabla cruzada\n",
        "T1=pd.crosstab(victimas_minas_df.departamento,victimas_minas_df.estado,margins_name='Total')"
      ],
      "metadata": {
        "id": "2SyVUkSC9U8O"
      },
      "execution_count": null,
      "outputs": []
    },
    {
      "cell_type": "code",
      "source": [
        "T1.head(10)"
      ],
      "metadata": {
        "colab": {
          "base_uri": "https://localhost:8080/",
          "height": 394
        },
        "id": "UetT1SQe99Jd",
        "outputId": "677da638-3667-4c19-ad21-1814e8f808b4"
      },
      "execution_count": null,
      "outputs": [
        {
          "output_type": "execute_result",
          "data": {
            "text/plain": [
              "estado        Herido  Muerto\n",
              "departamento                \n",
              "AMAZONAS           2       2\n",
              "ANTIOQUIA       2226     418\n",
              "ARAUCA           535     118\n",
              "ATLANTICO          7       1\n",
              "BOGOTA DC         19      11\n",
              "BOLIVAR          546      91\n",
              "BOYACA            63      15\n",
              "CALDAS           134      34\n",
              "CAQUETA          836     113\n",
              "CASANARE          61      29"
            ],
            "text/html": [
              "\n",
              "  <div id=\"df-baa3e5c9-7434-41e7-9151-1c5b83c32fc4\">\n",
              "    <div class=\"colab-df-container\">\n",
              "      <div>\n",
              "<style scoped>\n",
              "    .dataframe tbody tr th:only-of-type {\n",
              "        vertical-align: middle;\n",
              "    }\n",
              "\n",
              "    .dataframe tbody tr th {\n",
              "        vertical-align: top;\n",
              "    }\n",
              "\n",
              "    .dataframe thead th {\n",
              "        text-align: right;\n",
              "    }\n",
              "</style>\n",
              "<table border=\"1\" class=\"dataframe\">\n",
              "  <thead>\n",
              "    <tr style=\"text-align: right;\">\n",
              "      <th>estado</th>\n",
              "      <th>Herido</th>\n",
              "      <th>Muerto</th>\n",
              "    </tr>\n",
              "    <tr>\n",
              "      <th>departamento</th>\n",
              "      <th></th>\n",
              "      <th></th>\n",
              "    </tr>\n",
              "  </thead>\n",
              "  <tbody>\n",
              "    <tr>\n",
              "      <th>AMAZONAS</th>\n",
              "      <td>2</td>\n",
              "      <td>2</td>\n",
              "    </tr>\n",
              "    <tr>\n",
              "      <th>ANTIOQUIA</th>\n",
              "      <td>2226</td>\n",
              "      <td>418</td>\n",
              "    </tr>\n",
              "    <tr>\n",
              "      <th>ARAUCA</th>\n",
              "      <td>535</td>\n",
              "      <td>118</td>\n",
              "    </tr>\n",
              "    <tr>\n",
              "      <th>ATLANTICO</th>\n",
              "      <td>7</td>\n",
              "      <td>1</td>\n",
              "    </tr>\n",
              "    <tr>\n",
              "      <th>BOGOTA DC</th>\n",
              "      <td>19</td>\n",
              "      <td>11</td>\n",
              "    </tr>\n",
              "    <tr>\n",
              "      <th>BOLIVAR</th>\n",
              "      <td>546</td>\n",
              "      <td>91</td>\n",
              "    </tr>\n",
              "    <tr>\n",
              "      <th>BOYACA</th>\n",
              "      <td>63</td>\n",
              "      <td>15</td>\n",
              "    </tr>\n",
              "    <tr>\n",
              "      <th>CALDAS</th>\n",
              "      <td>134</td>\n",
              "      <td>34</td>\n",
              "    </tr>\n",
              "    <tr>\n",
              "      <th>CAQUETA</th>\n",
              "      <td>836</td>\n",
              "      <td>113</td>\n",
              "    </tr>\n",
              "    <tr>\n",
              "      <th>CASANARE</th>\n",
              "      <td>61</td>\n",
              "      <td>29</td>\n",
              "    </tr>\n",
              "  </tbody>\n",
              "</table>\n",
              "</div>\n",
              "      <button class=\"colab-df-convert\" onclick=\"convertToInteractive('df-baa3e5c9-7434-41e7-9151-1c5b83c32fc4')\"\n",
              "              title=\"Convert this dataframe to an interactive table.\"\n",
              "              style=\"display:none;\">\n",
              "        \n",
              "  <svg xmlns=\"http://www.w3.org/2000/svg\" height=\"24px\"viewBox=\"0 0 24 24\"\n",
              "       width=\"24px\">\n",
              "    <path d=\"M0 0h24v24H0V0z\" fill=\"none\"/>\n",
              "    <path d=\"M18.56 5.44l.94 2.06.94-2.06 2.06-.94-2.06-.94-.94-2.06-.94 2.06-2.06.94zm-11 1L8.5 8.5l.94-2.06 2.06-.94-2.06-.94L8.5 2.5l-.94 2.06-2.06.94zm10 10l.94 2.06.94-2.06 2.06-.94-2.06-.94-.94-2.06-.94 2.06-2.06.94z\"/><path d=\"M17.41 7.96l-1.37-1.37c-.4-.4-.92-.59-1.43-.59-.52 0-1.04.2-1.43.59L10.3 9.45l-7.72 7.72c-.78.78-.78 2.05 0 2.83L4 21.41c.39.39.9.59 1.41.59.51 0 1.02-.2 1.41-.59l7.78-7.78 2.81-2.81c.8-.78.8-2.07 0-2.86zM5.41 20L4 18.59l7.72-7.72 1.47 1.35L5.41 20z\"/>\n",
              "  </svg>\n",
              "      </button>\n",
              "      \n",
              "  <style>\n",
              "    .colab-df-container {\n",
              "      display:flex;\n",
              "      flex-wrap:wrap;\n",
              "      gap: 12px;\n",
              "    }\n",
              "\n",
              "    .colab-df-convert {\n",
              "      background-color: #E8F0FE;\n",
              "      border: none;\n",
              "      border-radius: 50%;\n",
              "      cursor: pointer;\n",
              "      display: none;\n",
              "      fill: #1967D2;\n",
              "      height: 32px;\n",
              "      padding: 0 0 0 0;\n",
              "      width: 32px;\n",
              "    }\n",
              "\n",
              "    .colab-df-convert:hover {\n",
              "      background-color: #E2EBFA;\n",
              "      box-shadow: 0px 1px 2px rgba(60, 64, 67, 0.3), 0px 1px 3px 1px rgba(60, 64, 67, 0.15);\n",
              "      fill: #174EA6;\n",
              "    }\n",
              "\n",
              "    [theme=dark] .colab-df-convert {\n",
              "      background-color: #3B4455;\n",
              "      fill: #D2E3FC;\n",
              "    }\n",
              "\n",
              "    [theme=dark] .colab-df-convert:hover {\n",
              "      background-color: #434B5C;\n",
              "      box-shadow: 0px 1px 3px 1px rgba(0, 0, 0, 0.15);\n",
              "      filter: drop-shadow(0px 1px 2px rgba(0, 0, 0, 0.3));\n",
              "      fill: #FFFFFF;\n",
              "    }\n",
              "  </style>\n",
              "\n",
              "      <script>\n",
              "        const buttonEl =\n",
              "          document.querySelector('#df-baa3e5c9-7434-41e7-9151-1c5b83c32fc4 button.colab-df-convert');\n",
              "        buttonEl.style.display =\n",
              "          google.colab.kernel.accessAllowed ? 'block' : 'none';\n",
              "\n",
              "        async function convertToInteractive(key) {\n",
              "          const element = document.querySelector('#df-baa3e5c9-7434-41e7-9151-1c5b83c32fc4');\n",
              "          const dataTable =\n",
              "            await google.colab.kernel.invokeFunction('convertToInteractive',\n",
              "                                                     [key], {});\n",
              "          if (!dataTable) return;\n",
              "\n",
              "          const docLinkHtml = 'Like what you see? Visit the ' +\n",
              "            '<a target=\"_blank\" href=https://colab.research.google.com/notebooks/data_table.ipynb>data table notebook</a>'\n",
              "            + ' to learn more about interactive tables.';\n",
              "          element.innerHTML = '';\n",
              "          dataTable['output_type'] = 'display_data';\n",
              "          await google.colab.output.renderOutput(dataTable, element);\n",
              "          const docLink = document.createElement('div');\n",
              "          docLink.innerHTML = docLinkHtml;\n",
              "          element.appendChild(docLink);\n",
              "        }\n",
              "      </script>\n",
              "    </div>\n",
              "  </div>\n",
              "  "
            ]
          },
          "metadata": {},
          "execution_count": 12
        }
      ]
    },
    {
      "cell_type": "code",
      "source": [
        "type(T1)      \n",
        "\n",
        "\n",
        "\n"
      ],
      "metadata": {
        "colab": {
          "base_uri": "https://localhost:8080/"
        },
        "id": "v2LM1bxq-5UJ",
        "outputId": "4fde38d0-f2de-432f-975e-7bdf2ab8c212"
      },
      "execution_count": null,
      "outputs": [
        {
          "output_type": "execute_result",
          "data": {
            "text/plain": [
              "pandas.core.frame.DataFrame"
            ]
          },
          "metadata": {},
          "execution_count": 14
        }
      ]
    },
    {
      "cell_type": "code",
      "source": [
        "T2=pd.crosstab(victimas_minas_df.departamento,victimas_minas_df.condicion,margins_name='Total')"
      ],
      "metadata": {
        "id": "J2xWp7VZ_iwp"
      },
      "execution_count": null,
      "outputs": []
    },
    {
      "cell_type": "code",
      "source": [
        "T2.head(10)"
      ],
      "metadata": {
        "colab": {
          "base_uri": "https://localhost:8080/",
          "height": 394
        },
        "id": "0ujqZQ8D_6Nc",
        "outputId": "5733c366-900d-4e4e-e757-ea94929da7eb"
      },
      "execution_count": null,
      "outputs": [
        {
          "output_type": "execute_result",
          "data": {
            "text/plain": [
              "condicion     Civil  Fuerza pública\n",
              "departamento                       \n",
              "AMAZONAS          1               3\n",
              "ANTIOQUIA      1213            1431\n",
              "ARAUCA          230             423\n",
              "ATLANTICO         8               0\n",
              "BOGOTA DC        11              19\n",
              "BOLIVAR         228             409\n",
              "BOYACA           26              52\n",
              "CALDAS           45             123\n",
              "CAQUETA         220             729\n",
              "CASANARE         17              73"
            ],
            "text/html": [
              "\n",
              "  <div id=\"df-bd3aacac-4ade-4c9a-b5d3-162871d55c57\">\n",
              "    <div class=\"colab-df-container\">\n",
              "      <div>\n",
              "<style scoped>\n",
              "    .dataframe tbody tr th:only-of-type {\n",
              "        vertical-align: middle;\n",
              "    }\n",
              "\n",
              "    .dataframe tbody tr th {\n",
              "        vertical-align: top;\n",
              "    }\n",
              "\n",
              "    .dataframe thead th {\n",
              "        text-align: right;\n",
              "    }\n",
              "</style>\n",
              "<table border=\"1\" class=\"dataframe\">\n",
              "  <thead>\n",
              "    <tr style=\"text-align: right;\">\n",
              "      <th>condicion</th>\n",
              "      <th>Civil</th>\n",
              "      <th>Fuerza pública</th>\n",
              "    </tr>\n",
              "    <tr>\n",
              "      <th>departamento</th>\n",
              "      <th></th>\n",
              "      <th></th>\n",
              "    </tr>\n",
              "  </thead>\n",
              "  <tbody>\n",
              "    <tr>\n",
              "      <th>AMAZONAS</th>\n",
              "      <td>1</td>\n",
              "      <td>3</td>\n",
              "    </tr>\n",
              "    <tr>\n",
              "      <th>ANTIOQUIA</th>\n",
              "      <td>1213</td>\n",
              "      <td>1431</td>\n",
              "    </tr>\n",
              "    <tr>\n",
              "      <th>ARAUCA</th>\n",
              "      <td>230</td>\n",
              "      <td>423</td>\n",
              "    </tr>\n",
              "    <tr>\n",
              "      <th>ATLANTICO</th>\n",
              "      <td>8</td>\n",
              "      <td>0</td>\n",
              "    </tr>\n",
              "    <tr>\n",
              "      <th>BOGOTA DC</th>\n",
              "      <td>11</td>\n",
              "      <td>19</td>\n",
              "    </tr>\n",
              "    <tr>\n",
              "      <th>BOLIVAR</th>\n",
              "      <td>228</td>\n",
              "      <td>409</td>\n",
              "    </tr>\n",
              "    <tr>\n",
              "      <th>BOYACA</th>\n",
              "      <td>26</td>\n",
              "      <td>52</td>\n",
              "    </tr>\n",
              "    <tr>\n",
              "      <th>CALDAS</th>\n",
              "      <td>45</td>\n",
              "      <td>123</td>\n",
              "    </tr>\n",
              "    <tr>\n",
              "      <th>CAQUETA</th>\n",
              "      <td>220</td>\n",
              "      <td>729</td>\n",
              "    </tr>\n",
              "    <tr>\n",
              "      <th>CASANARE</th>\n",
              "      <td>17</td>\n",
              "      <td>73</td>\n",
              "    </tr>\n",
              "  </tbody>\n",
              "</table>\n",
              "</div>\n",
              "      <button class=\"colab-df-convert\" onclick=\"convertToInteractive('df-bd3aacac-4ade-4c9a-b5d3-162871d55c57')\"\n",
              "              title=\"Convert this dataframe to an interactive table.\"\n",
              "              style=\"display:none;\">\n",
              "        \n",
              "  <svg xmlns=\"http://www.w3.org/2000/svg\" height=\"24px\"viewBox=\"0 0 24 24\"\n",
              "       width=\"24px\">\n",
              "    <path d=\"M0 0h24v24H0V0z\" fill=\"none\"/>\n",
              "    <path d=\"M18.56 5.44l.94 2.06.94-2.06 2.06-.94-2.06-.94-.94-2.06-.94 2.06-2.06.94zm-11 1L8.5 8.5l.94-2.06 2.06-.94-2.06-.94L8.5 2.5l-.94 2.06-2.06.94zm10 10l.94 2.06.94-2.06 2.06-.94-2.06-.94-.94-2.06-.94 2.06-2.06.94z\"/><path d=\"M17.41 7.96l-1.37-1.37c-.4-.4-.92-.59-1.43-.59-.52 0-1.04.2-1.43.59L10.3 9.45l-7.72 7.72c-.78.78-.78 2.05 0 2.83L4 21.41c.39.39.9.59 1.41.59.51 0 1.02-.2 1.41-.59l7.78-7.78 2.81-2.81c.8-.78.8-2.07 0-2.86zM5.41 20L4 18.59l7.72-7.72 1.47 1.35L5.41 20z\"/>\n",
              "  </svg>\n",
              "      </button>\n",
              "      \n",
              "  <style>\n",
              "    .colab-df-container {\n",
              "      display:flex;\n",
              "      flex-wrap:wrap;\n",
              "      gap: 12px;\n",
              "    }\n",
              "\n",
              "    .colab-df-convert {\n",
              "      background-color: #E8F0FE;\n",
              "      border: none;\n",
              "      border-radius: 50%;\n",
              "      cursor: pointer;\n",
              "      display: none;\n",
              "      fill: #1967D2;\n",
              "      height: 32px;\n",
              "      padding: 0 0 0 0;\n",
              "      width: 32px;\n",
              "    }\n",
              "\n",
              "    .colab-df-convert:hover {\n",
              "      background-color: #E2EBFA;\n",
              "      box-shadow: 0px 1px 2px rgba(60, 64, 67, 0.3), 0px 1px 3px 1px rgba(60, 64, 67, 0.15);\n",
              "      fill: #174EA6;\n",
              "    }\n",
              "\n",
              "    [theme=dark] .colab-df-convert {\n",
              "      background-color: #3B4455;\n",
              "      fill: #D2E3FC;\n",
              "    }\n",
              "\n",
              "    [theme=dark] .colab-df-convert:hover {\n",
              "      background-color: #434B5C;\n",
              "      box-shadow: 0px 1px 3px 1px rgba(0, 0, 0, 0.15);\n",
              "      filter: drop-shadow(0px 1px 2px rgba(0, 0, 0, 0.3));\n",
              "      fill: #FFFFFF;\n",
              "    }\n",
              "  </style>\n",
              "\n",
              "      <script>\n",
              "        const buttonEl =\n",
              "          document.querySelector('#df-bd3aacac-4ade-4c9a-b5d3-162871d55c57 button.colab-df-convert');\n",
              "        buttonEl.style.display =\n",
              "          google.colab.kernel.accessAllowed ? 'block' : 'none';\n",
              "\n",
              "        async function convertToInteractive(key) {\n",
              "          const element = document.querySelector('#df-bd3aacac-4ade-4c9a-b5d3-162871d55c57');\n",
              "          const dataTable =\n",
              "            await google.colab.kernel.invokeFunction('convertToInteractive',\n",
              "                                                     [key], {});\n",
              "          if (!dataTable) return;\n",
              "\n",
              "          const docLinkHtml = 'Like what you see? Visit the ' +\n",
              "            '<a target=\"_blank\" href=https://colab.research.google.com/notebooks/data_table.ipynb>data table notebook</a>'\n",
              "            + ' to learn more about interactive tables.';\n",
              "          element.innerHTML = '';\n",
              "          dataTable['output_type'] = 'display_data';\n",
              "          await google.colab.output.renderOutput(dataTable, element);\n",
              "          const docLink = document.createElement('div');\n",
              "          docLink.innerHTML = docLinkHtml;\n",
              "          element.appendChild(docLink);\n",
              "        }\n",
              "      </script>\n",
              "    </div>\n",
              "  </div>\n",
              "  "
            ]
          },
          "metadata": {},
          "execution_count": 16
        }
      ]
    },
    {
      "cell_type": "markdown",
      "source": [
        "##**T3**"
      ],
      "metadata": {
        "id": "rF1jeWO3A103"
      }
    },
    {
      "cell_type": "code",
      "source": [
        "T3=pd.crosstab(victimas_minas_df.departamento,victimas_minas_df.tipoarea,margins_name='Total')"
      ],
      "metadata": {
        "id": "9yvCBu9aA5iY"
      },
      "execution_count": null,
      "outputs": []
    },
    {
      "cell_type": "code",
      "source": [
        "T3"
      ],
      "metadata": {
        "colab": {
          "base_uri": "https://localhost:8080/",
          "height": 1000
        },
        "id": "yUvDyNnjBMMr",
        "outputId": "213ab008-47b5-4a8a-f856-9f766ebc26de"
      },
      "execution_count": null,
      "outputs": [
        {
          "output_type": "execute_result",
          "data": {
            "text/plain": [
              "tipoarea            Rural  Urbana\n",
              "departamento                     \n",
              "AMAZONAS                4       0\n",
              "ANTIOQUIA            2581      63\n",
              "ARAUCA                641      12\n",
              "ATLANTICO               2       6\n",
              "BOGOTA DC              20      10\n",
              "BOLIVAR               632       5\n",
              "BOYACA                 77       1\n",
              "CALDAS                164       4\n",
              "CAQUETA               942       7\n",
              "CASANARE               90       0\n",
              "CAUCA                 640      11\n",
              "CESAR                 146      12\n",
              "CHOCO                 208       1\n",
              "CORDOBA               279       4\n",
              "CUNDINAMARCA          136       5\n",
              "GUAINIA                 3       0\n",
              "GUAVIARE              265       2\n",
              "HUILA                 226      10\n",
              "LA GUAJIRA             59       1\n",
              "MAGDALENA              46       0\n",
              "META                 1145       3\n",
              "NARIÑO               1045      12\n",
              "NORTE DE SANTANDER    946      16\n",
              "PUTUMAYO              453       1\n",
              "QUINDIO                24       4\n",
              "RISARALDA              19       3\n",
              "SANTANDER             267      30\n",
              "SUCRE                  73       2\n",
              "TOLIMA                535       4\n",
              "VALLE DEL CAUCA       252      18\n",
              "VAUPES                 43       1\n",
              "VICHADA                18       0"
            ],
            "text/html": [
              "\n",
              "  <div id=\"df-f725569e-0d0b-4fd7-8f40-31dad66e2ab0\">\n",
              "    <div class=\"colab-df-container\">\n",
              "      <div>\n",
              "<style scoped>\n",
              "    .dataframe tbody tr th:only-of-type {\n",
              "        vertical-align: middle;\n",
              "    }\n",
              "\n",
              "    .dataframe tbody tr th {\n",
              "        vertical-align: top;\n",
              "    }\n",
              "\n",
              "    .dataframe thead th {\n",
              "        text-align: right;\n",
              "    }\n",
              "</style>\n",
              "<table border=\"1\" class=\"dataframe\">\n",
              "  <thead>\n",
              "    <tr style=\"text-align: right;\">\n",
              "      <th>tipoarea</th>\n",
              "      <th>Rural</th>\n",
              "      <th>Urbana</th>\n",
              "    </tr>\n",
              "    <tr>\n",
              "      <th>departamento</th>\n",
              "      <th></th>\n",
              "      <th></th>\n",
              "    </tr>\n",
              "  </thead>\n",
              "  <tbody>\n",
              "    <tr>\n",
              "      <th>AMAZONAS</th>\n",
              "      <td>4</td>\n",
              "      <td>0</td>\n",
              "    </tr>\n",
              "    <tr>\n",
              "      <th>ANTIOQUIA</th>\n",
              "      <td>2581</td>\n",
              "      <td>63</td>\n",
              "    </tr>\n",
              "    <tr>\n",
              "      <th>ARAUCA</th>\n",
              "      <td>641</td>\n",
              "      <td>12</td>\n",
              "    </tr>\n",
              "    <tr>\n",
              "      <th>ATLANTICO</th>\n",
              "      <td>2</td>\n",
              "      <td>6</td>\n",
              "    </tr>\n",
              "    <tr>\n",
              "      <th>BOGOTA DC</th>\n",
              "      <td>20</td>\n",
              "      <td>10</td>\n",
              "    </tr>\n",
              "    <tr>\n",
              "      <th>BOLIVAR</th>\n",
              "      <td>632</td>\n",
              "      <td>5</td>\n",
              "    </tr>\n",
              "    <tr>\n",
              "      <th>BOYACA</th>\n",
              "      <td>77</td>\n",
              "      <td>1</td>\n",
              "    </tr>\n",
              "    <tr>\n",
              "      <th>CALDAS</th>\n",
              "      <td>164</td>\n",
              "      <td>4</td>\n",
              "    </tr>\n",
              "    <tr>\n",
              "      <th>CAQUETA</th>\n",
              "      <td>942</td>\n",
              "      <td>7</td>\n",
              "    </tr>\n",
              "    <tr>\n",
              "      <th>CASANARE</th>\n",
              "      <td>90</td>\n",
              "      <td>0</td>\n",
              "    </tr>\n",
              "    <tr>\n",
              "      <th>CAUCA</th>\n",
              "      <td>640</td>\n",
              "      <td>11</td>\n",
              "    </tr>\n",
              "    <tr>\n",
              "      <th>CESAR</th>\n",
              "      <td>146</td>\n",
              "      <td>12</td>\n",
              "    </tr>\n",
              "    <tr>\n",
              "      <th>CHOCO</th>\n",
              "      <td>208</td>\n",
              "      <td>1</td>\n",
              "    </tr>\n",
              "    <tr>\n",
              "      <th>CORDOBA</th>\n",
              "      <td>279</td>\n",
              "      <td>4</td>\n",
              "    </tr>\n",
              "    <tr>\n",
              "      <th>CUNDINAMARCA</th>\n",
              "      <td>136</td>\n",
              "      <td>5</td>\n",
              "    </tr>\n",
              "    <tr>\n",
              "      <th>GUAINIA</th>\n",
              "      <td>3</td>\n",
              "      <td>0</td>\n",
              "    </tr>\n",
              "    <tr>\n",
              "      <th>GUAVIARE</th>\n",
              "      <td>265</td>\n",
              "      <td>2</td>\n",
              "    </tr>\n",
              "    <tr>\n",
              "      <th>HUILA</th>\n",
              "      <td>226</td>\n",
              "      <td>10</td>\n",
              "    </tr>\n",
              "    <tr>\n",
              "      <th>LA GUAJIRA</th>\n",
              "      <td>59</td>\n",
              "      <td>1</td>\n",
              "    </tr>\n",
              "    <tr>\n",
              "      <th>MAGDALENA</th>\n",
              "      <td>46</td>\n",
              "      <td>0</td>\n",
              "    </tr>\n",
              "    <tr>\n",
              "      <th>META</th>\n",
              "      <td>1145</td>\n",
              "      <td>3</td>\n",
              "    </tr>\n",
              "    <tr>\n",
              "      <th>NARIÑO</th>\n",
              "      <td>1045</td>\n",
              "      <td>12</td>\n",
              "    </tr>\n",
              "    <tr>\n",
              "      <th>NORTE DE SANTANDER</th>\n",
              "      <td>946</td>\n",
              "      <td>16</td>\n",
              "    </tr>\n",
              "    <tr>\n",
              "      <th>PUTUMAYO</th>\n",
              "      <td>453</td>\n",
              "      <td>1</td>\n",
              "    </tr>\n",
              "    <tr>\n",
              "      <th>QUINDIO</th>\n",
              "      <td>24</td>\n",
              "      <td>4</td>\n",
              "    </tr>\n",
              "    <tr>\n",
              "      <th>RISARALDA</th>\n",
              "      <td>19</td>\n",
              "      <td>3</td>\n",
              "    </tr>\n",
              "    <tr>\n",
              "      <th>SANTANDER</th>\n",
              "      <td>267</td>\n",
              "      <td>30</td>\n",
              "    </tr>\n",
              "    <tr>\n",
              "      <th>SUCRE</th>\n",
              "      <td>73</td>\n",
              "      <td>2</td>\n",
              "    </tr>\n",
              "    <tr>\n",
              "      <th>TOLIMA</th>\n",
              "      <td>535</td>\n",
              "      <td>4</td>\n",
              "    </tr>\n",
              "    <tr>\n",
              "      <th>VALLE DEL CAUCA</th>\n",
              "      <td>252</td>\n",
              "      <td>18</td>\n",
              "    </tr>\n",
              "    <tr>\n",
              "      <th>VAUPES</th>\n",
              "      <td>43</td>\n",
              "      <td>1</td>\n",
              "    </tr>\n",
              "    <tr>\n",
              "      <th>VICHADA</th>\n",
              "      <td>18</td>\n",
              "      <td>0</td>\n",
              "    </tr>\n",
              "  </tbody>\n",
              "</table>\n",
              "</div>\n",
              "      <button class=\"colab-df-convert\" onclick=\"convertToInteractive('df-f725569e-0d0b-4fd7-8f40-31dad66e2ab0')\"\n",
              "              title=\"Convert this dataframe to an interactive table.\"\n",
              "              style=\"display:none;\">\n",
              "        \n",
              "  <svg xmlns=\"http://www.w3.org/2000/svg\" height=\"24px\"viewBox=\"0 0 24 24\"\n",
              "       width=\"24px\">\n",
              "    <path d=\"M0 0h24v24H0V0z\" fill=\"none\"/>\n",
              "    <path d=\"M18.56 5.44l.94 2.06.94-2.06 2.06-.94-2.06-.94-.94-2.06-.94 2.06-2.06.94zm-11 1L8.5 8.5l.94-2.06 2.06-.94-2.06-.94L8.5 2.5l-.94 2.06-2.06.94zm10 10l.94 2.06.94-2.06 2.06-.94-2.06-.94-.94-2.06-.94 2.06-2.06.94z\"/><path d=\"M17.41 7.96l-1.37-1.37c-.4-.4-.92-.59-1.43-.59-.52 0-1.04.2-1.43.59L10.3 9.45l-7.72 7.72c-.78.78-.78 2.05 0 2.83L4 21.41c.39.39.9.59 1.41.59.51 0 1.02-.2 1.41-.59l7.78-7.78 2.81-2.81c.8-.78.8-2.07 0-2.86zM5.41 20L4 18.59l7.72-7.72 1.47 1.35L5.41 20z\"/>\n",
              "  </svg>\n",
              "      </button>\n",
              "      \n",
              "  <style>\n",
              "    .colab-df-container {\n",
              "      display:flex;\n",
              "      flex-wrap:wrap;\n",
              "      gap: 12px;\n",
              "    }\n",
              "\n",
              "    .colab-df-convert {\n",
              "      background-color: #E8F0FE;\n",
              "      border: none;\n",
              "      border-radius: 50%;\n",
              "      cursor: pointer;\n",
              "      display: none;\n",
              "      fill: #1967D2;\n",
              "      height: 32px;\n",
              "      padding: 0 0 0 0;\n",
              "      width: 32px;\n",
              "    }\n",
              "\n",
              "    .colab-df-convert:hover {\n",
              "      background-color: #E2EBFA;\n",
              "      box-shadow: 0px 1px 2px rgba(60, 64, 67, 0.3), 0px 1px 3px 1px rgba(60, 64, 67, 0.15);\n",
              "      fill: #174EA6;\n",
              "    }\n",
              "\n",
              "    [theme=dark] .colab-df-convert {\n",
              "      background-color: #3B4455;\n",
              "      fill: #D2E3FC;\n",
              "    }\n",
              "\n",
              "    [theme=dark] .colab-df-convert:hover {\n",
              "      background-color: #434B5C;\n",
              "      box-shadow: 0px 1px 3px 1px rgba(0, 0, 0, 0.15);\n",
              "      filter: drop-shadow(0px 1px 2px rgba(0, 0, 0, 0.3));\n",
              "      fill: #FFFFFF;\n",
              "    }\n",
              "  </style>\n",
              "\n",
              "      <script>\n",
              "        const buttonEl =\n",
              "          document.querySelector('#df-f725569e-0d0b-4fd7-8f40-31dad66e2ab0 button.colab-df-convert');\n",
              "        buttonEl.style.display =\n",
              "          google.colab.kernel.accessAllowed ? 'block' : 'none';\n",
              "\n",
              "        async function convertToInteractive(key) {\n",
              "          const element = document.querySelector('#df-f725569e-0d0b-4fd7-8f40-31dad66e2ab0');\n",
              "          const dataTable =\n",
              "            await google.colab.kernel.invokeFunction('convertToInteractive',\n",
              "                                                     [key], {});\n",
              "          if (!dataTable) return;\n",
              "\n",
              "          const docLinkHtml = 'Like what you see? Visit the ' +\n",
              "            '<a target=\"_blank\" href=https://colab.research.google.com/notebooks/data_table.ipynb>data table notebook</a>'\n",
              "            + ' to learn more about interactive tables.';\n",
              "          element.innerHTML = '';\n",
              "          dataTable['output_type'] = 'display_data';\n",
              "          await google.colab.output.renderOutput(dataTable, element);\n",
              "          const docLink = document.createElement('div');\n",
              "          docLink.innerHTML = docLinkHtml;\n",
              "          element.appendChild(docLink);\n",
              "        }\n",
              "      </script>\n",
              "    </div>\n",
              "  </div>\n",
              "  "
            ]
          },
          "metadata": {},
          "execution_count": 54
        }
      ]
    },
    {
      "cell_type": "markdown",
      "source": [
        "##**T4**"
      ],
      "metadata": {
        "id": "zTIVOBBUBbld"
      }
    },
    {
      "cell_type": "code",
      "source": [
        "T4=pd.crosstab(victimas_minas_df.departamento,victimas_minas_df.grupoetnico)"
      ],
      "metadata": {
        "id": "xOXUBnNnBiwk"
      },
      "execution_count": null,
      "outputs": []
    },
    {
      "cell_type": "code",
      "source": [
        "T4.head()"
      ],
      "metadata": {
        "colab": {
          "base_uri": "https://localhost:8080/",
          "height": 238
        },
        "id": "vt33zCg3B75S",
        "outputId": "86c19341-6f7b-4804-de37-fd45648126b6"
      },
      "execution_count": null,
      "outputs": [
        {
          "output_type": "execute_result",
          "data": {
            "text/plain": [
              "grupoetnico   Afrodescendiente  Indigena    No\n",
              "departamento                                  \n",
              "AMAZONAS                     0         0     4\n",
              "ANTIOQUIA                    7        40  2597\n",
              "ARAUCA                       4        12   637\n",
              "ATLANTICO                    0         0     8\n",
              "BOGOTA DC                    0         0    30"
            ],
            "text/html": [
              "\n",
              "  <div id=\"df-46b7b01c-a0e3-4de4-b5dd-cbcd98f39fd8\">\n",
              "    <div class=\"colab-df-container\">\n",
              "      <div>\n",
              "<style scoped>\n",
              "    .dataframe tbody tr th:only-of-type {\n",
              "        vertical-align: middle;\n",
              "    }\n",
              "\n",
              "    .dataframe tbody tr th {\n",
              "        vertical-align: top;\n",
              "    }\n",
              "\n",
              "    .dataframe thead th {\n",
              "        text-align: right;\n",
              "    }\n",
              "</style>\n",
              "<table border=\"1\" class=\"dataframe\">\n",
              "  <thead>\n",
              "    <tr style=\"text-align: right;\">\n",
              "      <th>grupoetnico</th>\n",
              "      <th>Afrodescendiente</th>\n",
              "      <th>Indigena</th>\n",
              "      <th>No</th>\n",
              "    </tr>\n",
              "    <tr>\n",
              "      <th>departamento</th>\n",
              "      <th></th>\n",
              "      <th></th>\n",
              "      <th></th>\n",
              "    </tr>\n",
              "  </thead>\n",
              "  <tbody>\n",
              "    <tr>\n",
              "      <th>AMAZONAS</th>\n",
              "      <td>0</td>\n",
              "      <td>0</td>\n",
              "      <td>4</td>\n",
              "    </tr>\n",
              "    <tr>\n",
              "      <th>ANTIOQUIA</th>\n",
              "      <td>7</td>\n",
              "      <td>40</td>\n",
              "      <td>2597</td>\n",
              "    </tr>\n",
              "    <tr>\n",
              "      <th>ARAUCA</th>\n",
              "      <td>4</td>\n",
              "      <td>12</td>\n",
              "      <td>637</td>\n",
              "    </tr>\n",
              "    <tr>\n",
              "      <th>ATLANTICO</th>\n",
              "      <td>0</td>\n",
              "      <td>0</td>\n",
              "      <td>8</td>\n",
              "    </tr>\n",
              "    <tr>\n",
              "      <th>BOGOTA DC</th>\n",
              "      <td>0</td>\n",
              "      <td>0</td>\n",
              "      <td>30</td>\n",
              "    </tr>\n",
              "  </tbody>\n",
              "</table>\n",
              "</div>\n",
              "      <button class=\"colab-df-convert\" onclick=\"convertToInteractive('df-46b7b01c-a0e3-4de4-b5dd-cbcd98f39fd8')\"\n",
              "              title=\"Convert this dataframe to an interactive table.\"\n",
              "              style=\"display:none;\">\n",
              "        \n",
              "  <svg xmlns=\"http://www.w3.org/2000/svg\" height=\"24px\"viewBox=\"0 0 24 24\"\n",
              "       width=\"24px\">\n",
              "    <path d=\"M0 0h24v24H0V0z\" fill=\"none\"/>\n",
              "    <path d=\"M18.56 5.44l.94 2.06.94-2.06 2.06-.94-2.06-.94-.94-2.06-.94 2.06-2.06.94zm-11 1L8.5 8.5l.94-2.06 2.06-.94-2.06-.94L8.5 2.5l-.94 2.06-2.06.94zm10 10l.94 2.06.94-2.06 2.06-.94-2.06-.94-.94-2.06-.94 2.06-2.06.94z\"/><path d=\"M17.41 7.96l-1.37-1.37c-.4-.4-.92-.59-1.43-.59-.52 0-1.04.2-1.43.59L10.3 9.45l-7.72 7.72c-.78.78-.78 2.05 0 2.83L4 21.41c.39.39.9.59 1.41.59.51 0 1.02-.2 1.41-.59l7.78-7.78 2.81-2.81c.8-.78.8-2.07 0-2.86zM5.41 20L4 18.59l7.72-7.72 1.47 1.35L5.41 20z\"/>\n",
              "  </svg>\n",
              "      </button>\n",
              "      \n",
              "  <style>\n",
              "    .colab-df-container {\n",
              "      display:flex;\n",
              "      flex-wrap:wrap;\n",
              "      gap: 12px;\n",
              "    }\n",
              "\n",
              "    .colab-df-convert {\n",
              "      background-color: #E8F0FE;\n",
              "      border: none;\n",
              "      border-radius: 50%;\n",
              "      cursor: pointer;\n",
              "      display: none;\n",
              "      fill: #1967D2;\n",
              "      height: 32px;\n",
              "      padding: 0 0 0 0;\n",
              "      width: 32px;\n",
              "    }\n",
              "\n",
              "    .colab-df-convert:hover {\n",
              "      background-color: #E2EBFA;\n",
              "      box-shadow: 0px 1px 2px rgba(60, 64, 67, 0.3), 0px 1px 3px 1px rgba(60, 64, 67, 0.15);\n",
              "      fill: #174EA6;\n",
              "    }\n",
              "\n",
              "    [theme=dark] .colab-df-convert {\n",
              "      background-color: #3B4455;\n",
              "      fill: #D2E3FC;\n",
              "    }\n",
              "\n",
              "    [theme=dark] .colab-df-convert:hover {\n",
              "      background-color: #434B5C;\n",
              "      box-shadow: 0px 1px 3px 1px rgba(0, 0, 0, 0.15);\n",
              "      filter: drop-shadow(0px 1px 2px rgba(0, 0, 0, 0.3));\n",
              "      fill: #FFFFFF;\n",
              "    }\n",
              "  </style>\n",
              "\n",
              "      <script>\n",
              "        const buttonEl =\n",
              "          document.querySelector('#df-46b7b01c-a0e3-4de4-b5dd-cbcd98f39fd8 button.colab-df-convert');\n",
              "        buttonEl.style.display =\n",
              "          google.colab.kernel.accessAllowed ? 'block' : 'none';\n",
              "\n",
              "        async function convertToInteractive(key) {\n",
              "          const element = document.querySelector('#df-46b7b01c-a0e3-4de4-b5dd-cbcd98f39fd8');\n",
              "          const dataTable =\n",
              "            await google.colab.kernel.invokeFunction('convertToInteractive',\n",
              "                                                     [key], {});\n",
              "          if (!dataTable) return;\n",
              "\n",
              "          const docLinkHtml = 'Like what you see? Visit the ' +\n",
              "            '<a target=\"_blank\" href=https://colab.research.google.com/notebooks/data_table.ipynb>data table notebook</a>'\n",
              "            + ' to learn more about interactive tables.';\n",
              "          element.innerHTML = '';\n",
              "          dataTable['output_type'] = 'display_data';\n",
              "          await google.colab.output.renderOutput(dataTable, element);\n",
              "          const docLink = document.createElement('div');\n",
              "          docLink.innerHTML = docLinkHtml;\n",
              "          element.appendChild(docLink);\n",
              "        }\n",
              "      </script>\n",
              "    </div>\n",
              "  </div>\n",
              "  "
            ]
          },
          "metadata": {},
          "execution_count": 20
        }
      ]
    },
    {
      "cell_type": "markdown",
      "source": [
        "##**T5**"
      ],
      "metadata": {
        "id": "ZJftcoQIpUdF"
      }
    },
    {
      "cell_type": "code",
      "source": [
        "T5=pd.crosstab(victimas_minas_df.departamento,victimas_minas_df.rangoedad)"
      ],
      "metadata": {
        "id": "H4gGM983pYWa"
      },
      "execution_count": null,
      "outputs": []
    },
    {
      "cell_type": "code",
      "source": [
        "T5.head()"
      ],
      "metadata": {
        "colab": {
          "base_uri": "https://localhost:8080/",
          "height": 238
        },
        "id": "mBUW8sFMptMl",
        "outputId": "24c22022-f9da-4297-d9b3-27ff564d94c0"
      },
      "execution_count": null,
      "outputs": [
        {
          "output_type": "execute_result",
          "data": {
            "text/plain": [
              "rangoedad     Mayor de 18 años  Menor de 18 años\n",
              "departamento                                    \n",
              "AMAZONAS                     4                 0\n",
              "ANTIOQUIA                 2354               290\n",
              "ARAUCA                     599                54\n",
              "ATLANTICO                    1                 7\n",
              "BOGOTA DC                   22                 8"
            ],
            "text/html": [
              "\n",
              "  <div id=\"df-1230d0c7-05ce-4ee4-b210-a3d88a994cff\">\n",
              "    <div class=\"colab-df-container\">\n",
              "      <div>\n",
              "<style scoped>\n",
              "    .dataframe tbody tr th:only-of-type {\n",
              "        vertical-align: middle;\n",
              "    }\n",
              "\n",
              "    .dataframe tbody tr th {\n",
              "        vertical-align: top;\n",
              "    }\n",
              "\n",
              "    .dataframe thead th {\n",
              "        text-align: right;\n",
              "    }\n",
              "</style>\n",
              "<table border=\"1\" class=\"dataframe\">\n",
              "  <thead>\n",
              "    <tr style=\"text-align: right;\">\n",
              "      <th>rangoedad</th>\n",
              "      <th>Mayor de 18 años</th>\n",
              "      <th>Menor de 18 años</th>\n",
              "    </tr>\n",
              "    <tr>\n",
              "      <th>departamento</th>\n",
              "      <th></th>\n",
              "      <th></th>\n",
              "    </tr>\n",
              "  </thead>\n",
              "  <tbody>\n",
              "    <tr>\n",
              "      <th>AMAZONAS</th>\n",
              "      <td>4</td>\n",
              "      <td>0</td>\n",
              "    </tr>\n",
              "    <tr>\n",
              "      <th>ANTIOQUIA</th>\n",
              "      <td>2354</td>\n",
              "      <td>290</td>\n",
              "    </tr>\n",
              "    <tr>\n",
              "      <th>ARAUCA</th>\n",
              "      <td>599</td>\n",
              "      <td>54</td>\n",
              "    </tr>\n",
              "    <tr>\n",
              "      <th>ATLANTICO</th>\n",
              "      <td>1</td>\n",
              "      <td>7</td>\n",
              "    </tr>\n",
              "    <tr>\n",
              "      <th>BOGOTA DC</th>\n",
              "      <td>22</td>\n",
              "      <td>8</td>\n",
              "    </tr>\n",
              "  </tbody>\n",
              "</table>\n",
              "</div>\n",
              "      <button class=\"colab-df-convert\" onclick=\"convertToInteractive('df-1230d0c7-05ce-4ee4-b210-a3d88a994cff')\"\n",
              "              title=\"Convert this dataframe to an interactive table.\"\n",
              "              style=\"display:none;\">\n",
              "        \n",
              "  <svg xmlns=\"http://www.w3.org/2000/svg\" height=\"24px\"viewBox=\"0 0 24 24\"\n",
              "       width=\"24px\">\n",
              "    <path d=\"M0 0h24v24H0V0z\" fill=\"none\"/>\n",
              "    <path d=\"M18.56 5.44l.94 2.06.94-2.06 2.06-.94-2.06-.94-.94-2.06-.94 2.06-2.06.94zm-11 1L8.5 8.5l.94-2.06 2.06-.94-2.06-.94L8.5 2.5l-.94 2.06-2.06.94zm10 10l.94 2.06.94-2.06 2.06-.94-2.06-.94-.94-2.06-.94 2.06-2.06.94z\"/><path d=\"M17.41 7.96l-1.37-1.37c-.4-.4-.92-.59-1.43-.59-.52 0-1.04.2-1.43.59L10.3 9.45l-7.72 7.72c-.78.78-.78 2.05 0 2.83L4 21.41c.39.39.9.59 1.41.59.51 0 1.02-.2 1.41-.59l7.78-7.78 2.81-2.81c.8-.78.8-2.07 0-2.86zM5.41 20L4 18.59l7.72-7.72 1.47 1.35L5.41 20z\"/>\n",
              "  </svg>\n",
              "      </button>\n",
              "      \n",
              "  <style>\n",
              "    .colab-df-container {\n",
              "      display:flex;\n",
              "      flex-wrap:wrap;\n",
              "      gap: 12px;\n",
              "    }\n",
              "\n",
              "    .colab-df-convert {\n",
              "      background-color: #E8F0FE;\n",
              "      border: none;\n",
              "      border-radius: 50%;\n",
              "      cursor: pointer;\n",
              "      display: none;\n",
              "      fill: #1967D2;\n",
              "      height: 32px;\n",
              "      padding: 0 0 0 0;\n",
              "      width: 32px;\n",
              "    }\n",
              "\n",
              "    .colab-df-convert:hover {\n",
              "      background-color: #E2EBFA;\n",
              "      box-shadow: 0px 1px 2px rgba(60, 64, 67, 0.3), 0px 1px 3px 1px rgba(60, 64, 67, 0.15);\n",
              "      fill: #174EA6;\n",
              "    }\n",
              "\n",
              "    [theme=dark] .colab-df-convert {\n",
              "      background-color: #3B4455;\n",
              "      fill: #D2E3FC;\n",
              "    }\n",
              "\n",
              "    [theme=dark] .colab-df-convert:hover {\n",
              "      background-color: #434B5C;\n",
              "      box-shadow: 0px 1px 3px 1px rgba(0, 0, 0, 0.15);\n",
              "      filter: drop-shadow(0px 1px 2px rgba(0, 0, 0, 0.3));\n",
              "      fill: #FFFFFF;\n",
              "    }\n",
              "  </style>\n",
              "\n",
              "      <script>\n",
              "        const buttonEl =\n",
              "          document.querySelector('#df-1230d0c7-05ce-4ee4-b210-a3d88a994cff button.colab-df-convert');\n",
              "        buttonEl.style.display =\n",
              "          google.colab.kernel.accessAllowed ? 'block' : 'none';\n",
              "\n",
              "        async function convertToInteractive(key) {\n",
              "          const element = document.querySelector('#df-1230d0c7-05ce-4ee4-b210-a3d88a994cff');\n",
              "          const dataTable =\n",
              "            await google.colab.kernel.invokeFunction('convertToInteractive',\n",
              "                                                     [key], {});\n",
              "          if (!dataTable) return;\n",
              "\n",
              "          const docLinkHtml = 'Like what you see? Visit the ' +\n",
              "            '<a target=\"_blank\" href=https://colab.research.google.com/notebooks/data_table.ipynb>data table notebook</a>'\n",
              "            + ' to learn more about interactive tables.';\n",
              "          element.innerHTML = '';\n",
              "          dataTable['output_type'] = 'display_data';\n",
              "          await google.colab.output.renderOutput(dataTable, element);\n",
              "          const docLink = document.createElement('div');\n",
              "          docLink.innerHTML = docLinkHtml;\n",
              "          element.appendChild(docLink);\n",
              "        }\n",
              "      </script>\n",
              "    </div>\n",
              "  </div>\n",
              "  "
            ]
          },
          "metadata": {},
          "execution_count": 28
        }
      ]
    },
    {
      "cell_type": "markdown",
      "source": [
        "##**T6**"
      ],
      "metadata": {
        "id": "JfKOCK9Up7A6"
      }
    },
    {
      "cell_type": "code",
      "source": [
        "T6=pd.crosstab(victimas_minas_df.departamento,victimas_minas_df.genero)"
      ],
      "metadata": {
        "id": "hcsPykBWp9oo"
      },
      "execution_count": null,
      "outputs": []
    },
    {
      "cell_type": "markdown",
      "source": [
        "##**Unir los dataset**"
      ],
      "metadata": {
        "id": "P-m21UbxCLaC"
      }
    },
    {
      "cell_type": "code",
      "source": [
        "#Unir los dataframes\n",
        "DF_1=pd.merge(T1,T2,how='inner',on='departamento')"
      ],
      "metadata": {
        "id": "tjPNz3e-CF-R"
      },
      "execution_count": null,
      "outputs": []
    },
    {
      "cell_type": "code",
      "source": [
        "DF_1.head()"
      ],
      "metadata": {
        "colab": {
          "base_uri": "https://localhost:8080/",
          "height": 238
        },
        "id": "S0Wy0f4SrXOl",
        "outputId": "37eba7c7-da14-4731-83be-aecc240834c4"
      },
      "execution_count": null,
      "outputs": [
        {
          "output_type": "execute_result",
          "data": {
            "text/plain": [
              "              Herido  Muerto  Civil  Fuerza pública\n",
              "departamento                                       \n",
              "AMAZONAS           2       2      1               3\n",
              "ANTIOQUIA       2226     418   1213            1431\n",
              "ARAUCA           535     118    230             423\n",
              "ATLANTICO          7       1      8               0\n",
              "BOGOTA DC         19      11     11              19"
            ],
            "text/html": [
              "\n",
              "  <div id=\"df-057851d1-2fb1-4e16-99da-a56159e311a6\">\n",
              "    <div class=\"colab-df-container\">\n",
              "      <div>\n",
              "<style scoped>\n",
              "    .dataframe tbody tr th:only-of-type {\n",
              "        vertical-align: middle;\n",
              "    }\n",
              "\n",
              "    .dataframe tbody tr th {\n",
              "        vertical-align: top;\n",
              "    }\n",
              "\n",
              "    .dataframe thead th {\n",
              "        text-align: right;\n",
              "    }\n",
              "</style>\n",
              "<table border=\"1\" class=\"dataframe\">\n",
              "  <thead>\n",
              "    <tr style=\"text-align: right;\">\n",
              "      <th></th>\n",
              "      <th>Herido</th>\n",
              "      <th>Muerto</th>\n",
              "      <th>Civil</th>\n",
              "      <th>Fuerza pública</th>\n",
              "    </tr>\n",
              "    <tr>\n",
              "      <th>departamento</th>\n",
              "      <th></th>\n",
              "      <th></th>\n",
              "      <th></th>\n",
              "      <th></th>\n",
              "    </tr>\n",
              "  </thead>\n",
              "  <tbody>\n",
              "    <tr>\n",
              "      <th>AMAZONAS</th>\n",
              "      <td>2</td>\n",
              "      <td>2</td>\n",
              "      <td>1</td>\n",
              "      <td>3</td>\n",
              "    </tr>\n",
              "    <tr>\n",
              "      <th>ANTIOQUIA</th>\n",
              "      <td>2226</td>\n",
              "      <td>418</td>\n",
              "      <td>1213</td>\n",
              "      <td>1431</td>\n",
              "    </tr>\n",
              "    <tr>\n",
              "      <th>ARAUCA</th>\n",
              "      <td>535</td>\n",
              "      <td>118</td>\n",
              "      <td>230</td>\n",
              "      <td>423</td>\n",
              "    </tr>\n",
              "    <tr>\n",
              "      <th>ATLANTICO</th>\n",
              "      <td>7</td>\n",
              "      <td>1</td>\n",
              "      <td>8</td>\n",
              "      <td>0</td>\n",
              "    </tr>\n",
              "    <tr>\n",
              "      <th>BOGOTA DC</th>\n",
              "      <td>19</td>\n",
              "      <td>11</td>\n",
              "      <td>11</td>\n",
              "      <td>19</td>\n",
              "    </tr>\n",
              "  </tbody>\n",
              "</table>\n",
              "</div>\n",
              "      <button class=\"colab-df-convert\" onclick=\"convertToInteractive('df-057851d1-2fb1-4e16-99da-a56159e311a6')\"\n",
              "              title=\"Convert this dataframe to an interactive table.\"\n",
              "              style=\"display:none;\">\n",
              "        \n",
              "  <svg xmlns=\"http://www.w3.org/2000/svg\" height=\"24px\"viewBox=\"0 0 24 24\"\n",
              "       width=\"24px\">\n",
              "    <path d=\"M0 0h24v24H0V0z\" fill=\"none\"/>\n",
              "    <path d=\"M18.56 5.44l.94 2.06.94-2.06 2.06-.94-2.06-.94-.94-2.06-.94 2.06-2.06.94zm-11 1L8.5 8.5l.94-2.06 2.06-.94-2.06-.94L8.5 2.5l-.94 2.06-2.06.94zm10 10l.94 2.06.94-2.06 2.06-.94-2.06-.94-.94-2.06-.94 2.06-2.06.94z\"/><path d=\"M17.41 7.96l-1.37-1.37c-.4-.4-.92-.59-1.43-.59-.52 0-1.04.2-1.43.59L10.3 9.45l-7.72 7.72c-.78.78-.78 2.05 0 2.83L4 21.41c.39.39.9.59 1.41.59.51 0 1.02-.2 1.41-.59l7.78-7.78 2.81-2.81c.8-.78.8-2.07 0-2.86zM5.41 20L4 18.59l7.72-7.72 1.47 1.35L5.41 20z\"/>\n",
              "  </svg>\n",
              "      </button>\n",
              "      \n",
              "  <style>\n",
              "    .colab-df-container {\n",
              "      display:flex;\n",
              "      flex-wrap:wrap;\n",
              "      gap: 12px;\n",
              "    }\n",
              "\n",
              "    .colab-df-convert {\n",
              "      background-color: #E8F0FE;\n",
              "      border: none;\n",
              "      border-radius: 50%;\n",
              "      cursor: pointer;\n",
              "      display: none;\n",
              "      fill: #1967D2;\n",
              "      height: 32px;\n",
              "      padding: 0 0 0 0;\n",
              "      width: 32px;\n",
              "    }\n",
              "\n",
              "    .colab-df-convert:hover {\n",
              "      background-color: #E2EBFA;\n",
              "      box-shadow: 0px 1px 2px rgba(60, 64, 67, 0.3), 0px 1px 3px 1px rgba(60, 64, 67, 0.15);\n",
              "      fill: #174EA6;\n",
              "    }\n",
              "\n",
              "    [theme=dark] .colab-df-convert {\n",
              "      background-color: #3B4455;\n",
              "      fill: #D2E3FC;\n",
              "    }\n",
              "\n",
              "    [theme=dark] .colab-df-convert:hover {\n",
              "      background-color: #434B5C;\n",
              "      box-shadow: 0px 1px 3px 1px rgba(0, 0, 0, 0.15);\n",
              "      filter: drop-shadow(0px 1px 2px rgba(0, 0, 0, 0.3));\n",
              "      fill: #FFFFFF;\n",
              "    }\n",
              "  </style>\n",
              "\n",
              "      <script>\n",
              "        const buttonEl =\n",
              "          document.querySelector('#df-057851d1-2fb1-4e16-99da-a56159e311a6 button.colab-df-convert');\n",
              "        buttonEl.style.display =\n",
              "          google.colab.kernel.accessAllowed ? 'block' : 'none';\n",
              "\n",
              "        async function convertToInteractive(key) {\n",
              "          const element = document.querySelector('#df-057851d1-2fb1-4e16-99da-a56159e311a6');\n",
              "          const dataTable =\n",
              "            await google.colab.kernel.invokeFunction('convertToInteractive',\n",
              "                                                     [key], {});\n",
              "          if (!dataTable) return;\n",
              "\n",
              "          const docLinkHtml = 'Like what you see? Visit the ' +\n",
              "            '<a target=\"_blank\" href=https://colab.research.google.com/notebooks/data_table.ipynb>data table notebook</a>'\n",
              "            + ' to learn more about interactive tables.';\n",
              "          element.innerHTML = '';\n",
              "          dataTable['output_type'] = 'display_data';\n",
              "          await google.colab.output.renderOutput(dataTable, element);\n",
              "          const docLink = document.createElement('div');\n",
              "          docLink.innerHTML = docLinkHtml;\n",
              "          element.appendChild(docLink);\n",
              "        }\n",
              "      </script>\n",
              "    </div>\n",
              "  </div>\n",
              "  "
            ]
          },
          "metadata": {},
          "execution_count": 45
        }
      ]
    },
    {
      "cell_type": "code",
      "source": [
        "#Cruzar con T3\n",
        "DF_2=pd.merge(T3,DF_1,how='inner',on='departamento')\n"
      ],
      "metadata": {
        "id": "HAyvjS7hpEvI"
      },
      "execution_count": null,
      "outputs": []
    },
    {
      "cell_type": "code",
      "source": [
        "DF_2.head()"
      ],
      "metadata": {
        "colab": {
          "base_uri": "https://localhost:8080/",
          "height": 238
        },
        "id": "7M55CpaPq3Ew",
        "outputId": "ca23a051-8de8-4fde-e443-ccfb2b208c2a"
      },
      "execution_count": null,
      "outputs": [
        {
          "output_type": "execute_result",
          "data": {
            "text/plain": [
              "              Rural  Urbana  Herido  Muerto  Civil  Fuerza pública\n",
              "departamento                                                      \n",
              "AMAZONAS          4       0       2       2      1               3\n",
              "ANTIOQUIA      2581      63    2226     418   1213            1431\n",
              "ARAUCA          641      12     535     118    230             423\n",
              "ATLANTICO         2       6       7       1      8               0\n",
              "BOGOTA DC        20      10      19      11     11              19"
            ],
            "text/html": [
              "\n",
              "  <div id=\"df-8bc6e324-f930-4603-98d5-cbfb8bbb4296\">\n",
              "    <div class=\"colab-df-container\">\n",
              "      <div>\n",
              "<style scoped>\n",
              "    .dataframe tbody tr th:only-of-type {\n",
              "        vertical-align: middle;\n",
              "    }\n",
              "\n",
              "    .dataframe tbody tr th {\n",
              "        vertical-align: top;\n",
              "    }\n",
              "\n",
              "    .dataframe thead th {\n",
              "        text-align: right;\n",
              "    }\n",
              "</style>\n",
              "<table border=\"1\" class=\"dataframe\">\n",
              "  <thead>\n",
              "    <tr style=\"text-align: right;\">\n",
              "      <th></th>\n",
              "      <th>Rural</th>\n",
              "      <th>Urbana</th>\n",
              "      <th>Herido</th>\n",
              "      <th>Muerto</th>\n",
              "      <th>Civil</th>\n",
              "      <th>Fuerza pública</th>\n",
              "    </tr>\n",
              "    <tr>\n",
              "      <th>departamento</th>\n",
              "      <th></th>\n",
              "      <th></th>\n",
              "      <th></th>\n",
              "      <th></th>\n",
              "      <th></th>\n",
              "      <th></th>\n",
              "    </tr>\n",
              "  </thead>\n",
              "  <tbody>\n",
              "    <tr>\n",
              "      <th>AMAZONAS</th>\n",
              "      <td>4</td>\n",
              "      <td>0</td>\n",
              "      <td>2</td>\n",
              "      <td>2</td>\n",
              "      <td>1</td>\n",
              "      <td>3</td>\n",
              "    </tr>\n",
              "    <tr>\n",
              "      <th>ANTIOQUIA</th>\n",
              "      <td>2581</td>\n",
              "      <td>63</td>\n",
              "      <td>2226</td>\n",
              "      <td>418</td>\n",
              "      <td>1213</td>\n",
              "      <td>1431</td>\n",
              "    </tr>\n",
              "    <tr>\n",
              "      <th>ARAUCA</th>\n",
              "      <td>641</td>\n",
              "      <td>12</td>\n",
              "      <td>535</td>\n",
              "      <td>118</td>\n",
              "      <td>230</td>\n",
              "      <td>423</td>\n",
              "    </tr>\n",
              "    <tr>\n",
              "      <th>ATLANTICO</th>\n",
              "      <td>2</td>\n",
              "      <td>6</td>\n",
              "      <td>7</td>\n",
              "      <td>1</td>\n",
              "      <td>8</td>\n",
              "      <td>0</td>\n",
              "    </tr>\n",
              "    <tr>\n",
              "      <th>BOGOTA DC</th>\n",
              "      <td>20</td>\n",
              "      <td>10</td>\n",
              "      <td>19</td>\n",
              "      <td>11</td>\n",
              "      <td>11</td>\n",
              "      <td>19</td>\n",
              "    </tr>\n",
              "  </tbody>\n",
              "</table>\n",
              "</div>\n",
              "      <button class=\"colab-df-convert\" onclick=\"convertToInteractive('df-8bc6e324-f930-4603-98d5-cbfb8bbb4296')\"\n",
              "              title=\"Convert this dataframe to an interactive table.\"\n",
              "              style=\"display:none;\">\n",
              "        \n",
              "  <svg xmlns=\"http://www.w3.org/2000/svg\" height=\"24px\"viewBox=\"0 0 24 24\"\n",
              "       width=\"24px\">\n",
              "    <path d=\"M0 0h24v24H0V0z\" fill=\"none\"/>\n",
              "    <path d=\"M18.56 5.44l.94 2.06.94-2.06 2.06-.94-2.06-.94-.94-2.06-.94 2.06-2.06.94zm-11 1L8.5 8.5l.94-2.06 2.06-.94-2.06-.94L8.5 2.5l-.94 2.06-2.06.94zm10 10l.94 2.06.94-2.06 2.06-.94-2.06-.94-.94-2.06-.94 2.06-2.06.94z\"/><path d=\"M17.41 7.96l-1.37-1.37c-.4-.4-.92-.59-1.43-.59-.52 0-1.04.2-1.43.59L10.3 9.45l-7.72 7.72c-.78.78-.78 2.05 0 2.83L4 21.41c.39.39.9.59 1.41.59.51 0 1.02-.2 1.41-.59l7.78-7.78 2.81-2.81c.8-.78.8-2.07 0-2.86zM5.41 20L4 18.59l7.72-7.72 1.47 1.35L5.41 20z\"/>\n",
              "  </svg>\n",
              "      </button>\n",
              "      \n",
              "  <style>\n",
              "    .colab-df-container {\n",
              "      display:flex;\n",
              "      flex-wrap:wrap;\n",
              "      gap: 12px;\n",
              "    }\n",
              "\n",
              "    .colab-df-convert {\n",
              "      background-color: #E8F0FE;\n",
              "      border: none;\n",
              "      border-radius: 50%;\n",
              "      cursor: pointer;\n",
              "      display: none;\n",
              "      fill: #1967D2;\n",
              "      height: 32px;\n",
              "      padding: 0 0 0 0;\n",
              "      width: 32px;\n",
              "    }\n",
              "\n",
              "    .colab-df-convert:hover {\n",
              "      background-color: #E2EBFA;\n",
              "      box-shadow: 0px 1px 2px rgba(60, 64, 67, 0.3), 0px 1px 3px 1px rgba(60, 64, 67, 0.15);\n",
              "      fill: #174EA6;\n",
              "    }\n",
              "\n",
              "    [theme=dark] .colab-df-convert {\n",
              "      background-color: #3B4455;\n",
              "      fill: #D2E3FC;\n",
              "    }\n",
              "\n",
              "    [theme=dark] .colab-df-convert:hover {\n",
              "      background-color: #434B5C;\n",
              "      box-shadow: 0px 1px 3px 1px rgba(0, 0, 0, 0.15);\n",
              "      filter: drop-shadow(0px 1px 2px rgba(0, 0, 0, 0.3));\n",
              "      fill: #FFFFFF;\n",
              "    }\n",
              "  </style>\n",
              "\n",
              "      <script>\n",
              "        const buttonEl =\n",
              "          document.querySelector('#df-8bc6e324-f930-4603-98d5-cbfb8bbb4296 button.colab-df-convert');\n",
              "        buttonEl.style.display =\n",
              "          google.colab.kernel.accessAllowed ? 'block' : 'none';\n",
              "\n",
              "        async function convertToInteractive(key) {\n",
              "          const element = document.querySelector('#df-8bc6e324-f930-4603-98d5-cbfb8bbb4296');\n",
              "          const dataTable =\n",
              "            await google.colab.kernel.invokeFunction('convertToInteractive',\n",
              "                                                     [key], {});\n",
              "          if (!dataTable) return;\n",
              "\n",
              "          const docLinkHtml = 'Like what you see? Visit the ' +\n",
              "            '<a target=\"_blank\" href=https://colab.research.google.com/notebooks/data_table.ipynb>data table notebook</a>'\n",
              "            + ' to learn more about interactive tables.';\n",
              "          element.innerHTML = '';\n",
              "          dataTable['output_type'] = 'display_data';\n",
              "          await google.colab.output.renderOutput(dataTable, element);\n",
              "          const docLink = document.createElement('div');\n",
              "          docLink.innerHTML = docLinkHtml;\n",
              "          element.appendChild(docLink);\n",
              "        }\n",
              "      </script>\n",
              "    </div>\n",
              "  </div>\n",
              "  "
            ]
          },
          "metadata": {},
          "execution_count": 47
        }
      ]
    },
    {
      "cell_type": "code",
      "source": [
        "#Cruzar con T4\n",
        "DF_3=pd.merge(T4,DF_2,how='inner',on='departamento')"
      ],
      "metadata": {
        "id": "fU6POwFDrk4t"
      },
      "execution_count": null,
      "outputs": []
    },
    {
      "cell_type": "code",
      "source": [
        "DF_3.head()"
      ],
      "metadata": {
        "colab": {
          "base_uri": "https://localhost:8080/",
          "height": 238
        },
        "id": "FY08PdCir1JS",
        "outputId": "a8ef7646-67e5-4e58-f30d-b8ddb6c9ef11"
      },
      "execution_count": null,
      "outputs": [
        {
          "output_type": "execute_result",
          "data": {
            "text/plain": [
              "              Afrodescendiente  Indigena    No  Rural  Urbana  Herido  Muerto  \\\n",
              "departamento                                                                    \n",
              "AMAZONAS                     0         0     4      4       0       2       2   \n",
              "ANTIOQUIA                    7        40  2597   2581      63    2226     418   \n",
              "ARAUCA                       4        12   637    641      12     535     118   \n",
              "ATLANTICO                    0         0     8      2       6       7       1   \n",
              "BOGOTA DC                    0         0    30     20      10      19      11   \n",
              "\n",
              "              Civil  Fuerza pública  \n",
              "departamento                         \n",
              "AMAZONAS          1               3  \n",
              "ANTIOQUIA      1213            1431  \n",
              "ARAUCA          230             423  \n",
              "ATLANTICO         8               0  \n",
              "BOGOTA DC        11              19  "
            ],
            "text/html": [
              "\n",
              "  <div id=\"df-a59af2ec-eb1d-49cb-ae53-96d2c9da476e\">\n",
              "    <div class=\"colab-df-container\">\n",
              "      <div>\n",
              "<style scoped>\n",
              "    .dataframe tbody tr th:only-of-type {\n",
              "        vertical-align: middle;\n",
              "    }\n",
              "\n",
              "    .dataframe tbody tr th {\n",
              "        vertical-align: top;\n",
              "    }\n",
              "\n",
              "    .dataframe thead th {\n",
              "        text-align: right;\n",
              "    }\n",
              "</style>\n",
              "<table border=\"1\" class=\"dataframe\">\n",
              "  <thead>\n",
              "    <tr style=\"text-align: right;\">\n",
              "      <th></th>\n",
              "      <th>Afrodescendiente</th>\n",
              "      <th>Indigena</th>\n",
              "      <th>No</th>\n",
              "      <th>Rural</th>\n",
              "      <th>Urbana</th>\n",
              "      <th>Herido</th>\n",
              "      <th>Muerto</th>\n",
              "      <th>Civil</th>\n",
              "      <th>Fuerza pública</th>\n",
              "    </tr>\n",
              "    <tr>\n",
              "      <th>departamento</th>\n",
              "      <th></th>\n",
              "      <th></th>\n",
              "      <th></th>\n",
              "      <th></th>\n",
              "      <th></th>\n",
              "      <th></th>\n",
              "      <th></th>\n",
              "      <th></th>\n",
              "      <th></th>\n",
              "    </tr>\n",
              "  </thead>\n",
              "  <tbody>\n",
              "    <tr>\n",
              "      <th>AMAZONAS</th>\n",
              "      <td>0</td>\n",
              "      <td>0</td>\n",
              "      <td>4</td>\n",
              "      <td>4</td>\n",
              "      <td>0</td>\n",
              "      <td>2</td>\n",
              "      <td>2</td>\n",
              "      <td>1</td>\n",
              "      <td>3</td>\n",
              "    </tr>\n",
              "    <tr>\n",
              "      <th>ANTIOQUIA</th>\n",
              "      <td>7</td>\n",
              "      <td>40</td>\n",
              "      <td>2597</td>\n",
              "      <td>2581</td>\n",
              "      <td>63</td>\n",
              "      <td>2226</td>\n",
              "      <td>418</td>\n",
              "      <td>1213</td>\n",
              "      <td>1431</td>\n",
              "    </tr>\n",
              "    <tr>\n",
              "      <th>ARAUCA</th>\n",
              "      <td>4</td>\n",
              "      <td>12</td>\n",
              "      <td>637</td>\n",
              "      <td>641</td>\n",
              "      <td>12</td>\n",
              "      <td>535</td>\n",
              "      <td>118</td>\n",
              "      <td>230</td>\n",
              "      <td>423</td>\n",
              "    </tr>\n",
              "    <tr>\n",
              "      <th>ATLANTICO</th>\n",
              "      <td>0</td>\n",
              "      <td>0</td>\n",
              "      <td>8</td>\n",
              "      <td>2</td>\n",
              "      <td>6</td>\n",
              "      <td>7</td>\n",
              "      <td>1</td>\n",
              "      <td>8</td>\n",
              "      <td>0</td>\n",
              "    </tr>\n",
              "    <tr>\n",
              "      <th>BOGOTA DC</th>\n",
              "      <td>0</td>\n",
              "      <td>0</td>\n",
              "      <td>30</td>\n",
              "      <td>20</td>\n",
              "      <td>10</td>\n",
              "      <td>19</td>\n",
              "      <td>11</td>\n",
              "      <td>11</td>\n",
              "      <td>19</td>\n",
              "    </tr>\n",
              "  </tbody>\n",
              "</table>\n",
              "</div>\n",
              "      <button class=\"colab-df-convert\" onclick=\"convertToInteractive('df-a59af2ec-eb1d-49cb-ae53-96d2c9da476e')\"\n",
              "              title=\"Convert this dataframe to an interactive table.\"\n",
              "              style=\"display:none;\">\n",
              "        \n",
              "  <svg xmlns=\"http://www.w3.org/2000/svg\" height=\"24px\"viewBox=\"0 0 24 24\"\n",
              "       width=\"24px\">\n",
              "    <path d=\"M0 0h24v24H0V0z\" fill=\"none\"/>\n",
              "    <path d=\"M18.56 5.44l.94 2.06.94-2.06 2.06-.94-2.06-.94-.94-2.06-.94 2.06-2.06.94zm-11 1L8.5 8.5l.94-2.06 2.06-.94-2.06-.94L8.5 2.5l-.94 2.06-2.06.94zm10 10l.94 2.06.94-2.06 2.06-.94-2.06-.94-.94-2.06-.94 2.06-2.06.94z\"/><path d=\"M17.41 7.96l-1.37-1.37c-.4-.4-.92-.59-1.43-.59-.52 0-1.04.2-1.43.59L10.3 9.45l-7.72 7.72c-.78.78-.78 2.05 0 2.83L4 21.41c.39.39.9.59 1.41.59.51 0 1.02-.2 1.41-.59l7.78-7.78 2.81-2.81c.8-.78.8-2.07 0-2.86zM5.41 20L4 18.59l7.72-7.72 1.47 1.35L5.41 20z\"/>\n",
              "  </svg>\n",
              "      </button>\n",
              "      \n",
              "  <style>\n",
              "    .colab-df-container {\n",
              "      display:flex;\n",
              "      flex-wrap:wrap;\n",
              "      gap: 12px;\n",
              "    }\n",
              "\n",
              "    .colab-df-convert {\n",
              "      background-color: #E8F0FE;\n",
              "      border: none;\n",
              "      border-radius: 50%;\n",
              "      cursor: pointer;\n",
              "      display: none;\n",
              "      fill: #1967D2;\n",
              "      height: 32px;\n",
              "      padding: 0 0 0 0;\n",
              "      width: 32px;\n",
              "    }\n",
              "\n",
              "    .colab-df-convert:hover {\n",
              "      background-color: #E2EBFA;\n",
              "      box-shadow: 0px 1px 2px rgba(60, 64, 67, 0.3), 0px 1px 3px 1px rgba(60, 64, 67, 0.15);\n",
              "      fill: #174EA6;\n",
              "    }\n",
              "\n",
              "    [theme=dark] .colab-df-convert {\n",
              "      background-color: #3B4455;\n",
              "      fill: #D2E3FC;\n",
              "    }\n",
              "\n",
              "    [theme=dark] .colab-df-convert:hover {\n",
              "      background-color: #434B5C;\n",
              "      box-shadow: 0px 1px 3px 1px rgba(0, 0, 0, 0.15);\n",
              "      filter: drop-shadow(0px 1px 2px rgba(0, 0, 0, 0.3));\n",
              "      fill: #FFFFFF;\n",
              "    }\n",
              "  </style>\n",
              "\n",
              "      <script>\n",
              "        const buttonEl =\n",
              "          document.querySelector('#df-a59af2ec-eb1d-49cb-ae53-96d2c9da476e button.colab-df-convert');\n",
              "        buttonEl.style.display =\n",
              "          google.colab.kernel.accessAllowed ? 'block' : 'none';\n",
              "\n",
              "        async function convertToInteractive(key) {\n",
              "          const element = document.querySelector('#df-a59af2ec-eb1d-49cb-ae53-96d2c9da476e');\n",
              "          const dataTable =\n",
              "            await google.colab.kernel.invokeFunction('convertToInteractive',\n",
              "                                                     [key], {});\n",
              "          if (!dataTable) return;\n",
              "\n",
              "          const docLinkHtml = 'Like what you see? Visit the ' +\n",
              "            '<a target=\"_blank\" href=https://colab.research.google.com/notebooks/data_table.ipynb>data table notebook</a>'\n",
              "            + ' to learn more about interactive tables.';\n",
              "          element.innerHTML = '';\n",
              "          dataTable['output_type'] = 'display_data';\n",
              "          await google.colab.output.renderOutput(dataTable, element);\n",
              "          const docLink = document.createElement('div');\n",
              "          docLink.innerHTML = docLinkHtml;\n",
              "          element.appendChild(docLink);\n",
              "        }\n",
              "      </script>\n",
              "    </div>\n",
              "  </div>\n",
              "  "
            ]
          },
          "metadata": {},
          "execution_count": 49
        }
      ]
    },
    {
      "cell_type": "code",
      "source": [
        "#cruzar con T5\n",
        "DF_final=pd.merge(T5,DF_3,how='inner',on='departamento')"
      ],
      "metadata": {
        "id": "_b2ImQmgshC6"
      },
      "execution_count": null,
      "outputs": []
    },
    {
      "cell_type": "code",
      "source": [
        "DF_\n"
      ],
      "metadata": {
        "colab": {
          "base_uri": "https://localhost:8080/",
          "height": 238
        },
        "id": "5YLQPMXLs0pc",
        "outputId": "445d0f62-9cfb-4cb7-c2be-c5191db9f9a3"
      },
      "execution_count": null,
      "outputs": [
        {
          "output_type": "execute_result",
          "data": {
            "text/plain": [
              "              Mayor de 18 años  Menor de 18 años  Afrodescendiente  Indigena  \\\n",
              "departamento                                                                   \n",
              "AMAZONAS                     4                 0                 0         0   \n",
              "ANTIOQUIA                 2354               290                 7        40   \n",
              "ARAUCA                     599                54                 4        12   \n",
              "ATLANTICO                    1                 7                 0         0   \n",
              "BOGOTA DC                   22                 8                 0         0   \n",
              "\n",
              "                No  Rural  Urbana  Herido  Muerto  Civil  Fuerza pública  \n",
              "departamento                                                              \n",
              "AMAZONAS         4      4       0       2       2      1               3  \n",
              "ANTIOQUIA     2597   2581      63    2226     418   1213            1431  \n",
              "ARAUCA         637    641      12     535     118    230             423  \n",
              "ATLANTICO        8      2       6       7       1      8               0  \n",
              "BOGOTA DC       30     20      10      19      11     11              19  "
            ],
            "text/html": [
              "\n",
              "  <div id=\"df-5bfb46ee-6171-444a-bfd0-7bd0936b7b91\">\n",
              "    <div class=\"colab-df-container\">\n",
              "      <div>\n",
              "<style scoped>\n",
              "    .dataframe tbody tr th:only-of-type {\n",
              "        vertical-align: middle;\n",
              "    }\n",
              "\n",
              "    .dataframe tbody tr th {\n",
              "        vertical-align: top;\n",
              "    }\n",
              "\n",
              "    .dataframe thead th {\n",
              "        text-align: right;\n",
              "    }\n",
              "</style>\n",
              "<table border=\"1\" class=\"dataframe\">\n",
              "  <thead>\n",
              "    <tr style=\"text-align: right;\">\n",
              "      <th></th>\n",
              "      <th>Mayor de 18 años</th>\n",
              "      <th>Menor de 18 años</th>\n",
              "      <th>Afrodescendiente</th>\n",
              "      <th>Indigena</th>\n",
              "      <th>No</th>\n",
              "      <th>Rural</th>\n",
              "      <th>Urbana</th>\n",
              "      <th>Herido</th>\n",
              "      <th>Muerto</th>\n",
              "      <th>Civil</th>\n",
              "      <th>Fuerza pública</th>\n",
              "    </tr>\n",
              "    <tr>\n",
              "      <th>departamento</th>\n",
              "      <th></th>\n",
              "      <th></th>\n",
              "      <th></th>\n",
              "      <th></th>\n",
              "      <th></th>\n",
              "      <th></th>\n",
              "      <th></th>\n",
              "      <th></th>\n",
              "      <th></th>\n",
              "      <th></th>\n",
              "      <th></th>\n",
              "    </tr>\n",
              "  </thead>\n",
              "  <tbody>\n",
              "    <tr>\n",
              "      <th>AMAZONAS</th>\n",
              "      <td>4</td>\n",
              "      <td>0</td>\n",
              "      <td>0</td>\n",
              "      <td>0</td>\n",
              "      <td>4</td>\n",
              "      <td>4</td>\n",
              "      <td>0</td>\n",
              "      <td>2</td>\n",
              "      <td>2</td>\n",
              "      <td>1</td>\n",
              "      <td>3</td>\n",
              "    </tr>\n",
              "    <tr>\n",
              "      <th>ANTIOQUIA</th>\n",
              "      <td>2354</td>\n",
              "      <td>290</td>\n",
              "      <td>7</td>\n",
              "      <td>40</td>\n",
              "      <td>2597</td>\n",
              "      <td>2581</td>\n",
              "      <td>63</td>\n",
              "      <td>2226</td>\n",
              "      <td>418</td>\n",
              "      <td>1213</td>\n",
              "      <td>1431</td>\n",
              "    </tr>\n",
              "    <tr>\n",
              "      <th>ARAUCA</th>\n",
              "      <td>599</td>\n",
              "      <td>54</td>\n",
              "      <td>4</td>\n",
              "      <td>12</td>\n",
              "      <td>637</td>\n",
              "      <td>641</td>\n",
              "      <td>12</td>\n",
              "      <td>535</td>\n",
              "      <td>118</td>\n",
              "      <td>230</td>\n",
              "      <td>423</td>\n",
              "    </tr>\n",
              "    <tr>\n",
              "      <th>ATLANTICO</th>\n",
              "      <td>1</td>\n",
              "      <td>7</td>\n",
              "      <td>0</td>\n",
              "      <td>0</td>\n",
              "      <td>8</td>\n",
              "      <td>2</td>\n",
              "      <td>6</td>\n",
              "      <td>7</td>\n",
              "      <td>1</td>\n",
              "      <td>8</td>\n",
              "      <td>0</td>\n",
              "    </tr>\n",
              "    <tr>\n",
              "      <th>BOGOTA DC</th>\n",
              "      <td>22</td>\n",
              "      <td>8</td>\n",
              "      <td>0</td>\n",
              "      <td>0</td>\n",
              "      <td>30</td>\n",
              "      <td>20</td>\n",
              "      <td>10</td>\n",
              "      <td>19</td>\n",
              "      <td>11</td>\n",
              "      <td>11</td>\n",
              "      <td>19</td>\n",
              "    </tr>\n",
              "  </tbody>\n",
              "</table>\n",
              "</div>\n",
              "      <button class=\"colab-df-convert\" onclick=\"convertToInteractive('df-5bfb46ee-6171-444a-bfd0-7bd0936b7b91')\"\n",
              "              title=\"Convert this dataframe to an interactive table.\"\n",
              "              style=\"display:none;\">\n",
              "        \n",
              "  <svg xmlns=\"http://www.w3.org/2000/svg\" height=\"24px\"viewBox=\"0 0 24 24\"\n",
              "       width=\"24px\">\n",
              "    <path d=\"M0 0h24v24H0V0z\" fill=\"none\"/>\n",
              "    <path d=\"M18.56 5.44l.94 2.06.94-2.06 2.06-.94-2.06-.94-.94-2.06-.94 2.06-2.06.94zm-11 1L8.5 8.5l.94-2.06 2.06-.94-2.06-.94L8.5 2.5l-.94 2.06-2.06.94zm10 10l.94 2.06.94-2.06 2.06-.94-2.06-.94-.94-2.06-.94 2.06-2.06.94z\"/><path d=\"M17.41 7.96l-1.37-1.37c-.4-.4-.92-.59-1.43-.59-.52 0-1.04.2-1.43.59L10.3 9.45l-7.72 7.72c-.78.78-.78 2.05 0 2.83L4 21.41c.39.39.9.59 1.41.59.51 0 1.02-.2 1.41-.59l7.78-7.78 2.81-2.81c.8-.78.8-2.07 0-2.86zM5.41 20L4 18.59l7.72-7.72 1.47 1.35L5.41 20z\"/>\n",
              "  </svg>\n",
              "      </button>\n",
              "      \n",
              "  <style>\n",
              "    .colab-df-container {\n",
              "      display:flex;\n",
              "      flex-wrap:wrap;\n",
              "      gap: 12px;\n",
              "    }\n",
              "\n",
              "    .colab-df-convert {\n",
              "      background-color: #E8F0FE;\n",
              "      border: none;\n",
              "      border-radius: 50%;\n",
              "      cursor: pointer;\n",
              "      display: none;\n",
              "      fill: #1967D2;\n",
              "      height: 32px;\n",
              "      padding: 0 0 0 0;\n",
              "      width: 32px;\n",
              "    }\n",
              "\n",
              "    .colab-df-convert:hover {\n",
              "      background-color: #E2EBFA;\n",
              "      box-shadow: 0px 1px 2px rgba(60, 64, 67, 0.3), 0px 1px 3px 1px rgba(60, 64, 67, 0.15);\n",
              "      fill: #174EA6;\n",
              "    }\n",
              "\n",
              "    [theme=dark] .colab-df-convert {\n",
              "      background-color: #3B4455;\n",
              "      fill: #D2E3FC;\n",
              "    }\n",
              "\n",
              "    [theme=dark] .colab-df-convert:hover {\n",
              "      background-color: #434B5C;\n",
              "      box-shadow: 0px 1px 3px 1px rgba(0, 0, 0, 0.15);\n",
              "      filter: drop-shadow(0px 1px 2px rgba(0, 0, 0, 0.3));\n",
              "      fill: #FFFFFF;\n",
              "    }\n",
              "  </style>\n",
              "\n",
              "      <script>\n",
              "        const buttonEl =\n",
              "          document.querySelector('#df-5bfb46ee-6171-444a-bfd0-7bd0936b7b91 button.colab-df-convert');\n",
              "        buttonEl.style.display =\n",
              "          google.colab.kernel.accessAllowed ? 'block' : 'none';\n",
              "\n",
              "        async function convertToInteractive(key) {\n",
              "          const element = document.querySelector('#df-5bfb46ee-6171-444a-bfd0-7bd0936b7b91');\n",
              "          const dataTable =\n",
              "            await google.colab.kernel.invokeFunction('convertToInteractive',\n",
              "                                                     [key], {});\n",
              "          if (!dataTable) return;\n",
              "\n",
              "          const docLinkHtml = 'Like what you see? Visit the ' +\n",
              "            '<a target=\"_blank\" href=https://colab.research.google.com/notebooks/data_table.ipynb>data table notebook</a>'\n",
              "            + ' to learn more about interactive tables.';\n",
              "          element.innerHTML = '';\n",
              "          dataTable['output_type'] = 'display_data';\n",
              "          await google.colab.output.renderOutput(dataTable, element);\n",
              "          const docLink = document.createElement('div');\n",
              "          docLink.innerHTML = docLinkHtml;\n",
              "          element.appendChild(docLink);\n",
              "        }\n",
              "      </script>\n",
              "    </div>\n",
              "  </div>\n",
              "  "
            ]
          },
          "metadata": {},
          "execution_count": 144
        }
      ]
    },
    {
      "cell_type": "code",
      "source": [
        "DF_final.to_excel('Victmas_por_depts.xlsx')"
      ],
      "metadata": {
        "id": "_JJIcusL5ZlD"
      },
      "execution_count": null,
      "outputs": []
    },
    {
      "cell_type": "code",
      "source": [
        "Data_frame_final.head()"
      ],
      "metadata": {
        "colab": {
          "base_uri": "https://localhost:8080/",
          "height": 238
        },
        "id": "YUL08fyC5-NV",
        "outputId": "c7cf6526-bc48-4ff3-951e-6eb5e63a28cd"
      },
      "execution_count": null,
      "outputs": [
        {
          "output_type": "execute_result",
          "data": {
            "text/plain": [
              "              Mayor de 18 años\n",
              "departamento                  \n",
              "AMAZONAS                     4\n",
              "ANTIOQUIA                 2354\n",
              "ARAUCA                     599\n",
              "ATLANTICO                    1\n",
              "BOGOTA DC                   22"
            ],
            "text/html": [
              "\n",
              "  <div id=\"df-db305aa2-8210-45f1-a692-563609daa7c8\">\n",
              "    <div class=\"colab-df-container\">\n",
              "      <div>\n",
              "<style scoped>\n",
              "    .dataframe tbody tr th:only-of-type {\n",
              "        vertical-align: middle;\n",
              "    }\n",
              "\n",
              "    .dataframe tbody tr th {\n",
              "        vertical-align: top;\n",
              "    }\n",
              "\n",
              "    .dataframe thead th {\n",
              "        text-align: right;\n",
              "    }\n",
              "</style>\n",
              "<table border=\"1\" class=\"dataframe\">\n",
              "  <thead>\n",
              "    <tr style=\"text-align: right;\">\n",
              "      <th></th>\n",
              "      <th>Mayor de 18 años</th>\n",
              "    </tr>\n",
              "    <tr>\n",
              "      <th>departamento</th>\n",
              "      <th></th>\n",
              "    </tr>\n",
              "  </thead>\n",
              "  <tbody>\n",
              "    <tr>\n",
              "      <th>AMAZONAS</th>\n",
              "      <td>4</td>\n",
              "    </tr>\n",
              "    <tr>\n",
              "      <th>ANTIOQUIA</th>\n",
              "      <td>2354</td>\n",
              "    </tr>\n",
              "    <tr>\n",
              "      <th>ARAUCA</th>\n",
              "      <td>599</td>\n",
              "    </tr>\n",
              "    <tr>\n",
              "      <th>ATLANTICO</th>\n",
              "      <td>1</td>\n",
              "    </tr>\n",
              "    <tr>\n",
              "      <th>BOGOTA DC</th>\n",
              "      <td>22</td>\n",
              "    </tr>\n",
              "  </tbody>\n",
              "</table>\n",
              "</div>\n",
              "      <button class=\"colab-df-convert\" onclick=\"convertToInteractive('df-db305aa2-8210-45f1-a692-563609daa7c8')\"\n",
              "              title=\"Convert this dataframe to an interactive table.\"\n",
              "              style=\"display:none;\">\n",
              "        \n",
              "  <svg xmlns=\"http://www.w3.org/2000/svg\" height=\"24px\"viewBox=\"0 0 24 24\"\n",
              "       width=\"24px\">\n",
              "    <path d=\"M0 0h24v24H0V0z\" fill=\"none\"/>\n",
              "    <path d=\"M18.56 5.44l.94 2.06.94-2.06 2.06-.94-2.06-.94-.94-2.06-.94 2.06-2.06.94zm-11 1L8.5 8.5l.94-2.06 2.06-.94-2.06-.94L8.5 2.5l-.94 2.06-2.06.94zm10 10l.94 2.06.94-2.06 2.06-.94-2.06-.94-.94-2.06-.94 2.06-2.06.94z\"/><path d=\"M17.41 7.96l-1.37-1.37c-.4-.4-.92-.59-1.43-.59-.52 0-1.04.2-1.43.59L10.3 9.45l-7.72 7.72c-.78.78-.78 2.05 0 2.83L4 21.41c.39.39.9.59 1.41.59.51 0 1.02-.2 1.41-.59l7.78-7.78 2.81-2.81c.8-.78.8-2.07 0-2.86zM5.41 20L4 18.59l7.72-7.72 1.47 1.35L5.41 20z\"/>\n",
              "  </svg>\n",
              "      </button>\n",
              "      \n",
              "  <style>\n",
              "    .colab-df-container {\n",
              "      display:flex;\n",
              "      flex-wrap:wrap;\n",
              "      gap: 12px;\n",
              "    }\n",
              "\n",
              "    .colab-df-convert {\n",
              "      background-color: #E8F0FE;\n",
              "      border: none;\n",
              "      border-radius: 50%;\n",
              "      cursor: pointer;\n",
              "      display: none;\n",
              "      fill: #1967D2;\n",
              "      height: 32px;\n",
              "      padding: 0 0 0 0;\n",
              "      width: 32px;\n",
              "    }\n",
              "\n",
              "    .colab-df-convert:hover {\n",
              "      background-color: #E2EBFA;\n",
              "      box-shadow: 0px 1px 2px rgba(60, 64, 67, 0.3), 0px 1px 3px 1px rgba(60, 64, 67, 0.15);\n",
              "      fill: #174EA6;\n",
              "    }\n",
              "\n",
              "    [theme=dark] .colab-df-convert {\n",
              "      background-color: #3B4455;\n",
              "      fill: #D2E3FC;\n",
              "    }\n",
              "\n",
              "    [theme=dark] .colab-df-convert:hover {\n",
              "      background-color: #434B5C;\n",
              "      box-shadow: 0px 1px 3px 1px rgba(0, 0, 0, 0.15);\n",
              "      filter: drop-shadow(0px 1px 2px rgba(0, 0, 0, 0.3));\n",
              "      fill: #FFFFFF;\n",
              "    }\n",
              "  </style>\n",
              "\n",
              "      <script>\n",
              "        const buttonEl =\n",
              "          document.querySelector('#df-db305aa2-8210-45f1-a692-563609daa7c8 button.colab-df-convert');\n",
              "        buttonEl.style.display =\n",
              "          google.colab.kernel.accessAllowed ? 'block' : 'none';\n",
              "\n",
              "        async function convertToInteractive(key) {\n",
              "          const element = document.querySelector('#df-db305aa2-8210-45f1-a692-563609daa7c8');\n",
              "          const dataTable =\n",
              "            await google.colab.kernel.invokeFunction('convertToInteractive',\n",
              "                                                     [key], {});\n",
              "          if (!dataTable) return;\n",
              "\n",
              "          const docLinkHtml = 'Like what you see? Visit the ' +\n",
              "            '<a target=\"_blank\" href=https://colab.research.google.com/notebooks/data_table.ipynb>data table notebook</a>'\n",
              "            + ' to learn more about interactive tables.';\n",
              "          element.innerHTML = '';\n",
              "          dataTable['output_type'] = 'display_data';\n",
              "          await google.colab.output.renderOutput(dataTable, element);\n",
              "          const docLink = document.createElement('div');\n",
              "          docLink.innerHTML = docLinkHtml;\n",
              "          element.appendChild(docLink);\n",
              "        }\n",
              "      </script>\n",
              "    </div>\n",
              "  </div>\n",
              "  "
            ]
          },
          "metadata": {},
          "execution_count": 150
        }
      ]
    },
    {
      "cell_type": "code",
      "source": [
        "Regiones_naturales=['AMAZONÍA','ANDINA','ORINOQUÍA','CARIBE','ANDINA','CARIBE','ANDINA','ANDINA','ORINOQUÍA','ORINOQUÍA','PACÍFICA','ANDINA','PACÍFICA','CARIBE','ANDINA','AMAZONÍA','AMAZONÍA','HUILA','CARIBE','CARIBE','ORINOQUÍA','PACÍFICA','ANDINA','AMAZONÍA','ANDINA','ANDINA','ANDINA','CARIBE','ANDINA','PACÍFICA','AMAZONÍA','ORINOQUÍA']"
      ],
      "metadata": {
        "id": "dcqg3_gytY-z"
      },
      "execution_count": null,
      "outputs": []
    },
    {
      "cell_type": "code",
      "source": [
        "RN=pd.DataFrame(Regiones_naturales,columns=['Regiones_naturales'])"
      ],
      "metadata": {
        "id": "Y0i4cuPzzGau"
      },
      "execution_count": null,
      "outputs": []
    },
    {
      "cell_type": "code",
      "source": [
        "pd.DataFrame?"
      ],
      "metadata": {
        "id": "jhjRrMpSzVT_"
      },
      "execution_count": null,
      "outputs": []
    },
    {
      "cell_type": "code",
      "source": [
        "RN.to_excel('RN.xlsx')"
      ],
      "metadata": {
        "id": "K5dd2xX5zRBU"
      },
      "execution_count": null,
      "outputs": []
    },
    {
      "cell_type": "code",
      "source": [
        "D1=[[DF_final,RN]]"
      ],
      "metadata": {
        "id": "bnWvpRkD2BIX"
      },
      "execution_count": null,
      "outputs": []
    },
    {
      "cell_type": "code",
      "source": [
        "D2=pd.DataFrame(D1)"
      ],
      "metadata": {
        "id": "MuCG87yB2HWr"
      },
      "execution_count": null,
      "outputs": []
    },
    {
      "cell_type": "code",
      "source": [
        "RN.Regiones_naturales"
      ],
      "metadata": {
        "id": "8oj0XLu34gzU"
      },
      "execution_count": null,
      "outputs": []
    },
    {
      "cell_type": "markdown",
      "source": [
        "##**Dataframe final**"
      ],
      "metadata": {
        "id": "kkRtxin3y76h"
      }
    },
    {
      "cell_type": "code",
      "source": [
        "Data_final_victimas_reg=pd.read_excel('/content/Data_frame_final_victimas_regiones.xlsx')"
      ],
      "metadata": {
        "id": "7yAkBJ3C1g7A"
      },
      "execution_count": null,
      "outputs": []
    },
    {
      "cell_type": "code",
      "source": [
        "Data_final_victimas_reg.head(32)"
      ],
      "metadata": {
        "id": "3FNJzn727xaj"
      },
      "execution_count": null,
      "outputs": []
    },
    {
      "cell_type": "code",
      "source": [
        "Data_final_victimas_reg.columns"
      ],
      "metadata": {
        "colab": {
          "base_uri": "https://localhost:8080/"
        },
        "id": "ecA25jX39ncj",
        "outputId": "d3102b3f-1e57-4a95-d718-46bad9e62883"
      },
      "execution_count": null,
      "outputs": [
        {
          "output_type": "execute_result",
          "data": {
            "text/plain": [
              "Index(['departamento', 'Mayor de 18 años', 'Menor de 18 años',\n",
              "       'Afrodescendiente', 'Indigena', 'No', 'Rural', 'Urbana', 'Herido',\n",
              "       'Muerto', 'Civil', 'Fuerza pública', 'Regiones_naturales'],\n",
              "      dtype='object')"
            ]
          },
          "metadata": {},
          "execution_count": 18
        }
      ]
    },
    {
      "cell_type": "code",
      "source": [
        "df1_cat.shape[0]"
      ],
      "metadata": {
        "colab": {
          "base_uri": "https://localhost:8080/"
        },
        "id": "C2NI8yvpy7YN",
        "outputId": "041c41ed-79b6-46eb-feea-1c733e200530"
      },
      "execution_count": null,
      "outputs": [
        {
          "output_type": "execute_result",
          "data": {
            "text/plain": [
              "12229"
            ]
          },
          "metadata": {},
          "execution_count": 11
        }
      ]
    },
    {
      "cell_type": "code",
      "source": [
        "# size=32\n",
        "# som = MiniSom(size, size, df1_cat.shape[0],\n",
        "              # neighborhood_function='gaussian', sigma=1.5,\n",
        "              # random_seed=1)"
      ],
      "metadata": {
        "id": "Ao6aFDcCyrYn"
      },
      "execution_count": null,
      "outputs": []
    },
    {
      "cell_type": "markdown",
      "source": [
        "##**Establecer la codificación one hot de las variables**"
      ],
      "metadata": {
        "id": "L7-B51hTGg8p"
      }
    },
    {
      "cell_type": "code",
      "source": [
        "#Codificación de las variables categóricas\n",
        "# One hot encoding - to convert categorical data to continuous\n",
        "#dummies\n",
        "df1_dummies= pd.get_dummies(df1_cat)\n",
        "df1_dummies.head(50)"
      ],
      "metadata": {
        "id": "OPz0ztI5Gfy5"
      },
      "execution_count": null,
      "outputs": []
    },
    {
      "cell_type": "code",
      "source": [
        "df1_dummies.describe()"
      ],
      "metadata": {
        "id": "IpddpoOdvIQS"
      },
      "execution_count": null,
      "outputs": []
    },
    {
      "cell_type": "code",
      "source": [
        "df1_dummies.shape[1]"
      ],
      "metadata": {
        "colab": {
          "base_uri": "https://localhost:8080/"
        },
        "id": "x7zJksroqqyB",
        "outputId": "d359d8fc-b477-4ff6-c516-29aa16833230"
      },
      "execution_count": null,
      "outputs": [
        {
          "output_type": "execute_result",
          "data": {
            "text/plain": [
              "12"
            ]
          },
          "metadata": {},
          "execution_count": 135
        }
      ]
    },
    {
      "cell_type": "code",
      "source": [
        "victimas_minas_df['longitudcabecera']"
      ],
      "metadata": {
        "id": "tJGL7cLGHpSX"
      },
      "execution_count": null,
      "outputs": []
    },
    {
      "cell_type": "code",
      "source": [
        "cluster_df2"
      ],
      "metadata": {
        "id": "73OUcHc7rEHj"
      },
      "execution_count": null,
      "outputs": []
    },
    {
      "cell_type": "code",
      "source": [
        "import sklearn"
      ],
      "metadata": {
        "id": "9BxEXIYGr9qV"
      },
      "execution_count": null,
      "outputs": []
    },
    {
      "cell_type": "code",
      "source": [
        "from sklearn.preprocessing import MinMaxScaler"
      ],
      "metadata": {
        "id": "GKx3ozclr_P6"
      },
      "execution_count": null,
      "outputs": []
    },
    {
      "cell_type": "code",
      "source": [
        "cluster_df2.shape\n"
      ],
      "metadata": {
        "id": "UXamiFv_sySh"
      },
      "execution_count": null,
      "outputs": []
    },
    {
      "cell_type": "markdown",
      "source": [
        "##**Implementación del algoritmo**"
      ],
      "metadata": {
        "id": "jbT2nyO_vxL-"
      }
    },
    {
      "cell_type": "code",
      "source": [
        "from sklearn.preprocessing import minmax_scale, scale"
      ],
      "metadata": {
        "id": "YMGaPjVpwLyH"
      },
      "execution_count": null,
      "outputs": []
    },
    {
      "cell_type": "code",
      "source": [
        "X=scale(cluster_df2)\n",
        "X"
      ],
      "metadata": {
        "id": "Hp4Fkgues8Za"
      },
      "execution_count": null,
      "outputs": []
    },
    {
      "cell_type": "markdown",
      "source": [
        "#**SOM**"
      ],
      "metadata": {
        "id": "m76GgzfO_v0J"
      }
    },
    {
      "cell_type": "code",
      "source": [
        "#Instalar minisom\n",
        "!pip install minisom"
      ],
      "metadata": {
        "colab": {
          "base_uri": "https://localhost:8080/"
        },
        "id": "hgNucdF7_zGU",
        "outputId": "03a06063-fd45-4738-b610-e9595a609d1c"
      },
      "execution_count": null,
      "outputs": [
        {
          "output_type": "stream",
          "name": "stdout",
          "text": [
            "Looking in indexes: https://pypi.org/simple, https://us-python.pkg.dev/colab-wheels/public/simple/\n",
            "Collecting minisom\n",
            "  Downloading MiniSom-2.3.0.tar.gz (8.8 kB)\n",
            "Building wheels for collected packages: minisom\n",
            "  Building wheel for minisom (setup.py) ... \u001b[?25l\u001b[?25hdone\n",
            "  Created wheel for minisom: filename=MiniSom-2.3.0-py3-none-any.whl size=9016 sha256=a010e557fd115714e9fdebd2b36a877c7edb2a883c83af0f320b7eeb1b2de08e\n",
            "  Stored in directory: /root/.cache/pip/wheels/d4/ca/4a/488772b0399fec45ff53132ed14c948dec4b30deee3a532f80\n",
            "Successfully built minisom\n",
            "Installing collected packages: minisom\n",
            "Successfully installed minisom-2.3.0\n"
          ]
        }
      ]
    },
    {
      "cell_type": "code",
      "source": [
        "#Importar MiniSom\n",
        "from minisom import MiniSom"
      ],
      "metadata": {
        "id": "XVBW7_9q_1sl"
      },
      "execution_count": null,
      "outputs": []
    },
    {
      "cell_type": "code",
      "source": [
        "var_names = ['Mayor de 18 años', 'Menor de 18 años',\n",
        "       'Afrodescendiente', 'Indigena', 'No', 'Rural', 'Urbana', 'Herido',\n",
        "       'Muerto', 'Civil', 'Fuerza pública']"
      ],
      "metadata": {
        "id": "NgGS2ctr9e33"
      },
      "execution_count": null,
      "outputs": []
    },
    {
      "cell_type": "code",
      "source": [
        "from sklearn.preprocessing import minmax_scale, scale"
      ],
      "metadata": {
        "id": "-pWNATQg-MD2"
      },
      "execution_count": null,
      "outputs": []
    },
    {
      "cell_type": "code",
      "source": [
        "X = Data_final_victimas_reg[var_names].values\n",
        "X"
      ],
      "metadata": {
        "colab": {
          "base_uri": "https://localhost:8080/"
        },
        "id": "r3IkxJ7Z98Ja",
        "outputId": "4bd711c4-db7c-456f-8c4a-4835de8f915c"
      },
      "execution_count": null,
      "outputs": [
        {
          "output_type": "execute_result",
          "data": {
            "text/plain": [
              "array([[   4,    0,    0,    0,    4,    4,    0,    2,    2,    1,    3],\n",
              "       [2354,  290,    7,   40, 2597, 2581,   63, 2226,  418, 1213, 1431],\n",
              "       [ 599,   54,    4,   12,  637,  641,   12,  535,  118,  230,  423],\n",
              "       [   1,    7,    0,    0,    8,    2,    6,    7,    1,    8,    0],\n",
              "       [  22,    8,    0,    0,   30,   20,   10,   19,   11,   11,   19],\n",
              "       [ 588,   49,    0,    0,  637,  632,    5,  546,   91,  228,  409],\n",
              "       [  64,   14,    0,    0,   78,   77,    1,   63,   15,   26,   52],\n",
              "       [ 146,   22,    0,    0,  168,  164,    4,  134,   34,   45,  123],\n",
              "       [ 892,   57,    1,    3,  945,  942,    7,  836,  113,  220,  729],\n",
              "       [  85,    5,    1,    0,   89,   90,    0,   61,   29,   17,   73],\n",
              "       [ 516,  135,    5,   82,  564,  640,   11,  532,  119,  306,  345],\n",
              "       [ 135,   23,    0,    7,  151,  146,   12,   99,   59,   79,   79],\n",
              "       [ 175,   34,   38,   33,  138,  208,    1,  169,   40,  120,   89],\n",
              "       [ 270,   13,    0,    9,  274,  279,    4,  251,   32,   98,  185],\n",
              "       [ 129,   12,    0,    0,  141,  136,    5,  110,   31,   50,   91],\n",
              "       [   1,    2,    0,    0,    3,    3,    0,    3,    0,    3,    0],\n",
              "       [ 230,   37,    0,   43,  224,  265,    2,  226,   41,  115,  152],\n",
              "       [ 214,   22,    0,    0,  236,  226,   10,  202,   34,   50,  186],\n",
              "       [  57,    3,    0,    9,   51,   59,    1,   19,   41,   27,   33],\n",
              "       [  32,   14,    0,    0,   46,   46,    0,   28,   18,   28,   18],\n",
              "       [1062,   86,    1,    4, 1143, 1145,    3,  947,  201,  423,  725],\n",
              "       [ 915,  142,   40,  160,  857, 1045,   12,  819,  238,  685,  372],\n",
              "       [ 892,   70,    0,    1,  961,  946,   16,  767,  195,  298,  664],\n",
              "       [ 398,   56,    1,   30,  423,  453,    1,  340,  114,  229,  225],\n",
              "       [  24,    4,    0,    0,   28,   24,    4,   20,    8,    7,   21],\n",
              "       [  19,    3,    0,    0,   22,   19,    3,   14,    8,   15,    7],\n",
              "       [ 263,   34,    0,    0,  297,  267,   30,  242,   55,  159,  138],\n",
              "       [  69,    6,    0,    0,   75,   73,    2,   46,   29,   24,   51],\n",
              "       [ 500,   39,    0,    4,  535,  535,    4,  382,  157,   83,  456],\n",
              "       [ 248,   22,    6,   12,  252,  252,   18,  200,   70,   73,  197],\n",
              "       [  41,    3,    0,    4,   40,   43,    1,   32,   12,   21,   23],\n",
              "       [   8,   10,    0,    5,   13,   18,    0,    9,    9,   17,    1]])"
            ]
          },
          "metadata": {},
          "execution_count": 24
        }
      ]
    },
    {
      "cell_type": "code",
      "source": [
        "X = scale(X)\n",
        "X"
      ],
      "metadata": {
        "id": "xsy-DN7iOgak",
        "colab": {
          "base_uri": "https://localhost:8080/"
        },
        "outputId": "0c493cac-2aa3-4147-e226-141c014746ae"
      },
      "execution_count": null,
      "outputs": [
        {
          "output_type": "execute_result",
          "data": {
            "text/plain": [
              "array([[-0.71612329, -0.70007503, -0.34522738, -0.45410147, -0.70406221,\n",
              "        -0.71680425, -0.65281244, -0.69622103, -0.80834313, -0.63439586,\n",
              "        -0.7455125 ],\n",
              "       [ 4.25870087,  4.39137971,  0.39833929,  0.81500308,  4.35879127,\n",
              "         4.27016494,  4.65392093,  4.34843978,  3.91331715,  4.41059268,\n",
              "         3.97028752],\n",
              "       [ 0.54345985,  0.24798896,  0.07966786, -0.07337011,  0.53187541,\n",
              "         0.51590796,  0.35799392,  0.51277367,  0.50827368,  0.31882392,\n",
              "         0.6414875 ],\n",
              "       [-0.72247413, -0.57717784, -0.34522738, -0.45410147, -0.69625218,\n",
              "        -0.72067462, -0.14740926, -0.68487962, -0.81969328, -0.60525814,\n",
              "        -0.75541965],\n",
              "       [-0.67801826, -0.5596211 , -0.34522738, -0.45410147, -0.653297  ,\n",
              "        -0.68584131,  0.18952619, -0.65766023, -0.70619183, -0.59277054,\n",
              "        -0.69267441],\n",
              "       [ 0.52017344,  0.16020526, -0.34522738, -0.45410147,  0.53187541,\n",
              "         0.49849131, -0.23164312,  0.53772478,  0.20181976,  0.31049886,\n",
              "         0.59525417],\n",
              "       [-0.5891065 , -0.45428066, -0.34522738, -0.45410147, -0.55957662,\n",
              "        -0.57553582, -0.56857858, -0.55785579, -0.66079125, -0.53033257,\n",
              "        -0.58369584],\n",
              "       [-0.4155169 , -0.31382674, -0.34522738, -0.45410147, -0.38385089,\n",
              "        -0.40717481, -0.31587699, -0.39680771, -0.4451385 , -0.45124446,\n",
              "        -0.34922679],\n",
              "       [ 1.16372516,  0.30065918, -0.23900357, -0.35891863,  1.1332479 ,\n",
              "         1.09839835, -0.0631754 ,  1.19552677,  0.45152295,  0.2771986 ,\n",
              "         1.65201608],\n",
              "       [-0.54465063, -0.61229132, -0.23900357, -0.45410147, -0.53809903,\n",
              "        -0.55037843, -0.65281244, -0.56239235, -0.50188922, -0.56779535,\n",
              "        -0.51434584],\n",
              "       [ 0.36775329,  1.67008494,  0.18589167,  2.14756286,  0.38934232,\n",
              "         0.51397278,  0.27376005,  0.50596882,  0.51962382,  0.63517634,\n",
              "         0.38390179],\n",
              "       [-0.43880331, -0.29627   , -0.34522738, -0.23200818, -0.41704353,\n",
              "        -0.44200812,  0.35799392, -0.47619761, -0.16138487, -0.30971838,\n",
              "        -0.49453155],\n",
              "       [-0.35412545, -0.10314585,  3.69127741,  0.59290978, -0.44242613,\n",
              "        -0.32202671, -0.56857858, -0.31741782, -0.37703763, -0.13905458,\n",
              "        -0.46150774],\n",
              "       [-0.15301554, -0.4718374 , -0.34522738, -0.16855295, -0.17688503,\n",
              "        -0.18462865, -0.31587699, -0.13141863, -0.46783879, -0.23063028,\n",
              "        -0.14447917],\n",
              "       [-0.45150499, -0.48939414, -0.34522738, -0.45410147, -0.43656861,\n",
              "        -0.46135996, -0.23164312, -0.4512465 , -0.47918893, -0.4304318 ,\n",
              "        -0.45490298],\n",
              "       [-0.72247413, -0.66496155, -0.34522738, -0.45410147, -0.70601472,\n",
              "        -0.71873944, -0.65281244, -0.69395275, -0.83104342, -0.6260708 ,\n",
              "        -0.75541965],\n",
              "       [-0.23769339, -0.05047563, -0.34522738,  0.91018592, -0.27451043,\n",
              "        -0.21172123, -0.48434471, -0.1881257 , -0.36568748, -0.15986724,\n",
              "        -0.25345774],\n",
              "       [-0.27156454, -0.31382674, -0.34522738, -0.45410147, -0.25108034,\n",
              "        -0.2871934 ,  0.18952619, -0.24256449, -0.4451385 , -0.4304318 ,\n",
              "        -0.14117679],\n",
              "       [-0.60392513, -0.6474048 , -0.34522738, -0.16855295, -0.61229433,\n",
              "        -0.61036913, -0.56857858, -0.65766023, -0.36568748, -0.52617004,\n",
              "        -0.64644107],\n",
              "       [-0.65684879, -0.45428066, -0.34522738, -0.45410147, -0.62205687,\n",
              "        -0.63552652, -0.65281244, -0.63724568, -0.62674081, -0.5220075 ,\n",
              "        -0.69597679],\n",
              "       [ 1.52360605,  0.80980465, -0.23900357, -0.32719102,  1.5198445 ,\n",
              "         1.4912407 , -0.40011085,  1.44730615,  1.4503357 ,  1.12219256,\n",
              "         1.63880655],\n",
              "       [ 1.21241493,  1.79298212,  3.90372503,  4.62231673,  0.96142719,\n",
              "         1.2977223 ,  0.35799392,  1.15696596,  1.87029107,  2.21277589,\n",
              "         0.47306607],\n",
              "       [ 1.16372516,  0.52889681, -0.34522738, -0.42237386,  1.16448803,\n",
              "         1.10613908,  0.69492937,  1.03901526,  1.38223483,  0.60187608,\n",
              "         1.43736132],\n",
              "       [ 0.11795361,  0.28310244, -0.23900357,  0.49772694,  0.11403868,\n",
              "         0.15209337, -0.56857858,  0.07045853,  0.4628731 ,  0.31466139,\n",
              "        -0.01238393],\n",
              "       [-0.67378436, -0.62984806, -0.34522738, -0.45410147, -0.65720202,\n",
              "        -0.67810057, -0.31587699, -0.65539194, -0.74024226, -0.60942067,\n",
              "        -0.68606965],\n",
              "       [-0.68436909, -0.6474048 , -0.34522738, -0.45410147, -0.66891707,\n",
              "        -0.68777649, -0.40011085, -0.66900164, -0.74024226, -0.57612042,\n",
              "        -0.73230298],\n",
              "       [-0.16783416, -0.10314585, -0.34522738, -0.45410147, -0.13197734,\n",
              "        -0.20785086,  1.87420345, -0.15183318, -0.20678545,  0.02328416,\n",
              "        -0.29969107],\n",
              "       [-0.57852177, -0.59473458, -0.34522738, -0.45410147, -0.56543414,\n",
              "        -0.58327655, -0.48434471, -0.59641659, -0.50188922, -0.53865763,\n",
              "        -0.58699822],\n",
              "       [ 0.33388215, -0.01536215, -0.34522738, -0.32719102,  0.33271958,\n",
              "         0.31077846, -0.31587699,  0.16572641,  0.95092933, -0.29306825,\n",
              "         0.75046607],\n",
              "       [-0.19958836, -0.31382674,  0.29211548, -0.07337011, -0.21984021,\n",
              "        -0.23687862,  0.8633971 , -0.24710105, -0.03653328, -0.33469357,\n",
              "        -0.1048506 ],\n",
              "       [-0.63779627, -0.6474048 , -0.34522738, -0.32719102, -0.63377192,\n",
              "        -0.64133208, -0.56857858, -0.62817255, -0.69484168, -0.55114523,\n",
              "        -0.67946488],\n",
              "       [-0.70765551, -0.52450762, -0.34522738, -0.2954634 , -0.68648964,\n",
              "        -0.68971168, -0.65281244, -0.68034305, -0.72889212, -0.56779535,\n",
              "        -0.75211727]])"
            ]
          },
          "metadata": {},
          "execution_count": 25
        }
      ]
    },
    {
      "cell_type": "code",
      "source": [
        "#Implmentación del algoritmo\n",
        "#Definir el tamaño de la grilla\n",
        "size = 3\n",
        "#Definir la función som\n",
        "som = MiniSom(size, size, len(X[0]),\n",
        "              neighborhood_function='gaussian', sigma=1.5,\n",
        "              random_seed=1596)"
      ],
      "metadata": {
        "id": "2o56nu86AMY2"
      },
      "execution_count": null,
      "outputs": []
    },
    {
      "cell_type": "code",
      "source": [
        "#Entrenamiento del algoritmo para som\n",
        "som.pca_weights_init(X)\n",
        "som.train_random(X, 1000, verbose=False)\n"
      ],
      "metadata": {
        "id": "xVSZO4wTAcvb"
      },
      "execution_count": null,
      "outputs": []
    },
    {
      "cell_type": "markdown",
      "source": [
        "##**Mapa  1 de los departamentos con respecto  la característica grupo étnico**"
      ],
      "metadata": {
        "id": "13C_xnXsHBEF"
      }
    },
    {
      "cell_type": "code",
      "source": [
        "depto_codes = {'ANTIOQUIA': 'AN','CAUCA':'CA','NARIÑO':'NA','BOLIVAR':'BO','NORTE DE SANTANDER':'NS','CORDOBA':'COR','CASANARE':'CAS','AMAZONAS':'AM','ARAUCA':'AR','ATLANTICO':'ATL','BOYACA':'BOY','CALDAS':'CAL',\n",
        "               'CAQUETA':'CQ','CAUCA':'CA','CHOCO':'CH','CUNDINAMARCA':'CUND','GUAINIA':'GUA','LA GUAJIRA':'LG','HUILA':'HUI','MAGDALENA':'MG','META':'MT','NARIÑO':'NÑ','NORTE DE SANTANDER':'NS','PUTUMAYO':'PT','BOGOTA DC':'BDC','QUINDIO':'QD','RISARALDA':'RS','SANTANDER':'ST','SUCRE':'SC','TOLIMA':'TL','VALLE DEL CAUCA':'VC','VAUPES':'VP','VICHADA':'VI','CAQUETA':'CQ','GUAVIARE':'GV','CESAR':'CS'}"
      ],
      "metadata": {
        "id": "hMTfVoA2QaWw"
      },
      "execution_count": null,
      "outputs": []
    },
    {
      "cell_type": "code",
      "source": [
        "#Tamaño de la lista de elemntos claves\n",
        "len(depto_codes.keys())\n"
      ],
      "metadata": {
        "colab": {
          "base_uri": "https://localhost:8080/"
        },
        "id": "lPxvmlgwXK_y",
        "outputId": "1a2c784e-426f-4497-fdcb-cee189da64fb"
      },
      "execution_count": null,
      "outputs": [
        {
          "output_type": "execute_result",
          "data": {
            "text/plain": [
              "32"
            ]
          },
          "metadata": {},
          "execution_count": 48
        }
      ]
    },
    {
      "cell_type": "code",
      "source": [
        "category_color_ge = {'AMAZONÍA': 'green',\n",
        "                  'ANDINA': 'blue','CARIBE':'red','PACÍFICA':'purple','ORINOQUÍA':'black'}"
      ],
      "metadata": {
        "id": "wlLhL7GAJQWp"
      },
      "execution_count": null,
      "outputs": []
    },
    {
      "cell_type": "code",
      "source": [
        "depto_codes = {'ANTIOQUIA': 'AN','CAUCA':'CA','NARIÑO':'NA','BOLIVAR':'BO','NORTE DE SANTANDER':'NS','CORDOBA':'COR','CASANARE':'CAS','AMAZONAS':'AM','ARAUCA':'AR','ATLANTICO':'ATL','BOYACA':'BOY','CALDAS':'CAL',\n",
        "               'CAQUETA':'CQ','CAUCA':'CA','CHOCO':'CH','CUNDINAMARCA':'CUND','GUAINIA':'GUA','LA GUAJIRA':'LG','HUILA':'HUI','MAGDALENA':'MG','META':'MT','NARIÑO':'NÑ','NORTE DE SANTANDER':'NS','PUTUMAYO':'PT','BOGOTA DC':'BDC','QUINDIO':'QD','RISARALDA':'RS','SANTANDER':'ST','SUCRE':'SC','TOLIMA':'TL','VALLE DEL CAUCA':'VC','VAUPES':'VP','VICHADA':'VI','CAQUETA':'CQ','GUAVIARE':'GV','CESAR':'CS'}"
      ],
      "metadata": {
        "id": "s1UJnTeJVvea"
      },
      "execution_count": null,
      "outputs": []
    },
    {
      "cell_type": "code",
      "source": [
        "dept_colors_dict = {c: category_color_ge[dm] for c, dm in zip(Data_final_victimas_reg.departamento,Data_final_victimas_reg.Regiones_naturales)}"
      ],
      "metadata": {
        "id": "Li_wTYSCLNsB"
      },
      "execution_count": null,
      "outputs": []
    },
    {
      "cell_type": "code",
      "source": [
        "dept_colors_dict.items()"
      ],
      "metadata": {
        "colab": {
          "base_uri": "https://localhost:8080/"
        },
        "id": "uuFxHB1LLuU3",
        "outputId": "fa8dec6a-8038-4a3e-f984-b59c4866cc65"
      },
      "execution_count": null,
      "outputs": [
        {
          "output_type": "execute_result",
          "data": {
            "text/plain": [
              "dict_items([('AMAZONAS', 'green'), ('ANTIOQUIA', 'blue'), ('ARAUCA', 'black'), ('ATLANTICO', 'red'), ('BOGOTA DC', 'blue'), ('BOLIVAR', 'red'), ('BOYACA', 'blue'), ('CALDAS', 'blue'), ('CAQUETA', 'black'), ('CASANARE', 'black'), ('CAUCA', 'purple'), ('CESAR', 'blue'), ('CHOCO', 'purple'), ('CORDOBA', 'red'), ('CUNDINAMARCA', 'blue'), ('GUAINIA', 'green'), ('GUAVIARE', 'green'), ('HUILA', 'blue'), ('LA GUAJIRA', 'red'), ('MAGDALENA', 'red'), ('META', 'black'), ('NARIÑO', 'purple'), ('NORTE DE SANTANDER', 'blue'), ('PUTUMAYO', 'green'), ('QUINDIO', 'blue'), ('RISARALDA', 'blue'), ('SANTANDER', 'blue'), ('SUCRE', 'red'), ('TOLIMA', 'blue'), ('VALLE DEL CAUCA', 'purple'), ('VAUPES', 'green'), ('VICHADA', 'black')])"
            ]
          },
          "metadata": {},
          "execution_count": 32
        }
      ]
    },
    {
      "cell_type": "code",
      "source": [
        "v=[victimas_minas_df.departamento[1]]"
      ],
      "metadata": {
        "id": "0DIfnW7pROtT"
      },
      "execution_count": null,
      "outputs": []
    },
    {
      "cell_type": "code",
      "source": [
        "v"
      ],
      "metadata": {
        "colab": {
          "base_uri": "https://localhost:8080/"
        },
        "id": "2v5rs2nsRUE8",
        "outputId": "3076f0ee-7be2-4f00-f7b9-65f4160dcc17"
      },
      "execution_count": null,
      "outputs": [
        {
          "output_type": "execute_result",
          "data": {
            "text/plain": [
              "['CAQUETA']"
            ]
          },
          "metadata": {},
          "execution_count": 41
        }
      ]
    },
    {
      "cell_type": "code",
      "source": [
        "def shorten_dept(c):\n",
        "    if len(c) > 3:\n",
        "        return depto_codes[c]\n",
        "    else:\n",
        "        return c\n",
        "\n"
      ],
      "metadata": {
        "id": "o43sMT92MGnV"
      },
      "execution_count": null,
      "outputs": []
    },
    {
      "cell_type": "code",
      "source": [
        "\n",
        "legend_elements = [Patch(facecolor=clr,\n",
        "                         edgecolor='w',\n",
        "                         label=l) for l, clr in category_color.items()]\n",
        "\n",
        "plt.legend(handles=legend_elements, loc='center left', bbox_to_anchor=(1, .95))"
      ],
      "metadata": {
        "id": "W8TEHMD9aq7X"
      },
      "execution_count": null,
      "outputs": []
    },
    {
      "cell_type": "code",
      "source": [
        "X.shape"
      ],
      "metadata": {
        "colab": {
          "base_uri": "https://localhost:8080/"
        },
        "id": "-ASGTEi2dAFP",
        "outputId": "be16861a-d92d-4253-fa38-11220f21dcf8"
      },
      "execution_count": null,
      "outputs": [
        {
          "output_type": "execute_result",
          "data": {
            "text/plain": [
              "(12229, 5)"
            ]
          },
          "metadata": {},
          "execution_count": 34
        }
      ]
    },
    {
      "cell_type": "code",
      "source": [
        "dept_map.items()"
      ],
      "metadata": {
        "id": "6z2SDHu2XcOa"
      },
      "execution_count": null,
      "outputs": []
    },
    {
      "cell_type": "code",
      "source": [
        "dept_map = som.labels_map(X,Data_final_victimas_reg.departamento)\n",
        "    \n",
        "plt.figure(figsize=(20, 20))\n",
        "for p, d in dept_map.items():\n",
        "    depts = list(d)\n",
        "    x = p[0] + .1\n",
        "    y = p[1] - .3\n",
        "    for i, c in enumerate(depts):\n",
        "        off_set = (i+1)/len(depts) - 0.05\n",
        "        plt.text(x, y+off_set,shorten_dept(c), color=dept_colors_dict[c], fontsize=10)\n",
        "plt.pcolor(som.distance_map().T, cmap='gray_r', alpha=.2)\n",
        "plt.xticks(np.arange(size+1))\n",
        "plt.yticks(np.arange(size+1))\n",
        "plt.grid()\n",
        "\n",
        "\n",
        "plt.show()"
      ],
      "metadata": {
        "colab": {
          "base_uri": "https://localhost:8080/",
          "height": 940
        },
        "id": "yuVcMa0aMUJx",
        "outputId": "2f0e251a-9be0-44e5-92fa-28c3f030094a"
      },
      "execution_count": null,
      "outputs": [
        {
          "output_type": "display_data",
          "data": {
            "text/plain": [
              "<Figure size 1440x1440 with 1 Axes>"
            ],
            "image/png": "[encoded data removed]"
          },
          "metadata": {
            "needs_background": "light"
          }
        }
      ]
    },
    {
      "cell_type": "code",
      "source": [
        "depto_codes"
      ],
      "metadata": {
        "colab": {
          "base_uri": "https://localhost:8080/"
        },
        "id": "Cz_p-maKbPF4",
        "outputId": "59f5921c-da14-4b86-b4f4-75c866b00e5e"
      },
      "execution_count": null,
      "outputs": [
        {
          "output_type": "execute_result",
          "data": {
            "text/plain": [
              "{'ANTIOQUIA': 'AN',\n",
              " 'CAUCA': 'CA',\n",
              " 'NARIÑO': 'NÑ',\n",
              " 'BOLIVAR': 'BO',\n",
              " 'NORTE DE SANTANDER': 'NS',\n",
              " 'CORDOBA': 'COR',\n",
              " 'CASANARE': 'CAS',\n",
              " 'AMAZONAS': 'AM',\n",
              " 'ARAUCA': 'AR',\n",
              " 'ATLANTICO': 'ATL',\n",
              " 'BOYACA': 'BOY',\n",
              " 'CALDAS': 'CAL',\n",
              " 'CAQUETA': 'CQ',\n",
              " 'CHOCO': 'CH',\n",
              " 'CUNDINAMARCA': 'CUND',\n",
              " 'GUAINIA': 'GUA',\n",
              " 'LA GUAJIRA': 'LG',\n",
              " 'HUILA': 'HUI',\n",
              " 'MAGDALENA': 'MG',\n",
              " 'META': 'MT',\n",
              " 'PUTUMAYO': 'PT',\n",
              " 'BOGOTA DC': 'BDC',\n",
              " 'QUINDIO': 'QD',\n",
              " 'RISARALDA': 'RS',\n",
              " 'SANTANDER': 'ST',\n",
              " 'SUCRE': 'SC',\n",
              " 'TOLIMA': 'TL',\n",
              " 'VALLE DEL CAUCA': 'VC',\n",
              " 'VAUPES': 'VP',\n",
              " 'VICHADA': 'VI',\n",
              " 'GUAVIARE': 'GV',\n",
              " 'CESAR': 'CS'}"
            ]
          },
          "metadata": {},
          "execution_count": 36
        }
      ]
    },
    {
      "cell_type": "markdown",
      "source": [
        "##**Mapa 2 de los departametnos con respecto a la condicion**"
      ],
      "metadata": {
        "id": "c_W1UJ5SJ3RK"
      }
    },
    {
      "cell_type": "code",
      "source": [
        "victimas_minas_df['condicion'].astype('category')"
      ],
      "metadata": {
        "colab": {
          "base_uri": "https://localhost:8080/"
        },
        "id": "nkNJq7UXV2_J",
        "outputId": "93ca4240-7ac5-40f1-ea87-61a0fdb7a344"
      },
      "execution_count": null,
      "outputs": [
        {
          "output_type": "execute_result",
          "data": {
            "text/plain": [
              "0        Civil\n",
              "1        Civil\n",
              "2        Civil\n",
              "3        Civil\n",
              "4        Civil\n",
              "         ...  \n",
              "12224    Civil\n",
              "12225    Civil\n",
              "12226    Civil\n",
              "12227    Civil\n",
              "12228    Civil\n",
              "Name: condicion, Length: 12229, dtype: category\n",
              "Categories (2, object): ['Civil', 'Fuerza pública']"
            ]
          },
          "metadata": {},
          "execution_count": 37
        }
      ]
    },
    {
      "cell_type": "code",
      "source": [
        "category_color_ge= {'Civil': 'purple',\n",
        "                  'Fuerza pública': 'darkgreen'}"
      ],
      "metadata": {
        "id": "Lv3lK44rV16d"
      },
      "execution_count": null,
      "outputs": []
    },
    {
      "cell_type": "code",
      "source": [
        "dept_colors_dict_cond= {c: category_color_ge[dm] for c, dm in zip(victimas_minas_df.departamento,victimas_minas_df.condicion)}"
      ],
      "metadata": {
        "id": "J4IKnHDTUcda"
      },
      "execution_count": null,
      "outputs": []
    },
    {
      "cell_type": "code",
      "source": [
        "dept_colors_dict_cond.items()"
      ],
      "metadata": {
        "id": "HMWXg8_7W2me"
      },
      "execution_count": null,
      "outputs": []
    },
    {
      "cell_type": "code",
      "source": [
        "X"
      ],
      "metadata": {
        "id": "Th8hrrMnBzVz"
      },
      "execution_count": null,
      "outputs": []
    },
    {
      "cell_type": "code",
      "source": [
        "dept_map = som.labels_map(X,Data_final_victimas_reg.departamento)\n",
        "    \n",
        "plt.figure(figsize=(10, 10))\n",
        "for p, d in dept_map.items():\n",
        "    depts = list(d)\n",
        "    x = p[0] + .1\n",
        "    y = p[1] - .3\n",
        "    for i, c in enumerate(depts):\n",
        "        off_set = (i+1)/len(depts) - 0.05\n",
        "        plt.text(x, y+off_set,shorten_dept(c), color=dept_colors_dict[c], fontsize=10)\n",
        "plt.pcolor(som.distance_map().T, cmap='gray_r', alpha=.2)\n",
        "plt.xticks(np.arange(size+1))\n",
        "plt.yticks(np.arange(size+1))\n",
        "plt.grid()\n",
        "\n",
        "\n",
        "plt.show()\n",
        "\n"
      ],
      "metadata": {
        "colab": {
          "base_uri": "https://localhost:8080/",
          "height": 595
        },
        "id": "yyciUc2OW1E5",
        "outputId": "be686577-b244-4332-da40-cdfbf635af5b"
      },
      "execution_count": null,
      "outputs": [
        {
          "output_type": "display_data",
          "data": {
            "text/plain": [
              "<Figure size 720x720 with 1 Axes>"
            ],
            "image/png": "[encoded data removed]"
          },
          "metadata": {
            "needs_background": "light"
          }
        }
      ]
    },
    {
      "cell_type": "code",
      "source": [
        "plt.savefig('SOM1.png')"
      ],
      "metadata": {
        "colab": {
          "base_uri": "https://localhost:8080/",
          "height": 34
        },
        "id": "TWDNOvtRh0fZ",
        "outputId": "e61a92f9-0d05-4bb3-9613-d341da16ec55"
      },
      "execution_count": null,
      "outputs": [
        {
          "output_type": "display_data",
          "data": {
            "text/plain": [
              "<Figure size 432x288 with 0 Axes>"
            ]
          },
          "metadata": {}
        }
      ]
    },
    {
      "cell_type": "code",
      "source": [
        "depto_codes"
      ],
      "metadata": {
        "colab": {
          "base_uri": "https://localhost:8080/"
        },
        "id": "TZuybZlfYag9",
        "outputId": "40e1bd30-00ad-4192-d36a-f647800df47f"
      },
      "execution_count": null,
      "outputs": [
        {
          "output_type": "execute_result",
          "data": {
            "text/plain": [
              "{'ANTIOQUIA': 'AN',\n",
              " 'CAUCA': 'CA',\n",
              " 'NARIÑO': 'NÑ',\n",
              " 'BOLIVAR': 'BO',\n",
              " 'NORTE DE SANTANDER': 'NS',\n",
              " 'CORDOBA': 'COR',\n",
              " 'CASANARE': 'CAS',\n",
              " 'AMAZONAS': 'AM',\n",
              " 'ARAUCA': 'AR',\n",
              " 'ATLANTICO': 'ATL',\n",
              " 'BOYACA': 'BOY',\n",
              " 'CALDAS': 'CAL',\n",
              " 'CAQUETA': 'CQ',\n",
              " 'CHOCO': 'CH',\n",
              " 'CUNDINAMARCA': 'CUND',\n",
              " 'GUAINIA': 'GUA',\n",
              " 'HUILA': 'HUI',\n",
              " 'LA GUAJIRA': 'LG',\n",
              " 'MAGDALENA': 'MG',\n",
              " 'META': 'MT',\n",
              " 'PUTUMAYO': 'PT',\n",
              " 'BOGOTA DC': 'BDC',\n",
              " 'QUINDIO': 'QD',\n",
              " 'RISARALDA': 'RS',\n",
              " 'SANTANDER': 'ST',\n",
              " 'SUCRE': 'SC',\n",
              " 'TOLIMA': 'TL',\n",
              " 'VALLE DEL CAUCA': 'VC',\n",
              " 'VAUPES': 'VP',\n",
              " 'VICHADA': 'VI',\n",
              " 'GUAVIARE': 'GV',\n",
              " 'CESAR': 'CS'}"
            ]
          },
          "metadata": {},
          "execution_count": 187
        }
      ]
    },
    {
      "cell_type": "markdown",
      "source": [
        "##**Planos de características**"
      ],
      "metadata": {
        "id": "OJeRZnEaCd9N"
      }
    },
    {
      "cell_type": "code",
      "source": [
        "var_quali_names = ['rangoedad', 'condicion', 'tipoarea', 'grupoetnico', 'genero']"
      ],
      "metadata": {
        "id": "0COLzff_1OxQ"
      },
      "execution_count": null,
      "outputs": []
    },
    {
      "cell_type": "code",
      "source": [
        "#Planos de características\n",
        "W = som.get_weights()\n",
        "plt.figure(figsize=(20, 20))\n",
        "for i, f in enumerate(var_quali_names):\n",
        "    plt.subplot(3, 3, i+1)\n",
        "    plt.title(f)\n",
        "    plt.pcolor(W[:,:,i].T, cmap='coolwarm')\n",
        "    plt.xticks(np.arange(size+1))\n",
        "    plt.yticks(np.arange(size+1))\n",
        "plt.tight_layout()\n",
        "plt.show()\n"
      ],
      "metadata": {
        "colab": {
          "base_uri": "https://localhost:8080/",
          "height": 654
        },
        "id": "ac53p0zbCO5t",
        "outputId": "b50ab3f8-2dd8-4ba5-bce6-ae1b421159bd"
      },
      "execution_count": null,
      "outputs": [
        {
          "output_type": "display_data",
          "data": {
            "text/plain": [
              "<Figure size 1440x1440 with 5 Axes>"
            ],
            "image/png": "[encoded data removed]"
          },
          "metadata": {
            "needs_background": "light"
          }
        }
      ]
    },
    {
      "cell_type": "code",
      "source": [
        "plt.savefig('heatmap.jpg')"
      ],
      "metadata": {
        "colab": {
          "base_uri": "https://localhost:8080/",
          "height": 34
        },
        "id": "gZ4T6lybioJm",
        "outputId": "8fe2a7d4-8e73-4979-cac0-a3aebec39464"
      },
      "execution_count": null,
      "outputs": [
        {
          "output_type": "display_data",
          "data": {
            "text/plain": [
              "<Figure size 432x288 with 0 Axes>"
            ]
          },
          "metadata": {}
        }
      ]
    },
    {
      "cell_type": "markdown",
      "source": [
        "##**Plano de carcaterísticas más importantes**"
      ],
      "metadata": {
        "id": "-CSQko0ADQ3n"
      }
    },
    {
      "cell_type": "code",
      "source": [
        "X.shape"
      ],
      "metadata": {
        "colab": {
          "base_uri": "https://localhost:8080/"
        },
        "id": "9mftvfbiOPDk",
        "outputId": "17d1d43e-5ff2-4da3-ee6c-a4d2cdac8263"
      },
      "execution_count": null,
      "outputs": [
        {
          "output_type": "execute_result",
          "data": {
            "text/plain": [
              "(12229, 5)"
            ]
          },
          "metadata": {},
          "execution_count": 154
        }
      ]
    },
    {
      "cell_type": "code",
      "source": [
        "som.get_weights()"
      ],
      "metadata": {
        "id": "mpwKJ6OMDa4l"
      },
      "execution_count": null,
      "outputs": []
    },
    {
      "cell_type": "code",
      "source": [
        "W.shape"
      ],
      "metadata": {
        "colab": {
          "base_uri": "https://localhost:8080/"
        },
        "id": "AbXPoEGSDvS9",
        "outputId": "21e9569c-e2bf-4428-c7bb-5afc897ff012"
      },
      "execution_count": null,
      "outputs": [
        {
          "output_type": "execute_result",
          "data": {
            "text/plain": [
              "(20, 20, 5)"
            ]
          },
          "metadata": {},
          "execution_count": 153
        }
      ]
    },
    {
      "cell_type": "code",
      "source": [
        "som.get_weights().shape[0]"
      ],
      "metadata": {
        "colab": {
          "base_uri": "https://localhost:8080/"
        },
        "id": "5-WtpTF9EK0i",
        "outputId": "c9146b26-31c2-4258-d1d0-19efea2dd4a7"
      },
      "execution_count": null,
      "outputs": [
        {
          "output_type": "execute_result",
          "data": {
            "text/plain": [
              "20"
            ]
          },
          "metadata": {},
          "execution_count": 155
        }
      ]
    },
    {
      "cell_type": "code",
      "source": [
        "Z = np.zeros((size, size))\n",
        "plt.figure(figsize=(1.5, 1.5))\n",
        "for i in np.arange(som.get_weights().shape[0]):\n",
        "    for j in np.arange(som.get_weights().shape[1]):\n",
        "        feature = np.argmax(W[i, j , :])\n",
        "        plt.plot([j+.5], [i+.5], 'o', color='C'+str(feature),\n",
        "                 marker='s', markersize=24)\n",
        "\n",
        "\n",
        "\n",
        "plt.legend(loc='center left',\n",
        "           bbox_to_anchor=(1, .95))\n",
        "        \n",
        "plt.xlim([0, size])\n",
        "plt.ylim([0, size])\n",
        "plt.show()"
      ],
      "metadata": {
        "colab": {
          "base_uri": "https://localhost:8080/",
          "height": 150
        },
        "id": "wMgUa-IZDVNx",
        "outputId": "730a724c-cfb9-4913-f98c-10cccd8fdfd4"
      },
      "execution_count": null,
      "outputs": [
        {
          "output_type": "stream",
          "name": "stderr",
          "text": [
            "WARNING:matplotlib.legend:No handles with labels found to put in legend.\n"
          ]
        },
        {
          "output_type": "display_data",
          "data": {
            "text/plain": [
              "<Figure size 108x108 with 1 Axes>"
            ],
            "image/png": "[encoded data removed]"
          },
          "metadata": {
            "needs_background": "light"
          }
        }
      ]
    }
  ]
}