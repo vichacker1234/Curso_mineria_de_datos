{
  "nbformat": 4,
  "nbformat_minor": 0,
  "metadata": {
    "colab": {
      "provenance": [],
      "collapsed_sections": [
        "QIkdltUePcEB",
        "EK7mQ-apd8Hy",
        "MfhqwbOu-kge",
        "gYjteVZf9R8n",
        "rF1jeWO3A103",
        "zTIVOBBUBbld",
        "ZJftcoQIpUdF",
        "JfKOCK9Up7A6",
        "P-m21UbxCLaC"
      ],
      "toc_visible": true,
      "mount_file_id": "1CJaBK-I3T_sJAotKRPWeemNGhAmrrndY",
      "authorship_tag": "ABX9TyNFM8eEsA3muknqr0HBrtnh",
      "include_colab_link": true
    },
    "kernelspec": {
      "name": "python3",
      "display_name": "Python 3"
    },
    "language_info": {
      "name": "python"
    },
    "accelerator": "GPU",
    "gpuClass": "standard"
  },
  "cells": [
    {
      "cell_type": "markdown",
      "metadata": {
        "id": "view-in-github",
        "colab_type": "text"
      },
      "source": [
        "<a href=\"https://colab.research.google.com/github/vichacker1234/Curso_mineria_de_datos/blob/main/SOM_victimas_antipersona.ipynb\" target=\"_parent\"><img src=\"https://colab.research.google.com/assets/colab-badge.svg\" alt=\"Open In Colab\"/></a>"
      ]
    },
    {
      "cell_type": "markdown",
      "source": [
        "#**Análisis del conjunto de datos (modelo de tipo explicativo)**"
      ],
      "metadata": {
        "id": "QIkdltUePcEB"
      }
    },
    {
      "cell_type": "code",
      "source": [
        "#Importar las librerías más importantes \n",
        "import pandas as pd\n",
        "import numpy as np\n",
        "import matplotlib.pyplot as plt"
      ],
      "metadata": {
        "id": "7VbVYG1QPitu"
      },
      "execution_count": null,
      "outputs": []
    },
    {
      "cell_type": "code",
      "source": [
        "import sys\n",
        "sys.path.insert(0, '../')\n",
        "\n",
        "\n",
        "\n",
        "\n",
        "import numpy as np\n",
        "import matplotlib.pyplot as plt\n",
        "%matplotlib inline\n",
        "\n",
        "%load_ext autoreload"
      ],
      "metadata": {
        "id": "ROj_fPrRQNXU"
      },
      "execution_count": null,
      "outputs": []
    },
    {
      "cell_type": "code",
      "source": [
        "#Montar el drive\n",
        "from google.colab import drive\n",
        "drive.mount('/content/gdrive')"
      ],
      "metadata": {
        "id": "fQzEdnX6anzJ",
        "colab": {
          "base_uri": "https://localhost:8080/"
        },
        "outputId": "319001f4-d902-4776-b682-8d3af0405498"
      },
      "execution_count": null,
      "outputs": [
        {
          "output_type": "stream",
          "name": "stdout",
          "text": [
            "Mounted at /content/gdrive\n"
          ]
        }
      ]
    },
    {
      "cell_type": "code",
      "source": [
        "#Lectura del dataframe de victimas \n",
        "victimas_minas_df=pd.read_csv('/content/gdrive/MyDrive/Mineria_de_datos/victimas_MAP_1999-2017.csv')"
      ],
      "metadata": {
        "id": "0fU5qXFbYzz8"
      },
      "execution_count": null,
      "outputs": []
    },
    {
      "cell_type": "code",
      "source": [
        "# Ver las columnas del dataframe\n",
        "victimas_minas_df.head()"
      ],
      "metadata": {
        "id": "3BUluSCkbfiA"
      },
      "execution_count": null,
      "outputs": []
    },
    {
      "cell_type": "code",
      "source": [
        "victimas_minas_df.shape"
      ],
      "metadata": {
        "id": "9jbhIeOfXk7C",
        "colab": {
          "base_uri": "https://localhost:8080/"
        },
        "outputId": "864f3c7c-636f-47bf-dae7-59554467885a"
      },
      "execution_count": null,
      "outputs": [
        {
          "output_type": "execute_result",
          "data": {
            "text/plain": [
              "(12229, 17)"
            ]
          },
          "metadata": {},
          "execution_count": 6
        }
      ]
    },
    {
      "cell_type": "code",
      "source": [
        "#Tamaño del dataframe\n",
        "print(victimas_minas_df.shape)\n",
        "#Columnas del dataframe \n",
        "victimas_minas_df.columns"
      ],
      "metadata": {
        "id": "XXdcUonTccHH",
        "colab": {
          "base_uri": "https://localhost:8080/"
        },
        "outputId": "f145be24-54ba-4b43-9ff0-a8496701a6d9"
      },
      "execution_count": null,
      "outputs": [
        {
          "output_type": "stream",
          "name": "stdout",
          "text": [
            "(12229, 17)\n"
          ]
        },
        {
          "output_type": "execute_result",
          "data": {
            "text/plain": [
              "Index(['departamento', 'codigodanedepartamento', 'municipio',\n",
              "       'codigodanemunicipio', 'tipoarea', 'sitio', 'ano', 'mes', 'rangoedad',\n",
              "       'grupoetnico', 'condicion', 'estado', 'genero', 'latitudcabecera',\n",
              "       'longitudcabecera', 'tipoevento', 'Ubicación'],\n",
              "      dtype='object')"
            ]
          },
          "metadata": {},
          "execution_count": 7
        }
      ]
    },
    {
      "cell_type": "markdown",
      "source": [
        "##**Resumen de los resultados estadísticos**"
      ],
      "metadata": {
        "id": "NVPC4fQrbxvJ"
      }
    },
    {
      "cell_type": "code",
      "source": [
        "#Resumen estadístico del dataframe\n",
        "victimas_minas_df.info()"
      ],
      "metadata": {
        "id": "IR5UQGNbeMx6"
      },
      "execution_count": null,
      "outputs": []
    },
    {
      "cell_type": "markdown",
      "source": [
        "#**Tratamiento de las variables cualitativas**\n",
        "\n",
        "En este apartado se van a seleccionar las variables categórticas para codificarlas usando one-hot"
      ],
      "metadata": {
        "id": "EK7mQ-apd8Hy"
      }
    },
    {
      "cell_type": "markdown",
      "source": [
        "##**Definir las variables categóricas**"
      ],
      "metadata": {
        "id": "MfhqwbOu-kge"
      }
    },
    {
      "cell_type": "code",
      "source": [
        "#Definir las variables categóricas\n",
        "df1_cat=victimas_minas_df[['rangoedad','condicion','tipoarea','grupoetnico','genero']]"
      ],
      "metadata": {
        "id": "ucWgVTegd_nB"
      },
      "execution_count": null,
      "outputs": []
    },
    {
      "cell_type": "code",
      "source": [
        "#10 primeros registros de la parte superior\n",
        "df1_cat.head(10)\n"
      ],
      "metadata": {
        "id": "fVkQRgD5fIMk"
      },
      "execution_count": null,
      "outputs": []
    },
    {
      "cell_type": "markdown",
      "source": [
        "##**Tabla cruzada**"
      ],
      "metadata": {
        "id": "gYjteVZf9R8n"
      }
    },
    {
      "cell_type": "code",
      "source": [
        "#Primera tabla cruzada\n",
        "T1=pd.crosstab(victimas_minas_df.departamento,victimas_minas_df.estado,margins_name='Total')"
      ],
      "metadata": {
        "id": "2SyVUkSC9U8O"
      },
      "execution_count": null,
      "outputs": []
    },
    {
      "cell_type": "code",
      "source": [
        "T1.head(10)"
      ],
      "metadata": {
        "id": "UetT1SQe99Jd"
      },
      "execution_count": null,
      "outputs": []
    },
    {
      "cell_type": "code",
      "source": [
        "type(T1)      \n",
        "\n",
        "\n",
        "\n"
      ],
      "metadata": {
        "colab": {
          "base_uri": "https://localhost:8080/"
        },
        "id": "v2LM1bxq-5UJ",
        "outputId": "e36310e0-25ba-481a-9da6-304722425462"
      },
      "execution_count": null,
      "outputs": [
        {
          "output_type": "execute_result",
          "data": {
            "text/plain": [
              "pandas.core.frame.DataFrame"
            ]
          },
          "metadata": {},
          "execution_count": 13
        }
      ]
    },
    {
      "cell_type": "code",
      "source": [
        "T2=pd.crosstab(victimas_minas_df.departamento,victimas_minas_df.condicion,margins_name='Total')"
      ],
      "metadata": {
        "id": "J2xWp7VZ_iwp"
      },
      "execution_count": null,
      "outputs": []
    },
    {
      "cell_type": "code",
      "source": [
        "T2.head(10)"
      ],
      "metadata": {
        "id": "0ujqZQ8D_6Nc"
      },
      "execution_count": null,
      "outputs": []
    },
    {
      "cell_type": "markdown",
      "source": [
        "##**T3**"
      ],
      "metadata": {
        "id": "rF1jeWO3A103"
      }
    },
    {
      "cell_type": "code",
      "source": [
        "T3=pd.crosstab(victimas_minas_df.departamento,victimas_minas_df.tipoarea,margins_name='Total')"
      ],
      "metadata": {
        "id": "9yvCBu9aA5iY"
      },
      "execution_count": null,
      "outputs": []
    },
    {
      "cell_type": "code",
      "source": [
        "T3"
      ],
      "metadata": {
        "colab": {
          "base_uri": "https://localhost:8080/",
          "height": 1000
        },
        "id": "yUvDyNnjBMMr",
        "outputId": "213ab008-47b5-4a8a-f856-9f766ebc26de"
      },
      "execution_count": null,
      "outputs": [
        {
          "output_type": "execute_result",
          "data": {
            "text/plain": [
              "tipoarea            Rural  Urbana\n",
              "departamento                     \n",
              "AMAZONAS                4       0\n",
              "ANTIOQUIA            2581      63\n",
              "ARAUCA                641      12\n",
              "ATLANTICO               2       6\n",
              "BOGOTA DC              20      10\n",
              "BOLIVAR               632       5\n",
              "BOYACA                 77       1\n",
              "CALDAS                164       4\n",
              "CAQUETA               942       7\n",
              "CASANARE               90       0\n",
              "CAUCA                 640      11\n",
              "CESAR                 146      12\n",
              "CHOCO                 208       1\n",
              "CORDOBA               279       4\n",
              "CUNDINAMARCA          136       5\n",
              "GUAINIA                 3       0\n",
              "GUAVIARE              265       2\n",
              "HUILA                 226      10\n",
              "LA GUAJIRA             59       1\n",
              "MAGDALENA              46       0\n",
              "META                 1145       3\n",
              "NARIÑO               1045      12\n",
              "NORTE DE SANTANDER    946      16\n",
              "PUTUMAYO              453       1\n",
              "QUINDIO                24       4\n",
              "RISARALDA              19       3\n",
              "SANTANDER             267      30\n",
              "SUCRE                  73       2\n",
              "TOLIMA                535       4\n",
              "VALLE DEL CAUCA       252      18\n",
              "VAUPES                 43       1\n",
              "VICHADA                18       0"
            ],
            "text/html": [
              "\n",
              "  <div id=\"df-f725569e-0d0b-4fd7-8f40-31dad66e2ab0\">\n",
              "    <div class=\"colab-df-container\">\n",
              "      <div>\n",
              "<style scoped>\n",
              "    .dataframe tbody tr th:only-of-type {\n",
              "        vertical-align: middle;\n",
              "    }\n",
              "\n",
              "    .dataframe tbody tr th {\n",
              "        vertical-align: top;\n",
              "    }\n",
              "\n",
              "    .dataframe thead th {\n",
              "        text-align: right;\n",
              "    }\n",
              "</style>\n",
              "<table border=\"1\" class=\"dataframe\">\n",
              "  <thead>\n",
              "    <tr style=\"text-align: right;\">\n",
              "      <th>tipoarea</th>\n",
              "      <th>Rural</th>\n",
              "      <th>Urbana</th>\n",
              "    </tr>\n",
              "    <tr>\n",
              "      <th>departamento</th>\n",
              "      <th></th>\n",
              "      <th></th>\n",
              "    </tr>\n",
              "  </thead>\n",
              "  <tbody>\n",
              "    <tr>\n",
              "      <th>AMAZONAS</th>\n",
              "      <td>4</td>\n",
              "      <td>0</td>\n",
              "    </tr>\n",
              "    <tr>\n",
              "      <th>ANTIOQUIA</th>\n",
              "      <td>2581</td>\n",
              "      <td>63</td>\n",
              "    </tr>\n",
              "    <tr>\n",
              "      <th>ARAUCA</th>\n",
              "      <td>641</td>\n",
              "      <td>12</td>\n",
              "    </tr>\n",
              "    <tr>\n",
              "      <th>ATLANTICO</th>\n",
              "      <td>2</td>\n",
              "      <td>6</td>\n",
              "    </tr>\n",
              "    <tr>\n",
              "      <th>BOGOTA DC</th>\n",
              "      <td>20</td>\n",
              "      <td>10</td>\n",
              "    </tr>\n",
              "    <tr>\n",
              "      <th>BOLIVAR</th>\n",
              "      <td>632</td>\n",
              "      <td>5</td>\n",
              "    </tr>\n",
              "    <tr>\n",
              "      <th>BOYACA</th>\n",
              "      <td>77</td>\n",
              "      <td>1</td>\n",
              "    </tr>\n",
              "    <tr>\n",
              "      <th>CALDAS</th>\n",
              "      <td>164</td>\n",
              "      <td>4</td>\n",
              "    </tr>\n",
              "    <tr>\n",
              "      <th>CAQUETA</th>\n",
              "      <td>942</td>\n",
              "      <td>7</td>\n",
              "    </tr>\n",
              "    <tr>\n",
              "      <th>CASANARE</th>\n",
              "      <td>90</td>\n",
              "      <td>0</td>\n",
              "    </tr>\n",
              "    <tr>\n",
              "      <th>CAUCA</th>\n",
              "      <td>640</td>\n",
              "      <td>11</td>\n",
              "    </tr>\n",
              "    <tr>\n",
              "      <th>CESAR</th>\n",
              "      <td>146</td>\n",
              "      <td>12</td>\n",
              "    </tr>\n",
              "    <tr>\n",
              "      <th>CHOCO</th>\n",
              "      <td>208</td>\n",
              "      <td>1</td>\n",
              "    </tr>\n",
              "    <tr>\n",
              "      <th>CORDOBA</th>\n",
              "      <td>279</td>\n",
              "      <td>4</td>\n",
              "    </tr>\n",
              "    <tr>\n",
              "      <th>CUNDINAMARCA</th>\n",
              "      <td>136</td>\n",
              "      <td>5</td>\n",
              "    </tr>\n",
              "    <tr>\n",
              "      <th>GUAINIA</th>\n",
              "      <td>3</td>\n",
              "      <td>0</td>\n",
              "    </tr>\n",
              "    <tr>\n",
              "      <th>GUAVIARE</th>\n",
              "      <td>265</td>\n",
              "      <td>2</td>\n",
              "    </tr>\n",
              "    <tr>\n",
              "      <th>HUILA</th>\n",
              "      <td>226</td>\n",
              "      <td>10</td>\n",
              "    </tr>\n",
              "    <tr>\n",
              "      <th>LA GUAJIRA</th>\n",
              "      <td>59</td>\n",
              "      <td>1</td>\n",
              "    </tr>\n",
              "    <tr>\n",
              "      <th>MAGDALENA</th>\n",
              "      <td>46</td>\n",
              "      <td>0</td>\n",
              "    </tr>\n",
              "    <tr>\n",
              "      <th>META</th>\n",
              "      <td>1145</td>\n",
              "      <td>3</td>\n",
              "    </tr>\n",
              "    <tr>\n",
              "      <th>NARIÑO</th>\n",
              "      <td>1045</td>\n",
              "      <td>12</td>\n",
              "    </tr>\n",
              "    <tr>\n",
              "      <th>NORTE DE SANTANDER</th>\n",
              "      <td>946</td>\n",
              "      <td>16</td>\n",
              "    </tr>\n",
              "    <tr>\n",
              "      <th>PUTUMAYO</th>\n",
              "      <td>453</td>\n",
              "      <td>1</td>\n",
              "    </tr>\n",
              "    <tr>\n",
              "      <th>QUINDIO</th>\n",
              "      <td>24</td>\n",
              "      <td>4</td>\n",
              "    </tr>\n",
              "    <tr>\n",
              "      <th>RISARALDA</th>\n",
              "      <td>19</td>\n",
              "      <td>3</td>\n",
              "    </tr>\n",
              "    <tr>\n",
              "      <th>SANTANDER</th>\n",
              "      <td>267</td>\n",
              "      <td>30</td>\n",
              "    </tr>\n",
              "    <tr>\n",
              "      <th>SUCRE</th>\n",
              "      <td>73</td>\n",
              "      <td>2</td>\n",
              "    </tr>\n",
              "    <tr>\n",
              "      <th>TOLIMA</th>\n",
              "      <td>535</td>\n",
              "      <td>4</td>\n",
              "    </tr>\n",
              "    <tr>\n",
              "      <th>VALLE DEL CAUCA</th>\n",
              "      <td>252</td>\n",
              "      <td>18</td>\n",
              "    </tr>\n",
              "    <tr>\n",
              "      <th>VAUPES</th>\n",
              "      <td>43</td>\n",
              "      <td>1</td>\n",
              "    </tr>\n",
              "    <tr>\n",
              "      <th>VICHADA</th>\n",
              "      <td>18</td>\n",
              "      <td>0</td>\n",
              "    </tr>\n",
              "  </tbody>\n",
              "</table>\n",
              "</div>\n",
              "      <button class=\"colab-df-convert\" onclick=\"convertToInteractive('df-f725569e-0d0b-4fd7-8f40-31dad66e2ab0')\"\n",
              "              title=\"Convert this dataframe to an interactive table.\"\n",
              "              style=\"display:none;\">\n",
              "        \n",
              "  <svg xmlns=\"http://www.w3.org/2000/svg\" height=\"24px\"viewBox=\"0 0 24 24\"\n",
              "       width=\"24px\">\n",
              "    <path d=\"M0 0h24v24H0V0z\" fill=\"none\"/>\n",
              "    <path d=\"M18.56 5.44l.94 2.06.94-2.06 2.06-.94-2.06-.94-.94-2.06-.94 2.06-2.06.94zm-11 1L8.5 8.5l.94-2.06 2.06-.94-2.06-.94L8.5 2.5l-.94 2.06-2.06.94zm10 10l.94 2.06.94-2.06 2.06-.94-2.06-.94-.94-2.06-.94 2.06-2.06.94z\"/><path d=\"M17.41 7.96l-1.37-1.37c-.4-.4-.92-.59-1.43-.59-.52 0-1.04.2-1.43.59L10.3 9.45l-7.72 7.72c-.78.78-.78 2.05 0 2.83L4 21.41c.39.39.9.59 1.41.59.51 0 1.02-.2 1.41-.59l7.78-7.78 2.81-2.81c.8-.78.8-2.07 0-2.86zM5.41 20L4 18.59l7.72-7.72 1.47 1.35L5.41 20z\"/>\n",
              "  </svg>\n",
              "      </button>\n",
              "      \n",
              "  <style>\n",
              "    .colab-df-container {\n",
              "      display:flex;\n",
              "      flex-wrap:wrap;\n",
              "      gap: 12px;\n",
              "    }\n",
              "\n",
              "    .colab-df-convert {\n",
              "      background-color: #E8F0FE;\n",
              "      border: none;\n",
              "      border-radius: 50%;\n",
              "      cursor: pointer;\n",
              "      display: none;\n",
              "      fill: #1967D2;\n",
              "      height: 32px;\n",
              "      padding: 0 0 0 0;\n",
              "      width: 32px;\n",
              "    }\n",
              "\n",
              "    .colab-df-convert:hover {\n",
              "      background-color: #E2EBFA;\n",
              "      box-shadow: 0px 1px 2px rgba(60, 64, 67, 0.3), 0px 1px 3px 1px rgba(60, 64, 67, 0.15);\n",
              "      fill: #174EA6;\n",
              "    }\n",
              "\n",
              "    [theme=dark] .colab-df-convert {\n",
              "      background-color: #3B4455;\n",
              "      fill: #D2E3FC;\n",
              "    }\n",
              "\n",
              "    [theme=dark] .colab-df-convert:hover {\n",
              "      background-color: #434B5C;\n",
              "      box-shadow: 0px 1px 3px 1px rgba(0, 0, 0, 0.15);\n",
              "      filter: drop-shadow(0px 1px 2px rgba(0, 0, 0, 0.3));\n",
              "      fill: #FFFFFF;\n",
              "    }\n",
              "  </style>\n",
              "\n",
              "      <script>\n",
              "        const buttonEl =\n",
              "          document.querySelector('#df-f725569e-0d0b-4fd7-8f40-31dad66e2ab0 button.colab-df-convert');\n",
              "        buttonEl.style.display =\n",
              "          google.colab.kernel.accessAllowed ? 'block' : 'none';\n",
              "\n",
              "        async function convertToInteractive(key) {\n",
              "          const element = document.querySelector('#df-f725569e-0d0b-4fd7-8f40-31dad66e2ab0');\n",
              "          const dataTable =\n",
              "            await google.colab.kernel.invokeFunction('convertToInteractive',\n",
              "                                                     [key], {});\n",
              "          if (!dataTable) return;\n",
              "\n",
              "          const docLinkHtml = 'Like what you see? Visit the ' +\n",
              "            '<a target=\"_blank\" href=https://colab.research.google.com/notebooks/data_table.ipynb>data table notebook</a>'\n",
              "            + ' to learn more about interactive tables.';\n",
              "          element.innerHTML = '';\n",
              "          dataTable['output_type'] = 'display_data';\n",
              "          await google.colab.output.renderOutput(dataTable, element);\n",
              "          const docLink = document.createElement('div');\n",
              "          docLink.innerHTML = docLinkHtml;\n",
              "          element.appendChild(docLink);\n",
              "        }\n",
              "      </script>\n",
              "    </div>\n",
              "  </div>\n",
              "  "
            ]
          },
          "metadata": {},
          "execution_count": 54
        }
      ]
    },
    {
      "cell_type": "markdown",
      "source": [
        "##**T4**"
      ],
      "metadata": {
        "id": "zTIVOBBUBbld"
      }
    },
    {
      "cell_type": "code",
      "source": [
        "T4=pd.crosstab(victimas_minas_df.departamento,victimas_minas_df.grupoetnico)"
      ],
      "metadata": {
        "id": "xOXUBnNnBiwk"
      },
      "execution_count": null,
      "outputs": []
    },
    {
      "cell_type": "code",
      "source": [
        "T4.head()"
      ],
      "metadata": {
        "colab": {
          "base_uri": "https://localhost:8080/",
          "height": 238
        },
        "id": "vt33zCg3B75S",
        "outputId": "86c19341-6f7b-4804-de37-fd45648126b6"
      },
      "execution_count": null,
      "outputs": [
        {
          "output_type": "execute_result",
          "data": {
            "text/plain": [
              "grupoetnico   Afrodescendiente  Indigena    No\n",
              "departamento                                  \n",
              "AMAZONAS                     0         0     4\n",
              "ANTIOQUIA                    7        40  2597\n",
              "ARAUCA                       4        12   637\n",
              "ATLANTICO                    0         0     8\n",
              "BOGOTA DC                    0         0    30"
            ],
            "text/html": [
              "\n",
              "  <div id=\"df-46b7b01c-a0e3-4de4-b5dd-cbcd98f39fd8\">\n",
              "    <div class=\"colab-df-container\">\n",
              "      <div>\n",
              "<style scoped>\n",
              "    .dataframe tbody tr th:only-of-type {\n",
              "        vertical-align: middle;\n",
              "    }\n",
              "\n",
              "    .dataframe tbody tr th {\n",
              "        vertical-align: top;\n",
              "    }\n",
              "\n",
              "    .dataframe thead th {\n",
              "        text-align: right;\n",
              "    }\n",
              "</style>\n",
              "<table border=\"1\" class=\"dataframe\">\n",
              "  <thead>\n",
              "    <tr style=\"text-align: right;\">\n",
              "      <th>grupoetnico</th>\n",
              "      <th>Afrodescendiente</th>\n",
              "      <th>Indigena</th>\n",
              "      <th>No</th>\n",
              "    </tr>\n",
              "    <tr>\n",
              "      <th>departamento</th>\n",
              "      <th></th>\n",
              "      <th></th>\n",
              "      <th></th>\n",
              "    </tr>\n",
              "  </thead>\n",
              "  <tbody>\n",
              "    <tr>\n",
              "      <th>AMAZONAS</th>\n",
              "      <td>0</td>\n",
              "      <td>0</td>\n",
              "      <td>4</td>\n",
              "    </tr>\n",
              "    <tr>\n",
              "      <th>ANTIOQUIA</th>\n",
              "      <td>7</td>\n",
              "      <td>40</td>\n",
              "      <td>2597</td>\n",
              "    </tr>\n",
              "    <tr>\n",
              "      <th>ARAUCA</th>\n",
              "      <td>4</td>\n",
              "      <td>12</td>\n",
              "      <td>637</td>\n",
              "    </tr>\n",
              "    <tr>\n",
              "      <th>ATLANTICO</th>\n",
              "      <td>0</td>\n",
              "      <td>0</td>\n",
              "      <td>8</td>\n",
              "    </tr>\n",
              "    <tr>\n",
              "      <th>BOGOTA DC</th>\n",
              "      <td>0</td>\n",
              "      <td>0</td>\n",
              "      <td>30</td>\n",
              "    </tr>\n",
              "  </tbody>\n",
              "</table>\n",
              "</div>\n",
              "      <button class=\"colab-df-convert\" onclick=\"convertToInteractive('df-46b7b01c-a0e3-4de4-b5dd-cbcd98f39fd8')\"\n",
              "              title=\"Convert this dataframe to an interactive table.\"\n",
              "              style=\"display:none;\">\n",
              "        \n",
              "  <svg xmlns=\"http://www.w3.org/2000/svg\" height=\"24px\"viewBox=\"0 0 24 24\"\n",
              "       width=\"24px\">\n",
              "    <path d=\"M0 0h24v24H0V0z\" fill=\"none\"/>\n",
              "    <path d=\"M18.56 5.44l.94 2.06.94-2.06 2.06-.94-2.06-.94-.94-2.06-.94 2.06-2.06.94zm-11 1L8.5 8.5l.94-2.06 2.06-.94-2.06-.94L8.5 2.5l-.94 2.06-2.06.94zm10 10l.94 2.06.94-2.06 2.06-.94-2.06-.94-.94-2.06-.94 2.06-2.06.94z\"/><path d=\"M17.41 7.96l-1.37-1.37c-.4-.4-.92-.59-1.43-.59-.52 0-1.04.2-1.43.59L10.3 9.45l-7.72 7.72c-.78.78-.78 2.05 0 2.83L4 21.41c.39.39.9.59 1.41.59.51 0 1.02-.2 1.41-.59l7.78-7.78 2.81-2.81c.8-.78.8-2.07 0-2.86zM5.41 20L4 18.59l7.72-7.72 1.47 1.35L5.41 20z\"/>\n",
              "  </svg>\n",
              "      </button>\n",
              "      \n",
              "  <style>\n",
              "    .colab-df-container {\n",
              "      display:flex;\n",
              "      flex-wrap:wrap;\n",
              "      gap: 12px;\n",
              "    }\n",
              "\n",
              "    .colab-df-convert {\n",
              "      background-color: #E8F0FE;\n",
              "      border: none;\n",
              "      border-radius: 50%;\n",
              "      cursor: pointer;\n",
              "      display: none;\n",
              "      fill: #1967D2;\n",
              "      height: 32px;\n",
              "      padding: 0 0 0 0;\n",
              "      width: 32px;\n",
              "    }\n",
              "\n",
              "    .colab-df-convert:hover {\n",
              "      background-color: #E2EBFA;\n",
              "      box-shadow: 0px 1px 2px rgba(60, 64, 67, 0.3), 0px 1px 3px 1px rgba(60, 64, 67, 0.15);\n",
              "      fill: #174EA6;\n",
              "    }\n",
              "\n",
              "    [theme=dark] .colab-df-convert {\n",
              "      background-color: #3B4455;\n",
              "      fill: #D2E3FC;\n",
              "    }\n",
              "\n",
              "    [theme=dark] .colab-df-convert:hover {\n",
              "      background-color: #434B5C;\n",
              "      box-shadow: 0px 1px 3px 1px rgba(0, 0, 0, 0.15);\n",
              "      filter: drop-shadow(0px 1px 2px rgba(0, 0, 0, 0.3));\n",
              "      fill: #FFFFFF;\n",
              "    }\n",
              "  </style>\n",
              "\n",
              "      <script>\n",
              "        const buttonEl =\n",
              "          document.querySelector('#df-46b7b01c-a0e3-4de4-b5dd-cbcd98f39fd8 button.colab-df-convert');\n",
              "        buttonEl.style.display =\n",
              "          google.colab.kernel.accessAllowed ? 'block' : 'none';\n",
              "\n",
              "        async function convertToInteractive(key) {\n",
              "          const element = document.querySelector('#df-46b7b01c-a0e3-4de4-b5dd-cbcd98f39fd8');\n",
              "          const dataTable =\n",
              "            await google.colab.kernel.invokeFunction('convertToInteractive',\n",
              "                                                     [key], {});\n",
              "          if (!dataTable) return;\n",
              "\n",
              "          const docLinkHtml = 'Like what you see? Visit the ' +\n",
              "            '<a target=\"_blank\" href=https://colab.research.google.com/notebooks/data_table.ipynb>data table notebook</a>'\n",
              "            + ' to learn more about interactive tables.';\n",
              "          element.innerHTML = '';\n",
              "          dataTable['output_type'] = 'display_data';\n",
              "          await google.colab.output.renderOutput(dataTable, element);\n",
              "          const docLink = document.createElement('div');\n",
              "          docLink.innerHTML = docLinkHtml;\n",
              "          element.appendChild(docLink);\n",
              "        }\n",
              "      </script>\n",
              "    </div>\n",
              "  </div>\n",
              "  "
            ]
          },
          "metadata": {},
          "execution_count": 20
        }
      ]
    },
    {
      "cell_type": "markdown",
      "source": [
        "##**T5**"
      ],
      "metadata": {
        "id": "ZJftcoQIpUdF"
      }
    },
    {
      "cell_type": "code",
      "source": [
        "T5=pd.crosstab(victimas_minas_df.departamento,victimas_minas_df.rangoedad)"
      ],
      "metadata": {
        "id": "H4gGM983pYWa"
      },
      "execution_count": null,
      "outputs": []
    },
    {
      "cell_type": "code",
      "source": [
        "T5.head()"
      ],
      "metadata": {
        "colab": {
          "base_uri": "https://localhost:8080/",
          "height": 238
        },
        "id": "mBUW8sFMptMl",
        "outputId": "24c22022-f9da-4297-d9b3-27ff564d94c0"
      },
      "execution_count": null,
      "outputs": [
        {
          "output_type": "execute_result",
          "data": {
            "text/plain": [
              "rangoedad     Mayor de 18 años  Menor de 18 años\n",
              "departamento                                    \n",
              "AMAZONAS                     4                 0\n",
              "ANTIOQUIA                 2354               290\n",
              "ARAUCA                     599                54\n",
              "ATLANTICO                    1                 7\n",
              "BOGOTA DC                   22                 8"
            ],
            "text/html": [
              "\n",
              "  <div id=\"df-1230d0c7-05ce-4ee4-b210-a3d88a994cff\">\n",
              "    <div class=\"colab-df-container\">\n",
              "      <div>\n",
              "<style scoped>\n",
              "    .dataframe tbody tr th:only-of-type {\n",
              "        vertical-align: middle;\n",
              "    }\n",
              "\n",
              "    .dataframe tbody tr th {\n",
              "        vertical-align: top;\n",
              "    }\n",
              "\n",
              "    .dataframe thead th {\n",
              "        text-align: right;\n",
              "    }\n",
              "</style>\n",
              "<table border=\"1\" class=\"dataframe\">\n",
              "  <thead>\n",
              "    <tr style=\"text-align: right;\">\n",
              "      <th>rangoedad</th>\n",
              "      <th>Mayor de 18 años</th>\n",
              "      <th>Menor de 18 años</th>\n",
              "    </tr>\n",
              "    <tr>\n",
              "      <th>departamento</th>\n",
              "      <th></th>\n",
              "      <th></th>\n",
              "    </tr>\n",
              "  </thead>\n",
              "  <tbody>\n",
              "    <tr>\n",
              "      <th>AMAZONAS</th>\n",
              "      <td>4</td>\n",
              "      <td>0</td>\n",
              "    </tr>\n",
              "    <tr>\n",
              "      <th>ANTIOQUIA</th>\n",
              "      <td>2354</td>\n",
              "      <td>290</td>\n",
              "    </tr>\n",
              "    <tr>\n",
              "      <th>ARAUCA</th>\n",
              "      <td>599</td>\n",
              "      <td>54</td>\n",
              "    </tr>\n",
              "    <tr>\n",
              "      <th>ATLANTICO</th>\n",
              "      <td>1</td>\n",
              "      <td>7</td>\n",
              "    </tr>\n",
              "    <tr>\n",
              "      <th>BOGOTA DC</th>\n",
              "      <td>22</td>\n",
              "      <td>8</td>\n",
              "    </tr>\n",
              "  </tbody>\n",
              "</table>\n",
              "</div>\n",
              "      <button class=\"colab-df-convert\" onclick=\"convertToInteractive('df-1230d0c7-05ce-4ee4-b210-a3d88a994cff')\"\n",
              "              title=\"Convert this dataframe to an interactive table.\"\n",
              "              style=\"display:none;\">\n",
              "        \n",
              "  <svg xmlns=\"http://www.w3.org/2000/svg\" height=\"24px\"viewBox=\"0 0 24 24\"\n",
              "       width=\"24px\">\n",
              "    <path d=\"M0 0h24v24H0V0z\" fill=\"none\"/>\n",
              "    <path d=\"M18.56 5.44l.94 2.06.94-2.06 2.06-.94-2.06-.94-.94-2.06-.94 2.06-2.06.94zm-11 1L8.5 8.5l.94-2.06 2.06-.94-2.06-.94L8.5 2.5l-.94 2.06-2.06.94zm10 10l.94 2.06.94-2.06 2.06-.94-2.06-.94-.94-2.06-.94 2.06-2.06.94z\"/><path d=\"M17.41 7.96l-1.37-1.37c-.4-.4-.92-.59-1.43-.59-.52 0-1.04.2-1.43.59L10.3 9.45l-7.72 7.72c-.78.78-.78 2.05 0 2.83L4 21.41c.39.39.9.59 1.41.59.51 0 1.02-.2 1.41-.59l7.78-7.78 2.81-2.81c.8-.78.8-2.07 0-2.86zM5.41 20L4 18.59l7.72-7.72 1.47 1.35L5.41 20z\"/>\n",
              "  </svg>\n",
              "      </button>\n",
              "      \n",
              "  <style>\n",
              "    .colab-df-container {\n",
              "      display:flex;\n",
              "      flex-wrap:wrap;\n",
              "      gap: 12px;\n",
              "    }\n",
              "\n",
              "    .colab-df-convert {\n",
              "      background-color: #E8F0FE;\n",
              "      border: none;\n",
              "      border-radius: 50%;\n",
              "      cursor: pointer;\n",
              "      display: none;\n",
              "      fill: #1967D2;\n",
              "      height: 32px;\n",
              "      padding: 0 0 0 0;\n",
              "      width: 32px;\n",
              "    }\n",
              "\n",
              "    .colab-df-convert:hover {\n",
              "      background-color: #E2EBFA;\n",
              "      box-shadow: 0px 1px 2px rgba(60, 64, 67, 0.3), 0px 1px 3px 1px rgba(60, 64, 67, 0.15);\n",
              "      fill: #174EA6;\n",
              "    }\n",
              "\n",
              "    [theme=dark] .colab-df-convert {\n",
              "      background-color: #3B4455;\n",
              "      fill: #D2E3FC;\n",
              "    }\n",
              "\n",
              "    [theme=dark] .colab-df-convert:hover {\n",
              "      background-color: #434B5C;\n",
              "      box-shadow: 0px 1px 3px 1px rgba(0, 0, 0, 0.15);\n",
              "      filter: drop-shadow(0px 1px 2px rgba(0, 0, 0, 0.3));\n",
              "      fill: #FFFFFF;\n",
              "    }\n",
              "  </style>\n",
              "\n",
              "      <script>\n",
              "        const buttonEl =\n",
              "          document.querySelector('#df-1230d0c7-05ce-4ee4-b210-a3d88a994cff button.colab-df-convert');\n",
              "        buttonEl.style.display =\n",
              "          google.colab.kernel.accessAllowed ? 'block' : 'none';\n",
              "\n",
              "        async function convertToInteractive(key) {\n",
              "          const element = document.querySelector('#df-1230d0c7-05ce-4ee4-b210-a3d88a994cff');\n",
              "          const dataTable =\n",
              "            await google.colab.kernel.invokeFunction('convertToInteractive',\n",
              "                                                     [key], {});\n",
              "          if (!dataTable) return;\n",
              "\n",
              "          const docLinkHtml = 'Like what you see? Visit the ' +\n",
              "            '<a target=\"_blank\" href=https://colab.research.google.com/notebooks/data_table.ipynb>data table notebook</a>'\n",
              "            + ' to learn more about interactive tables.';\n",
              "          element.innerHTML = '';\n",
              "          dataTable['output_type'] = 'display_data';\n",
              "          await google.colab.output.renderOutput(dataTable, element);\n",
              "          const docLink = document.createElement('div');\n",
              "          docLink.innerHTML = docLinkHtml;\n",
              "          element.appendChild(docLink);\n",
              "        }\n",
              "      </script>\n",
              "    </div>\n",
              "  </div>\n",
              "  "
            ]
          },
          "metadata": {},
          "execution_count": 28
        }
      ]
    },
    {
      "cell_type": "markdown",
      "source": [
        "##**T6**"
      ],
      "metadata": {
        "id": "JfKOCK9Up7A6"
      }
    },
    {
      "cell_type": "code",
      "source": [
        "T6=pd.crosstab(victimas_minas_df.departamento,victimas_minas_df.genero)"
      ],
      "metadata": {
        "id": "hcsPykBWp9oo"
      },
      "execution_count": null,
      "outputs": []
    },
    {
      "cell_type": "markdown",
      "source": [
        "##**Unir los dataset**"
      ],
      "metadata": {
        "id": "P-m21UbxCLaC"
      }
    },
    {
      "cell_type": "code",
      "source": [
        "#Unir los dataframes\n",
        "DF_1=pd.merge(T1,T2,how='inner',on='departamento')"
      ],
      "metadata": {
        "id": "tjPNz3e-CF-R"
      },
      "execution_count": null,
      "outputs": []
    },
    {
      "cell_type": "code",
      "source": [
        "DF_1.head()"
      ],
      "metadata": {
        "colab": {
          "base_uri": "https://localhost:8080/",
          "height": 238
        },
        "id": "S0Wy0f4SrXOl",
        "outputId": "37eba7c7-da14-4731-83be-aecc240834c4"
      },
      "execution_count": null,
      "outputs": [
        {
          "output_type": "execute_result",
          "data": {
            "text/plain": [
              "              Herido  Muerto  Civil  Fuerza pública\n",
              "departamento                                       \n",
              "AMAZONAS           2       2      1               3\n",
              "ANTIOQUIA       2226     418   1213            1431\n",
              "ARAUCA           535     118    230             423\n",
              "ATLANTICO          7       1      8               0\n",
              "BOGOTA DC         19      11     11              19"
            ],
            "text/html": [
              "\n",
              "  <div id=\"df-057851d1-2fb1-4e16-99da-a56159e311a6\">\n",
              "    <div class=\"colab-df-container\">\n",
              "      <div>\n",
              "<style scoped>\n",
              "    .dataframe tbody tr th:only-of-type {\n",
              "        vertical-align: middle;\n",
              "    }\n",
              "\n",
              "    .dataframe tbody tr th {\n",
              "        vertical-align: top;\n",
              "    }\n",
              "\n",
              "    .dataframe thead th {\n",
              "        text-align: right;\n",
              "    }\n",
              "</style>\n",
              "<table border=\"1\" class=\"dataframe\">\n",
              "  <thead>\n",
              "    <tr style=\"text-align: right;\">\n",
              "      <th></th>\n",
              "      <th>Herido</th>\n",
              "      <th>Muerto</th>\n",
              "      <th>Civil</th>\n",
              "      <th>Fuerza pública</th>\n",
              "    </tr>\n",
              "    <tr>\n",
              "      <th>departamento</th>\n",
              "      <th></th>\n",
              "      <th></th>\n",
              "      <th></th>\n",
              "      <th></th>\n",
              "    </tr>\n",
              "  </thead>\n",
              "  <tbody>\n",
              "    <tr>\n",
              "      <th>AMAZONAS</th>\n",
              "      <td>2</td>\n",
              "      <td>2</td>\n",
              "      <td>1</td>\n",
              "      <td>3</td>\n",
              "    </tr>\n",
              "    <tr>\n",
              "      <th>ANTIOQUIA</th>\n",
              "      <td>2226</td>\n",
              "      <td>418</td>\n",
              "      <td>1213</td>\n",
              "      <td>1431</td>\n",
              "    </tr>\n",
              "    <tr>\n",
              "      <th>ARAUCA</th>\n",
              "      <td>535</td>\n",
              "      <td>118</td>\n",
              "      <td>230</td>\n",
              "      <td>423</td>\n",
              "    </tr>\n",
              "    <tr>\n",
              "      <th>ATLANTICO</th>\n",
              "      <td>7</td>\n",
              "      <td>1</td>\n",
              "      <td>8</td>\n",
              "      <td>0</td>\n",
              "    </tr>\n",
              "    <tr>\n",
              "      <th>BOGOTA DC</th>\n",
              "      <td>19</td>\n",
              "      <td>11</td>\n",
              "      <td>11</td>\n",
              "      <td>19</td>\n",
              "    </tr>\n",
              "  </tbody>\n",
              "</table>\n",
              "</div>\n",
              "      <button class=\"colab-df-convert\" onclick=\"convertToInteractive('df-057851d1-2fb1-4e16-99da-a56159e311a6')\"\n",
              "              title=\"Convert this dataframe to an interactive table.\"\n",
              "              style=\"display:none;\">\n",
              "        \n",
              "  <svg xmlns=\"http://www.w3.org/2000/svg\" height=\"24px\"viewBox=\"0 0 24 24\"\n",
              "       width=\"24px\">\n",
              "    <path d=\"M0 0h24v24H0V0z\" fill=\"none\"/>\n",
              "    <path d=\"M18.56 5.44l.94 2.06.94-2.06 2.06-.94-2.06-.94-.94-2.06-.94 2.06-2.06.94zm-11 1L8.5 8.5l.94-2.06 2.06-.94-2.06-.94L8.5 2.5l-.94 2.06-2.06.94zm10 10l.94 2.06.94-2.06 2.06-.94-2.06-.94-.94-2.06-.94 2.06-2.06.94z\"/><path d=\"M17.41 7.96l-1.37-1.37c-.4-.4-.92-.59-1.43-.59-.52 0-1.04.2-1.43.59L10.3 9.45l-7.72 7.72c-.78.78-.78 2.05 0 2.83L4 21.41c.39.39.9.59 1.41.59.51 0 1.02-.2 1.41-.59l7.78-7.78 2.81-2.81c.8-.78.8-2.07 0-2.86zM5.41 20L4 18.59l7.72-7.72 1.47 1.35L5.41 20z\"/>\n",
              "  </svg>\n",
              "      </button>\n",
              "      \n",
              "  <style>\n",
              "    .colab-df-container {\n",
              "      display:flex;\n",
              "      flex-wrap:wrap;\n",
              "      gap: 12px;\n",
              "    }\n",
              "\n",
              "    .colab-df-convert {\n",
              "      background-color: #E8F0FE;\n",
              "      border: none;\n",
              "      border-radius: 50%;\n",
              "      cursor: pointer;\n",
              "      display: none;\n",
              "      fill: #1967D2;\n",
              "      height: 32px;\n",
              "      padding: 0 0 0 0;\n",
              "      width: 32px;\n",
              "    }\n",
              "\n",
              "    .colab-df-convert:hover {\n",
              "      background-color: #E2EBFA;\n",
              "      box-shadow: 0px 1px 2px rgba(60, 64, 67, 0.3), 0px 1px 3px 1px rgba(60, 64, 67, 0.15);\n",
              "      fill: #174EA6;\n",
              "    }\n",
              "\n",
              "    [theme=dark] .colab-df-convert {\n",
              "      background-color: #3B4455;\n",
              "      fill: #D2E3FC;\n",
              "    }\n",
              "\n",
              "    [theme=dark] .colab-df-convert:hover {\n",
              "      background-color: #434B5C;\n",
              "      box-shadow: 0px 1px 3px 1px rgba(0, 0, 0, 0.15);\n",
              "      filter: drop-shadow(0px 1px 2px rgba(0, 0, 0, 0.3));\n",
              "      fill: #FFFFFF;\n",
              "    }\n",
              "  </style>\n",
              "\n",
              "      <script>\n",
              "        const buttonEl =\n",
              "          document.querySelector('#df-057851d1-2fb1-4e16-99da-a56159e311a6 button.colab-df-convert');\n",
              "        buttonEl.style.display =\n",
              "          google.colab.kernel.accessAllowed ? 'block' : 'none';\n",
              "\n",
              "        async function convertToInteractive(key) {\n",
              "          const element = document.querySelector('#df-057851d1-2fb1-4e16-99da-a56159e311a6');\n",
              "          const dataTable =\n",
              "            await google.colab.kernel.invokeFunction('convertToInteractive',\n",
              "                                                     [key], {});\n",
              "          if (!dataTable) return;\n",
              "\n",
              "          const docLinkHtml = 'Like what you see? Visit the ' +\n",
              "            '<a target=\"_blank\" href=https://colab.research.google.com/notebooks/data_table.ipynb>data table notebook</a>'\n",
              "            + ' to learn more about interactive tables.';\n",
              "          element.innerHTML = '';\n",
              "          dataTable['output_type'] = 'display_data';\n",
              "          await google.colab.output.renderOutput(dataTable, element);\n",
              "          const docLink = document.createElement('div');\n",
              "          docLink.innerHTML = docLinkHtml;\n",
              "          element.appendChild(docLink);\n",
              "        }\n",
              "      </script>\n",
              "    </div>\n",
              "  </div>\n",
              "  "
            ]
          },
          "metadata": {},
          "execution_count": 45
        }
      ]
    },
    {
      "cell_type": "code",
      "source": [
        "#Cruzar con T3\n",
        "DF_2=pd.merge(T3,DF_1,how='inner',on='departamento')\n"
      ],
      "metadata": {
        "id": "HAyvjS7hpEvI"
      },
      "execution_count": null,
      "outputs": []
    },
    {
      "cell_type": "code",
      "source": [
        "DF_2.head()"
      ],
      "metadata": {
        "colab": {
          "base_uri": "https://localhost:8080/",
          "height": 238
        },
        "id": "7M55CpaPq3Ew",
        "outputId": "ca23a051-8de8-4fde-e443-ccfb2b208c2a"
      },
      "execution_count": null,
      "outputs": [
        {
          "output_type": "execute_result",
          "data": {
            "text/plain": [
              "              Rural  Urbana  Herido  Muerto  Civil  Fuerza pública\n",
              "departamento                                                      \n",
              "AMAZONAS          4       0       2       2      1               3\n",
              "ANTIOQUIA      2581      63    2226     418   1213            1431\n",
              "ARAUCA          641      12     535     118    230             423\n",
              "ATLANTICO         2       6       7       1      8               0\n",
              "BOGOTA DC        20      10      19      11     11              19"
            ],
            "text/html": [
              "\n",
              "  <div id=\"df-8bc6e324-f930-4603-98d5-cbfb8bbb4296\">\n",
              "    <div class=\"colab-df-container\">\n",
              "      <div>\n",
              "<style scoped>\n",
              "    .dataframe tbody tr th:only-of-type {\n",
              "        vertical-align: middle;\n",
              "    }\n",
              "\n",
              "    .dataframe tbody tr th {\n",
              "        vertical-align: top;\n",
              "    }\n",
              "\n",
              "    .dataframe thead th {\n",
              "        text-align: right;\n",
              "    }\n",
              "</style>\n",
              "<table border=\"1\" class=\"dataframe\">\n",
              "  <thead>\n",
              "    <tr style=\"text-align: right;\">\n",
              "      <th></th>\n",
              "      <th>Rural</th>\n",
              "      <th>Urbana</th>\n",
              "      <th>Herido</th>\n",
              "      <th>Muerto</th>\n",
              "      <th>Civil</th>\n",
              "      <th>Fuerza pública</th>\n",
              "    </tr>\n",
              "    <tr>\n",
              "      <th>departamento</th>\n",
              "      <th></th>\n",
              "      <th></th>\n",
              "      <th></th>\n",
              "      <th></th>\n",
              "      <th></th>\n",
              "      <th></th>\n",
              "    </tr>\n",
              "  </thead>\n",
              "  <tbody>\n",
              "    <tr>\n",
              "      <th>AMAZONAS</th>\n",
              "      <td>4</td>\n",
              "      <td>0</td>\n",
              "      <td>2</td>\n",
              "      <td>2</td>\n",
              "      <td>1</td>\n",
              "      <td>3</td>\n",
              "    </tr>\n",
              "    <tr>\n",
              "      <th>ANTIOQUIA</th>\n",
              "      <td>2581</td>\n",
              "      <td>63</td>\n",
              "      <td>2226</td>\n",
              "      <td>418</td>\n",
              "      <td>1213</td>\n",
              "      <td>1431</td>\n",
              "    </tr>\n",
              "    <tr>\n",
              "      <th>ARAUCA</th>\n",
              "      <td>641</td>\n",
              "      <td>12</td>\n",
              "      <td>535</td>\n",
              "      <td>118</td>\n",
              "      <td>230</td>\n",
              "      <td>423</td>\n",
              "    </tr>\n",
              "    <tr>\n",
              "      <th>ATLANTICO</th>\n",
              "      <td>2</td>\n",
              "      <td>6</td>\n",
              "      <td>7</td>\n",
              "      <td>1</td>\n",
              "      <td>8</td>\n",
              "      <td>0</td>\n",
              "    </tr>\n",
              "    <tr>\n",
              "      <th>BOGOTA DC</th>\n",
              "      <td>20</td>\n",
              "      <td>10</td>\n",
              "      <td>19</td>\n",
              "      <td>11</td>\n",
              "      <td>11</td>\n",
              "      <td>19</td>\n",
              "    </tr>\n",
              "  </tbody>\n",
              "</table>\n",
              "</div>\n",
              "      <button class=\"colab-df-convert\" onclick=\"convertToInteractive('df-8bc6e324-f930-4603-98d5-cbfb8bbb4296')\"\n",
              "              title=\"Convert this dataframe to an interactive table.\"\n",
              "              style=\"display:none;\">\n",
              "        \n",
              "  <svg xmlns=\"http://www.w3.org/2000/svg\" height=\"24px\"viewBox=\"0 0 24 24\"\n",
              "       width=\"24px\">\n",
              "    <path d=\"M0 0h24v24H0V0z\" fill=\"none\"/>\n",
              "    <path d=\"M18.56 5.44l.94 2.06.94-2.06 2.06-.94-2.06-.94-.94-2.06-.94 2.06-2.06.94zm-11 1L8.5 8.5l.94-2.06 2.06-.94-2.06-.94L8.5 2.5l-.94 2.06-2.06.94zm10 10l.94 2.06.94-2.06 2.06-.94-2.06-.94-.94-2.06-.94 2.06-2.06.94z\"/><path d=\"M17.41 7.96l-1.37-1.37c-.4-.4-.92-.59-1.43-.59-.52 0-1.04.2-1.43.59L10.3 9.45l-7.72 7.72c-.78.78-.78 2.05 0 2.83L4 21.41c.39.39.9.59 1.41.59.51 0 1.02-.2 1.41-.59l7.78-7.78 2.81-2.81c.8-.78.8-2.07 0-2.86zM5.41 20L4 18.59l7.72-7.72 1.47 1.35L5.41 20z\"/>\n",
              "  </svg>\n",
              "      </button>\n",
              "      \n",
              "  <style>\n",
              "    .colab-df-container {\n",
              "      display:flex;\n",
              "      flex-wrap:wrap;\n",
              "      gap: 12px;\n",
              "    }\n",
              "\n",
              "    .colab-df-convert {\n",
              "      background-color: #E8F0FE;\n",
              "      border: none;\n",
              "      border-radius: 50%;\n",
              "      cursor: pointer;\n",
              "      display: none;\n",
              "      fill: #1967D2;\n",
              "      height: 32px;\n",
              "      padding: 0 0 0 0;\n",
              "      width: 32px;\n",
              "    }\n",
              "\n",
              "    .colab-df-convert:hover {\n",
              "      background-color: #E2EBFA;\n",
              "      box-shadow: 0px 1px 2px rgba(60, 64, 67, 0.3), 0px 1px 3px 1px rgba(60, 64, 67, 0.15);\n",
              "      fill: #174EA6;\n",
              "    }\n",
              "\n",
              "    [theme=dark] .colab-df-convert {\n",
              "      background-color: #3B4455;\n",
              "      fill: #D2E3FC;\n",
              "    }\n",
              "\n",
              "    [theme=dark] .colab-df-convert:hover {\n",
              "      background-color: #434B5C;\n",
              "      box-shadow: 0px 1px 3px 1px rgba(0, 0, 0, 0.15);\n",
              "      filter: drop-shadow(0px 1px 2px rgba(0, 0, 0, 0.3));\n",
              "      fill: #FFFFFF;\n",
              "    }\n",
              "  </style>\n",
              "\n",
              "      <script>\n",
              "        const buttonEl =\n",
              "          document.querySelector('#df-8bc6e324-f930-4603-98d5-cbfb8bbb4296 button.colab-df-convert');\n",
              "        buttonEl.style.display =\n",
              "          google.colab.kernel.accessAllowed ? 'block' : 'none';\n",
              "\n",
              "        async function convertToInteractive(key) {\n",
              "          const element = document.querySelector('#df-8bc6e324-f930-4603-98d5-cbfb8bbb4296');\n",
              "          const dataTable =\n",
              "            await google.colab.kernel.invokeFunction('convertToInteractive',\n",
              "                                                     [key], {});\n",
              "          if (!dataTable) return;\n",
              "\n",
              "          const docLinkHtml = 'Like what you see? Visit the ' +\n",
              "            '<a target=\"_blank\" href=https://colab.research.google.com/notebooks/data_table.ipynb>data table notebook</a>'\n",
              "            + ' to learn more about interactive tables.';\n",
              "          element.innerHTML = '';\n",
              "          dataTable['output_type'] = 'display_data';\n",
              "          await google.colab.output.renderOutput(dataTable, element);\n",
              "          const docLink = document.createElement('div');\n",
              "          docLink.innerHTML = docLinkHtml;\n",
              "          element.appendChild(docLink);\n",
              "        }\n",
              "      </script>\n",
              "    </div>\n",
              "  </div>\n",
              "  "
            ]
          },
          "metadata": {},
          "execution_count": 47
        }
      ]
    },
    {
      "cell_type": "code",
      "source": [
        "#Cruzar con T4\n",
        "DF_3=pd.merge(T4,DF_2,how='inner',on='departamento')"
      ],
      "metadata": {
        "id": "fU6POwFDrk4t"
      },
      "execution_count": null,
      "outputs": []
    },
    {
      "cell_type": "code",
      "source": [
        "DF_3.head()"
      ],
      "metadata": {
        "colab": {
          "base_uri": "https://localhost:8080/",
          "height": 238
        },
        "id": "FY08PdCir1JS",
        "outputId": "a8ef7646-67e5-4e58-f30d-b8ddb6c9ef11"
      },
      "execution_count": null,
      "outputs": [
        {
          "output_type": "execute_result",
          "data": {
            "text/plain": [
              "              Afrodescendiente  Indigena    No  Rural  Urbana  Herido  Muerto  \\\n",
              "departamento                                                                    \n",
              "AMAZONAS                     0         0     4      4       0       2       2   \n",
              "ANTIOQUIA                    7        40  2597   2581      63    2226     418   \n",
              "ARAUCA                       4        12   637    641      12     535     118   \n",
              "ATLANTICO                    0         0     8      2       6       7       1   \n",
              "BOGOTA DC                    0         0    30     20      10      19      11   \n",
              "\n",
              "              Civil  Fuerza pública  \n",
              "departamento                         \n",
              "AMAZONAS          1               3  \n",
              "ANTIOQUIA      1213            1431  \n",
              "ARAUCA          230             423  \n",
              "ATLANTICO         8               0  \n",
              "BOGOTA DC        11              19  "
            ],
            "text/html": [
              "\n",
              "  <div id=\"df-a59af2ec-eb1d-49cb-ae53-96d2c9da476e\">\n",
              "    <div class=\"colab-df-container\">\n",
              "      <div>\n",
              "<style scoped>\n",
              "    .dataframe tbody tr th:only-of-type {\n",
              "        vertical-align: middle;\n",
              "    }\n",
              "\n",
              "    .dataframe tbody tr th {\n",
              "        vertical-align: top;\n",
              "    }\n",
              "\n",
              "    .dataframe thead th {\n",
              "        text-align: right;\n",
              "    }\n",
              "</style>\n",
              "<table border=\"1\" class=\"dataframe\">\n",
              "  <thead>\n",
              "    <tr style=\"text-align: right;\">\n",
              "      <th></th>\n",
              "      <th>Afrodescendiente</th>\n",
              "      <th>Indigena</th>\n",
              "      <th>No</th>\n",
              "      <th>Rural</th>\n",
              "      <th>Urbana</th>\n",
              "      <th>Herido</th>\n",
              "      <th>Muerto</th>\n",
              "      <th>Civil</th>\n",
              "      <th>Fuerza pública</th>\n",
              "    </tr>\n",
              "    <tr>\n",
              "      <th>departamento</th>\n",
              "      <th></th>\n",
              "      <th></th>\n",
              "      <th></th>\n",
              "      <th></th>\n",
              "      <th></th>\n",
              "      <th></th>\n",
              "      <th></th>\n",
              "      <th></th>\n",
              "      <th></th>\n",
              "    </tr>\n",
              "  </thead>\n",
              "  <tbody>\n",
              "    <tr>\n",
              "      <th>AMAZONAS</th>\n",
              "      <td>0</td>\n",
              "      <td>0</td>\n",
              "      <td>4</td>\n",
              "      <td>4</td>\n",
              "      <td>0</td>\n",
              "      <td>2</td>\n",
              "      <td>2</td>\n",
              "      <td>1</td>\n",
              "      <td>3</td>\n",
              "    </tr>\n",
              "    <tr>\n",
              "      <th>ANTIOQUIA</th>\n",
              "      <td>7</td>\n",
              "      <td>40</td>\n",
              "      <td>2597</td>\n",
              "      <td>2581</td>\n",
              "      <td>63</td>\n",
              "      <td>2226</td>\n",
              "      <td>418</td>\n",
              "      <td>1213</td>\n",
              "      <td>1431</td>\n",
              "    </tr>\n",
              "    <tr>\n",
              "      <th>ARAUCA</th>\n",
              "      <td>4</td>\n",
              "      <td>12</td>\n",
              "      <td>637</td>\n",
              "      <td>641</td>\n",
              "      <td>12</td>\n",
              "      <td>535</td>\n",
              "      <td>118</td>\n",
              "      <td>230</td>\n",
              "      <td>423</td>\n",
              "    </tr>\n",
              "    <tr>\n",
              "      <th>ATLANTICO</th>\n",
              "      <td>0</td>\n",
              "      <td>0</td>\n",
              "      <td>8</td>\n",
              "      <td>2</td>\n",
              "      <td>6</td>\n",
              "      <td>7</td>\n",
              "      <td>1</td>\n",
              "      <td>8</td>\n",
              "      <td>0</td>\n",
              "    </tr>\n",
              "    <tr>\n",
              "      <th>BOGOTA DC</th>\n",
              "      <td>0</td>\n",
              "      <td>0</td>\n",
              "      <td>30</td>\n",
              "      <td>20</td>\n",
              "      <td>10</td>\n",
              "      <td>19</td>\n",
              "      <td>11</td>\n",
              "      <td>11</td>\n",
              "      <td>19</td>\n",
              "    </tr>\n",
              "  </tbody>\n",
              "</table>\n",
              "</div>\n",
              "      <button class=\"colab-df-convert\" onclick=\"convertToInteractive('df-a59af2ec-eb1d-49cb-ae53-96d2c9da476e')\"\n",
              "              title=\"Convert this dataframe to an interactive table.\"\n",
              "              style=\"display:none;\">\n",
              "        \n",
              "  <svg xmlns=\"http://www.w3.org/2000/svg\" height=\"24px\"viewBox=\"0 0 24 24\"\n",
              "       width=\"24px\">\n",
              "    <path d=\"M0 0h24v24H0V0z\" fill=\"none\"/>\n",
              "    <path d=\"M18.56 5.44l.94 2.06.94-2.06 2.06-.94-2.06-.94-.94-2.06-.94 2.06-2.06.94zm-11 1L8.5 8.5l.94-2.06 2.06-.94-2.06-.94L8.5 2.5l-.94 2.06-2.06.94zm10 10l.94 2.06.94-2.06 2.06-.94-2.06-.94-.94-2.06-.94 2.06-2.06.94z\"/><path d=\"M17.41 7.96l-1.37-1.37c-.4-.4-.92-.59-1.43-.59-.52 0-1.04.2-1.43.59L10.3 9.45l-7.72 7.72c-.78.78-.78 2.05 0 2.83L4 21.41c.39.39.9.59 1.41.59.51 0 1.02-.2 1.41-.59l7.78-7.78 2.81-2.81c.8-.78.8-2.07 0-2.86zM5.41 20L4 18.59l7.72-7.72 1.47 1.35L5.41 20z\"/>\n",
              "  </svg>\n",
              "      </button>\n",
              "      \n",
              "  <style>\n",
              "    .colab-df-container {\n",
              "      display:flex;\n",
              "      flex-wrap:wrap;\n",
              "      gap: 12px;\n",
              "    }\n",
              "\n",
              "    .colab-df-convert {\n",
              "      background-color: #E8F0FE;\n",
              "      border: none;\n",
              "      border-radius: 50%;\n",
              "      cursor: pointer;\n",
              "      display: none;\n",
              "      fill: #1967D2;\n",
              "      height: 32px;\n",
              "      padding: 0 0 0 0;\n",
              "      width: 32px;\n",
              "    }\n",
              "\n",
              "    .colab-df-convert:hover {\n",
              "      background-color: #E2EBFA;\n",
              "      box-shadow: 0px 1px 2px rgba(60, 64, 67, 0.3), 0px 1px 3px 1px rgba(60, 64, 67, 0.15);\n",
              "      fill: #174EA6;\n",
              "    }\n",
              "\n",
              "    [theme=dark] .colab-df-convert {\n",
              "      background-color: #3B4455;\n",
              "      fill: #D2E3FC;\n",
              "    }\n",
              "\n",
              "    [theme=dark] .colab-df-convert:hover {\n",
              "      background-color: #434B5C;\n",
              "      box-shadow: 0px 1px 3px 1px rgba(0, 0, 0, 0.15);\n",
              "      filter: drop-shadow(0px 1px 2px rgba(0, 0, 0, 0.3));\n",
              "      fill: #FFFFFF;\n",
              "    }\n",
              "  </style>\n",
              "\n",
              "      <script>\n",
              "        const buttonEl =\n",
              "          document.querySelector('#df-a59af2ec-eb1d-49cb-ae53-96d2c9da476e button.colab-df-convert');\n",
              "        buttonEl.style.display =\n",
              "          google.colab.kernel.accessAllowed ? 'block' : 'none';\n",
              "\n",
              "        async function convertToInteractive(key) {\n",
              "          const element = document.querySelector('#df-a59af2ec-eb1d-49cb-ae53-96d2c9da476e');\n",
              "          const dataTable =\n",
              "            await google.colab.kernel.invokeFunction('convertToInteractive',\n",
              "                                                     [key], {});\n",
              "          if (!dataTable) return;\n",
              "\n",
              "          const docLinkHtml = 'Like what you see? Visit the ' +\n",
              "            '<a target=\"_blank\" href=https://colab.research.google.com/notebooks/data_table.ipynb>data table notebook</a>'\n",
              "            + ' to learn more about interactive tables.';\n",
              "          element.innerHTML = '';\n",
              "          dataTable['output_type'] = 'display_data';\n",
              "          await google.colab.output.renderOutput(dataTable, element);\n",
              "          const docLink = document.createElement('div');\n",
              "          docLink.innerHTML = docLinkHtml;\n",
              "          element.appendChild(docLink);\n",
              "        }\n",
              "      </script>\n",
              "    </div>\n",
              "  </div>\n",
              "  "
            ]
          },
          "metadata": {},
          "execution_count": 49
        }
      ]
    },
    {
      "cell_type": "code",
      "source": [
        "#cruzar con T5\n",
        "DF_final=pd.merge(T5,DF_3,how='inner',on='departamento')"
      ],
      "metadata": {
        "id": "_b2ImQmgshC6"
      },
      "execution_count": null,
      "outputs": []
    },
    {
      "cell_type": "code",
      "source": [
        "DF_\n"
      ],
      "metadata": {
        "colab": {
          "base_uri": "https://localhost:8080/",
          "height": 238
        },
        "id": "5YLQPMXLs0pc",
        "outputId": "445d0f62-9cfb-4cb7-c2be-c5191db9f9a3"
      },
      "execution_count": null,
      "outputs": [
        {
          "output_type": "execute_result",
          "data": {
            "text/plain": [
              "              Mayor de 18 años  Menor de 18 años  Afrodescendiente  Indigena  \\\n",
              "departamento                                                                   \n",
              "AMAZONAS                     4                 0                 0         0   \n",
              "ANTIOQUIA                 2354               290                 7        40   \n",
              "ARAUCA                     599                54                 4        12   \n",
              "ATLANTICO                    1                 7                 0         0   \n",
              "BOGOTA DC                   22                 8                 0         0   \n",
              "\n",
              "                No  Rural  Urbana  Herido  Muerto  Civil  Fuerza pública  \n",
              "departamento                                                              \n",
              "AMAZONAS         4      4       0       2       2      1               3  \n",
              "ANTIOQUIA     2597   2581      63    2226     418   1213            1431  \n",
              "ARAUCA         637    641      12     535     118    230             423  \n",
              "ATLANTICO        8      2       6       7       1      8               0  \n",
              "BOGOTA DC       30     20      10      19      11     11              19  "
            ],
            "text/html": [
              "\n",
              "  <div id=\"df-5bfb46ee-6171-444a-bfd0-7bd0936b7b91\">\n",
              "    <div class=\"colab-df-container\">\n",
              "      <div>\n",
              "<style scoped>\n",
              "    .dataframe tbody tr th:only-of-type {\n",
              "        vertical-align: middle;\n",
              "    }\n",
              "\n",
              "    .dataframe tbody tr th {\n",
              "        vertical-align: top;\n",
              "    }\n",
              "\n",
              "    .dataframe thead th {\n",
              "        text-align: right;\n",
              "    }\n",
              "</style>\n",
              "<table border=\"1\" class=\"dataframe\">\n",
              "  <thead>\n",
              "    <tr style=\"text-align: right;\">\n",
              "      <th></th>\n",
              "      <th>Mayor de 18 años</th>\n",
              "      <th>Menor de 18 años</th>\n",
              "      <th>Afrodescendiente</th>\n",
              "      <th>Indigena</th>\n",
              "      <th>No</th>\n",
              "      <th>Rural</th>\n",
              "      <th>Urbana</th>\n",
              "      <th>Herido</th>\n",
              "      <th>Muerto</th>\n",
              "      <th>Civil</th>\n",
              "      <th>Fuerza pública</th>\n",
              "    </tr>\n",
              "    <tr>\n",
              "      <th>departamento</th>\n",
              "      <th></th>\n",
              "      <th></th>\n",
              "      <th></th>\n",
              "      <th></th>\n",
              "      <th></th>\n",
              "      <th></th>\n",
              "      <th></th>\n",
              "      <th></th>\n",
              "      <th></th>\n",
              "      <th></th>\n",
              "      <th></th>\n",
              "    </tr>\n",
              "  </thead>\n",
              "  <tbody>\n",
              "    <tr>\n",
              "      <th>AMAZONAS</th>\n",
              "      <td>4</td>\n",
              "      <td>0</td>\n",
              "      <td>0</td>\n",
              "      <td>0</td>\n",
              "      <td>4</td>\n",
              "      <td>4</td>\n",
              "      <td>0</td>\n",
              "      <td>2</td>\n",
              "      <td>2</td>\n",
              "      <td>1</td>\n",
              "      <td>3</td>\n",
              "    </tr>\n",
              "    <tr>\n",
              "      <th>ANTIOQUIA</th>\n",
              "      <td>2354</td>\n",
              "      <td>290</td>\n",
              "      <td>7</td>\n",
              "      <td>40</td>\n",
              "      <td>2597</td>\n",
              "      <td>2581</td>\n",
              "      <td>63</td>\n",
              "      <td>2226</td>\n",
              "      <td>418</td>\n",
              "      <td>1213</td>\n",
              "      <td>1431</td>\n",
              "    </tr>\n",
              "    <tr>\n",
              "      <th>ARAUCA</th>\n",
              "      <td>599</td>\n",
              "      <td>54</td>\n",
              "      <td>4</td>\n",
              "      <td>12</td>\n",
              "      <td>637</td>\n",
              "      <td>641</td>\n",
              "      <td>12</td>\n",
              "      <td>535</td>\n",
              "      <td>118</td>\n",
              "      <td>230</td>\n",
              "      <td>423</td>\n",
              "    </tr>\n",
              "    <tr>\n",
              "      <th>ATLANTICO</th>\n",
              "      <td>1</td>\n",
              "      <td>7</td>\n",
              "      <td>0</td>\n",
              "      <td>0</td>\n",
              "      <td>8</td>\n",
              "      <td>2</td>\n",
              "      <td>6</td>\n",
              "      <td>7</td>\n",
              "      <td>1</td>\n",
              "      <td>8</td>\n",
              "      <td>0</td>\n",
              "    </tr>\n",
              "    <tr>\n",
              "      <th>BOGOTA DC</th>\n",
              "      <td>22</td>\n",
              "      <td>8</td>\n",
              "      <td>0</td>\n",
              "      <td>0</td>\n",
              "      <td>30</td>\n",
              "      <td>20</td>\n",
              "      <td>10</td>\n",
              "      <td>19</td>\n",
              "      <td>11</td>\n",
              "      <td>11</td>\n",
              "      <td>19</td>\n",
              "    </tr>\n",
              "  </tbody>\n",
              "</table>\n",
              "</div>\n",
              "      <button class=\"colab-df-convert\" onclick=\"convertToInteractive('df-5bfb46ee-6171-444a-bfd0-7bd0936b7b91')\"\n",
              "              title=\"Convert this dataframe to an interactive table.\"\n",
              "              style=\"display:none;\">\n",
              "        \n",
              "  <svg xmlns=\"http://www.w3.org/2000/svg\" height=\"24px\"viewBox=\"0 0 24 24\"\n",
              "       width=\"24px\">\n",
              "    <path d=\"M0 0h24v24H0V0z\" fill=\"none\"/>\n",
              "    <path d=\"M18.56 5.44l.94 2.06.94-2.06 2.06-.94-2.06-.94-.94-2.06-.94 2.06-2.06.94zm-11 1L8.5 8.5l.94-2.06 2.06-.94-2.06-.94L8.5 2.5l-.94 2.06-2.06.94zm10 10l.94 2.06.94-2.06 2.06-.94-2.06-.94-.94-2.06-.94 2.06-2.06.94z\"/><path d=\"M17.41 7.96l-1.37-1.37c-.4-.4-.92-.59-1.43-.59-.52 0-1.04.2-1.43.59L10.3 9.45l-7.72 7.72c-.78.78-.78 2.05 0 2.83L4 21.41c.39.39.9.59 1.41.59.51 0 1.02-.2 1.41-.59l7.78-7.78 2.81-2.81c.8-.78.8-2.07 0-2.86zM5.41 20L4 18.59l7.72-7.72 1.47 1.35L5.41 20z\"/>\n",
              "  </svg>\n",
              "      </button>\n",
              "      \n",
              "  <style>\n",
              "    .colab-df-container {\n",
              "      display:flex;\n",
              "      flex-wrap:wrap;\n",
              "      gap: 12px;\n",
              "    }\n",
              "\n",
              "    .colab-df-convert {\n",
              "      background-color: #E8F0FE;\n",
              "      border: none;\n",
              "      border-radius: 50%;\n",
              "      cursor: pointer;\n",
              "      display: none;\n",
              "      fill: #1967D2;\n",
              "      height: 32px;\n",
              "      padding: 0 0 0 0;\n",
              "      width: 32px;\n",
              "    }\n",
              "\n",
              "    .colab-df-convert:hover {\n",
              "      background-color: #E2EBFA;\n",
              "      box-shadow: 0px 1px 2px rgba(60, 64, 67, 0.3), 0px 1px 3px 1px rgba(60, 64, 67, 0.15);\n",
              "      fill: #174EA6;\n",
              "    }\n",
              "\n",
              "    [theme=dark] .colab-df-convert {\n",
              "      background-color: #3B4455;\n",
              "      fill: #D2E3FC;\n",
              "    }\n",
              "\n",
              "    [theme=dark] .colab-df-convert:hover {\n",
              "      background-color: #434B5C;\n",
              "      box-shadow: 0px 1px 3px 1px rgba(0, 0, 0, 0.15);\n",
              "      filter: drop-shadow(0px 1px 2px rgba(0, 0, 0, 0.3));\n",
              "      fill: #FFFFFF;\n",
              "    }\n",
              "  </style>\n",
              "\n",
              "      <script>\n",
              "        const buttonEl =\n",
              "          document.querySelector('#df-5bfb46ee-6171-444a-bfd0-7bd0936b7b91 button.colab-df-convert');\n",
              "        buttonEl.style.display =\n",
              "          google.colab.kernel.accessAllowed ? 'block' : 'none';\n",
              "\n",
              "        async function convertToInteractive(key) {\n",
              "          const element = document.querySelector('#df-5bfb46ee-6171-444a-bfd0-7bd0936b7b91');\n",
              "          const dataTable =\n",
              "            await google.colab.kernel.invokeFunction('convertToInteractive',\n",
              "                                                     [key], {});\n",
              "          if (!dataTable) return;\n",
              "\n",
              "          const docLinkHtml = 'Like what you see? Visit the ' +\n",
              "            '<a target=\"_blank\" href=https://colab.research.google.com/notebooks/data_table.ipynb>data table notebook</a>'\n",
              "            + ' to learn more about interactive tables.';\n",
              "          element.innerHTML = '';\n",
              "          dataTable['output_type'] = 'display_data';\n",
              "          await google.colab.output.renderOutput(dataTable, element);\n",
              "          const docLink = document.createElement('div');\n",
              "          docLink.innerHTML = docLinkHtml;\n",
              "          element.appendChild(docLink);\n",
              "        }\n",
              "      </script>\n",
              "    </div>\n",
              "  </div>\n",
              "  "
            ]
          },
          "metadata": {},
          "execution_count": 144
        }
      ]
    },
    {
      "cell_type": "code",
      "source": [
        "DF_final.to_excel('Victmas_por_depts.xlsx')"
      ],
      "metadata": {
        "id": "_JJIcusL5ZlD"
      },
      "execution_count": null,
      "outputs": []
    },
    {
      "cell_type": "code",
      "source": [
        "Data_frame_final.head()"
      ],
      "metadata": {
        "colab": {
          "base_uri": "https://localhost:8080/",
          "height": 238
        },
        "id": "YUL08fyC5-NV",
        "outputId": "c7cf6526-bc48-4ff3-951e-6eb5e63a28cd"
      },
      "execution_count": null,
      "outputs": [
        {
          "output_type": "execute_result",
          "data": {
            "text/plain": [
              "              Mayor de 18 años\n",
              "departamento                  \n",
              "AMAZONAS                     4\n",
              "ANTIOQUIA                 2354\n",
              "ARAUCA                     599\n",
              "ATLANTICO                    1\n",
              "BOGOTA DC                   22"
            ],
            "text/html": [
              "\n",
              "  <div id=\"df-db305aa2-8210-45f1-a692-563609daa7c8\">\n",
              "    <div class=\"colab-df-container\">\n",
              "      <div>\n",
              "<style scoped>\n",
              "    .dataframe tbody tr th:only-of-type {\n",
              "        vertical-align: middle;\n",
              "    }\n",
              "\n",
              "    .dataframe tbody tr th {\n",
              "        vertical-align: top;\n",
              "    }\n",
              "\n",
              "    .dataframe thead th {\n",
              "        text-align: right;\n",
              "    }\n",
              "</style>\n",
              "<table border=\"1\" class=\"dataframe\">\n",
              "  <thead>\n",
              "    <tr style=\"text-align: right;\">\n",
              "      <th></th>\n",
              "      <th>Mayor de 18 años</th>\n",
              "    </tr>\n",
              "    <tr>\n",
              "      <th>departamento</th>\n",
              "      <th></th>\n",
              "    </tr>\n",
              "  </thead>\n",
              "  <tbody>\n",
              "    <tr>\n",
              "      <th>AMAZONAS</th>\n",
              "      <td>4</td>\n",
              "    </tr>\n",
              "    <tr>\n",
              "      <th>ANTIOQUIA</th>\n",
              "      <td>2354</td>\n",
              "    </tr>\n",
              "    <tr>\n",
              "      <th>ARAUCA</th>\n",
              "      <td>599</td>\n",
              "    </tr>\n",
              "    <tr>\n",
              "      <th>ATLANTICO</th>\n",
              "      <td>1</td>\n",
              "    </tr>\n",
              "    <tr>\n",
              "      <th>BOGOTA DC</th>\n",
              "      <td>22</td>\n",
              "    </tr>\n",
              "  </tbody>\n",
              "</table>\n",
              "</div>\n",
              "      <button class=\"colab-df-convert\" onclick=\"convertToInteractive('df-db305aa2-8210-45f1-a692-563609daa7c8')\"\n",
              "              title=\"Convert this dataframe to an interactive table.\"\n",
              "              style=\"display:none;\">\n",
              "        \n",
              "  <svg xmlns=\"http://www.w3.org/2000/svg\" height=\"24px\"viewBox=\"0 0 24 24\"\n",
              "       width=\"24px\">\n",
              "    <path d=\"M0 0h24v24H0V0z\" fill=\"none\"/>\n",
              "    <path d=\"M18.56 5.44l.94 2.06.94-2.06 2.06-.94-2.06-.94-.94-2.06-.94 2.06-2.06.94zm-11 1L8.5 8.5l.94-2.06 2.06-.94-2.06-.94L8.5 2.5l-.94 2.06-2.06.94zm10 10l.94 2.06.94-2.06 2.06-.94-2.06-.94-.94-2.06-.94 2.06-2.06.94z\"/><path d=\"M17.41 7.96l-1.37-1.37c-.4-.4-.92-.59-1.43-.59-.52 0-1.04.2-1.43.59L10.3 9.45l-7.72 7.72c-.78.78-.78 2.05 0 2.83L4 21.41c.39.39.9.59 1.41.59.51 0 1.02-.2 1.41-.59l7.78-7.78 2.81-2.81c.8-.78.8-2.07 0-2.86zM5.41 20L4 18.59l7.72-7.72 1.47 1.35L5.41 20z\"/>\n",
              "  </svg>\n",
              "      </button>\n",
              "      \n",
              "  <style>\n",
              "    .colab-df-container {\n",
              "      display:flex;\n",
              "      flex-wrap:wrap;\n",
              "      gap: 12px;\n",
              "    }\n",
              "\n",
              "    .colab-df-convert {\n",
              "      background-color: #E8F0FE;\n",
              "      border: none;\n",
              "      border-radius: 50%;\n",
              "      cursor: pointer;\n",
              "      display: none;\n",
              "      fill: #1967D2;\n",
              "      height: 32px;\n",
              "      padding: 0 0 0 0;\n",
              "      width: 32px;\n",
              "    }\n",
              "\n",
              "    .colab-df-convert:hover {\n",
              "      background-color: #E2EBFA;\n",
              "      box-shadow: 0px 1px 2px rgba(60, 64, 67, 0.3), 0px 1px 3px 1px rgba(60, 64, 67, 0.15);\n",
              "      fill: #174EA6;\n",
              "    }\n",
              "\n",
              "    [theme=dark] .colab-df-convert {\n",
              "      background-color: #3B4455;\n",
              "      fill: #D2E3FC;\n",
              "    }\n",
              "\n",
              "    [theme=dark] .colab-df-convert:hover {\n",
              "      background-color: #434B5C;\n",
              "      box-shadow: 0px 1px 3px 1px rgba(0, 0, 0, 0.15);\n",
              "      filter: drop-shadow(0px 1px 2px rgba(0, 0, 0, 0.3));\n",
              "      fill: #FFFFFF;\n",
              "    }\n",
              "  </style>\n",
              "\n",
              "      <script>\n",
              "        const buttonEl =\n",
              "          document.querySelector('#df-db305aa2-8210-45f1-a692-563609daa7c8 button.colab-df-convert');\n",
              "        buttonEl.style.display =\n",
              "          google.colab.kernel.accessAllowed ? 'block' : 'none';\n",
              "\n",
              "        async function convertToInteractive(key) {\n",
              "          const element = document.querySelector('#df-db305aa2-8210-45f1-a692-563609daa7c8');\n",
              "          const dataTable =\n",
              "            await google.colab.kernel.invokeFunction('convertToInteractive',\n",
              "                                                     [key], {});\n",
              "          if (!dataTable) return;\n",
              "\n",
              "          const docLinkHtml = 'Like what you see? Visit the ' +\n",
              "            '<a target=\"_blank\" href=https://colab.research.google.com/notebooks/data_table.ipynb>data table notebook</a>'\n",
              "            + ' to learn more about interactive tables.';\n",
              "          element.innerHTML = '';\n",
              "          dataTable['output_type'] = 'display_data';\n",
              "          await google.colab.output.renderOutput(dataTable, element);\n",
              "          const docLink = document.createElement('div');\n",
              "          docLink.innerHTML = docLinkHtml;\n",
              "          element.appendChild(docLink);\n",
              "        }\n",
              "      </script>\n",
              "    </div>\n",
              "  </div>\n",
              "  "
            ]
          },
          "metadata": {},
          "execution_count": 150
        }
      ]
    },
    {
      "cell_type": "code",
      "source": [
        "Regiones_naturales=['AMAZONÍA','ANDINA','ORINOQUÍA','CARIBE','ANDINA','CARIBE','ANDINA','ANDINA','ORINOQUÍA','ORINOQUÍA','PACÍFICA','ANDINA','PACÍFICA','CARIBE','ANDINA','AMAZONÍA','AMAZONÍA','HUILA','CARIBE','CARIBE','ORINOQUÍA','PACÍFICA','ANDINA','AMAZONÍA','ANDINA','ANDINA','ANDINA','CARIBE','ANDINA','PACÍFICA','AMAZONÍA','ORINOQUÍA']"
      ],
      "metadata": {
        "id": "dcqg3_gytY-z"
      },
      "execution_count": null,
      "outputs": []
    },
    {
      "cell_type": "code",
      "source": [
        "RN=pd.DataFrame(Regiones_naturales,columns=['Regiones_naturales'])"
      ],
      "metadata": {
        "id": "Y0i4cuPzzGau"
      },
      "execution_count": null,
      "outputs": []
    },
    {
      "cell_type": "code",
      "source": [
        "pd.DataFrame?"
      ],
      "metadata": {
        "id": "jhjRrMpSzVT_"
      },
      "execution_count": null,
      "outputs": []
    },
    {
      "cell_type": "code",
      "source": [
        "RN.to_excel('RN.xlsx')"
      ],
      "metadata": {
        "id": "K5dd2xX5zRBU"
      },
      "execution_count": null,
      "outputs": []
    },
    {
      "cell_type": "code",
      "source": [
        "D1=[[DF_final,RN]]"
      ],
      "metadata": {
        "id": "bnWvpRkD2BIX"
      },
      "execution_count": null,
      "outputs": []
    },
    {
      "cell_type": "code",
      "source": [
        "D2=pd.DataFrame(D1)"
      ],
      "metadata": {
        "id": "MuCG87yB2HWr"
      },
      "execution_count": null,
      "outputs": []
    },
    {
      "cell_type": "code",
      "source": [
        "RN.Regiones_naturales"
      ],
      "metadata": {
        "id": "8oj0XLu34gzU"
      },
      "execution_count": null,
      "outputs": []
    },
    {
      "cell_type": "markdown",
      "source": [
        "#**Dataframe final para el mapa autorganizado**\n",
        "\n",
        "Después de haber construido las tablas cruzadas se obtienen las frecuencias absolutas de cada una de las categorías de las variables de interés. Este conjunto de datos se carga de manera local"
      ],
      "metadata": {
        "id": "kkRtxin3y76h"
      }
    },
    {
      "cell_type": "code",
      "source": [
        "Data_final_victimas_reg=pd.read_excel('/content/Data_frame_final_victimas_regiones.xlsx')"
      ],
      "metadata": {
        "id": "7yAkBJ3C1g7A"
      },
      "execution_count": null,
      "outputs": []
    },
    {
      "cell_type": "code",
      "source": [
        "Data_final_victimas_reg.head(32)"
      ],
      "metadata": {
        "id": "3FNJzn727xaj"
      },
      "execution_count": null,
      "outputs": []
    },
    {
      "cell_type": "code",
      "source": [
        "Data_final_victimas_reg.columns"
      ],
      "metadata": {
        "id": "ecA25jX39ncj"
      },
      "execution_count": null,
      "outputs": []
    },
    {
      "cell_type": "code",
      "source": [
        "Data_final_victimas_reg.head(30)"
      ],
      "metadata": {
        "colab": {
          "base_uri": "https://localhost:8080/",
          "height": 1000
        },
        "id": "M6_sJ9iWe-g6",
        "outputId": "4fc924cb-a79a-44fa-c1c1-20d57e5dd93d"
      },
      "execution_count": null,
      "outputs": [
        {
          "output_type": "execute_result",
          "data": {
            "text/plain": [
              "          departamento  Mayor de 18 años  Menor de 18 años  Afrodescendiente  \\\n",
              "0             AMAZONAS                 4                 0                 0   \n",
              "1            ANTIOQUIA              2354               290                 7   \n",
              "2               ARAUCA               599                54                 4   \n",
              "3            ATLANTICO                 1                 7                 0   \n",
              "4            BOGOTA DC                22                 8                 0   \n",
              "5              BOLIVAR               588                49                 0   \n",
              "6               BOYACA                64                14                 0   \n",
              "7               CALDAS               146                22                 0   \n",
              "8              CAQUETA               892                57                 1   \n",
              "9             CASANARE                85                 5                 1   \n",
              "10               CAUCA               516               135                 5   \n",
              "11               CESAR               135                23                 0   \n",
              "12               CHOCO               175                34                38   \n",
              "13             CORDOBA               270                13                 0   \n",
              "14        CUNDINAMARCA               129                12                 0   \n",
              "15             GUAINIA                 1                 2                 0   \n",
              "16            GUAVIARE               230                37                 0   \n",
              "17               HUILA               214                22                 0   \n",
              "18          LA GUAJIRA                57                 3                 0   \n",
              "19           MAGDALENA                32                14                 0   \n",
              "20                META              1062                86                 1   \n",
              "21              NARIÑO               915               142                40   \n",
              "22  NORTE DE SANTANDER               892                70                 0   \n",
              "23            PUTUMAYO               398                56                 1   \n",
              "24             QUINDIO                24                 4                 0   \n",
              "25           RISARALDA                19                 3                 0   \n",
              "26           SANTANDER               263                34                 0   \n",
              "27               SUCRE                69                 6                 0   \n",
              "28              TOLIMA               500                39                 0   \n",
              "29     VALLE DEL CAUCA               248                22                 6   \n",
              "\n",
              "    Indigena    No  Rural  Urbana  Herido  Muerto  Civil  Fuerza pública  \\\n",
              "0          0     4      4       0       2       2      1               3   \n",
              "1         40  2597   2581      63    2226     418   1213            1431   \n",
              "2         12   637    641      12     535     118    230             423   \n",
              "3          0     8      2       6       7       1      8               0   \n",
              "4          0    30     20      10      19      11     11              19   \n",
              "5          0   637    632       5     546      91    228             409   \n",
              "6          0    78     77       1      63      15     26              52   \n",
              "7          0   168    164       4     134      34     45             123   \n",
              "8          3   945    942       7     836     113    220             729   \n",
              "9          0    89     90       0      61      29     17              73   \n",
              "10        82   564    640      11     532     119    306             345   \n",
              "11         7   151    146      12      99      59     79              79   \n",
              "12        33   138    208       1     169      40    120              89   \n",
              "13         9   274    279       4     251      32     98             185   \n",
              "14         0   141    136       5     110      31     50              91   \n",
              "15         0     3      3       0       3       0      3               0   \n",
              "16        43   224    265       2     226      41    115             152   \n",
              "17         0   236    226      10     202      34     50             186   \n",
              "18         9    51     59       1      19      41     27              33   \n",
              "19         0    46     46       0      28      18     28              18   \n",
              "20         4  1143   1145       3     947     201    423             725   \n",
              "21       160   857   1045      12     819     238    685             372   \n",
              "22         1   961    946      16     767     195    298             664   \n",
              "23        30   423    453       1     340     114    229             225   \n",
              "24         0    28     24       4      20       8      7              21   \n",
              "25         0    22     19       3      14       8     15               7   \n",
              "26         0   297    267      30     242      55    159             138   \n",
              "27         0    75     73       2      46      29     24              51   \n",
              "28         4   535    535       4     382     157     83             456   \n",
              "29        12   252    252      18     200      70     73             197   \n",
              "\n",
              "   Regiones_naturales  \n",
              "0            AMAZONÍA  \n",
              "1              ANDINA  \n",
              "2           ORINOQUÍA  \n",
              "3              CARIBE  \n",
              "4              ANDINA  \n",
              "5              CARIBE  \n",
              "6              ANDINA  \n",
              "7              ANDINA  \n",
              "8           ORINOQUÍA  \n",
              "9           ORINOQUÍA  \n",
              "10           PACÍFICA  \n",
              "11             ANDINA  \n",
              "12           PACÍFICA  \n",
              "13             CARIBE  \n",
              "14             ANDINA  \n",
              "15           AMAZONÍA  \n",
              "16           AMAZONÍA  \n",
              "17             ANDINA  \n",
              "18             CARIBE  \n",
              "19             CARIBE  \n",
              "20          ORINOQUÍA  \n",
              "21           PACÍFICA  \n",
              "22             ANDINA  \n",
              "23           AMAZONÍA  \n",
              "24             ANDINA  \n",
              "25             ANDINA  \n",
              "26             ANDINA  \n",
              "27             CARIBE  \n",
              "28             ANDINA  \n",
              "29           PACÍFICA  "
            ],
            "text/html": [
              "\n",
              "  <div id=\"df-b92a7002-71b8-4fe3-9cab-6effee05558d\">\n",
              "    <div class=\"colab-df-container\">\n",
              "      <div>\n",
              "<style scoped>\n",
              "    .dataframe tbody tr th:only-of-type {\n",
              "        vertical-align: middle;\n",
              "    }\n",
              "\n",
              "    .dataframe tbody tr th {\n",
              "        vertical-align: top;\n",
              "    }\n",
              "\n",
              "    .dataframe thead th {\n",
              "        text-align: right;\n",
              "    }\n",
              "</style>\n",
              "<table border=\"1\" class=\"dataframe\">\n",
              "  <thead>\n",
              "    <tr style=\"text-align: right;\">\n",
              "      <th></th>\n",
              "      <th>departamento</th>\n",
              "      <th>Mayor de 18 años</th>\n",
              "      <th>Menor de 18 años</th>\n",
              "      <th>Afrodescendiente</th>\n",
              "      <th>Indigena</th>\n",
              "      <th>No</th>\n",
              "      <th>Rural</th>\n",
              "      <th>Urbana</th>\n",
              "      <th>Herido</th>\n",
              "      <th>Muerto</th>\n",
              "      <th>Civil</th>\n",
              "      <th>Fuerza pública</th>\n",
              "      <th>Regiones_naturales</th>\n",
              "    </tr>\n",
              "  </thead>\n",
              "  <tbody>\n",
              "    <tr>\n",
              "      <th>0</th>\n",
              "      <td>AMAZONAS</td>\n",
              "      <td>4</td>\n",
              "      <td>0</td>\n",
              "      <td>0</td>\n",
              "      <td>0</td>\n",
              "      <td>4</td>\n",
              "      <td>4</td>\n",
              "      <td>0</td>\n",
              "      <td>2</td>\n",
              "      <td>2</td>\n",
              "      <td>1</td>\n",
              "      <td>3</td>\n",
              "      <td>AMAZONÍA</td>\n",
              "    </tr>\n",
              "    <tr>\n",
              "      <th>1</th>\n",
              "      <td>ANTIOQUIA</td>\n",
              "      <td>2354</td>\n",
              "      <td>290</td>\n",
              "      <td>7</td>\n",
              "      <td>40</td>\n",
              "      <td>2597</td>\n",
              "      <td>2581</td>\n",
              "      <td>63</td>\n",
              "      <td>2226</td>\n",
              "      <td>418</td>\n",
              "      <td>1213</td>\n",
              "      <td>1431</td>\n",
              "      <td>ANDINA</td>\n",
              "    </tr>\n",
              "    <tr>\n",
              "      <th>2</th>\n",
              "      <td>ARAUCA</td>\n",
              "      <td>599</td>\n",
              "      <td>54</td>\n",
              "      <td>4</td>\n",
              "      <td>12</td>\n",
              "      <td>637</td>\n",
              "      <td>641</td>\n",
              "      <td>12</td>\n",
              "      <td>535</td>\n",
              "      <td>118</td>\n",
              "      <td>230</td>\n",
              "      <td>423</td>\n",
              "      <td>ORINOQUÍA</td>\n",
              "    </tr>\n",
              "    <tr>\n",
              "      <th>3</th>\n",
              "      <td>ATLANTICO</td>\n",
              "      <td>1</td>\n",
              "      <td>7</td>\n",
              "      <td>0</td>\n",
              "      <td>0</td>\n",
              "      <td>8</td>\n",
              "      <td>2</td>\n",
              "      <td>6</td>\n",
              "      <td>7</td>\n",
              "      <td>1</td>\n",
              "      <td>8</td>\n",
              "      <td>0</td>\n",
              "      <td>CARIBE</td>\n",
              "    </tr>\n",
              "    <tr>\n",
              "      <th>4</th>\n",
              "      <td>BOGOTA DC</td>\n",
              "      <td>22</td>\n",
              "      <td>8</td>\n",
              "      <td>0</td>\n",
              "      <td>0</td>\n",
              "      <td>30</td>\n",
              "      <td>20</td>\n",
              "      <td>10</td>\n",
              "      <td>19</td>\n",
              "      <td>11</td>\n",
              "      <td>11</td>\n",
              "      <td>19</td>\n",
              "      <td>ANDINA</td>\n",
              "    </tr>\n",
              "    <tr>\n",
              "      <th>5</th>\n",
              "      <td>BOLIVAR</td>\n",
              "      <td>588</td>\n",
              "      <td>49</td>\n",
              "      <td>0</td>\n",
              "      <td>0</td>\n",
              "      <td>637</td>\n",
              "      <td>632</td>\n",
              "      <td>5</td>\n",
              "      <td>546</td>\n",
              "      <td>91</td>\n",
              "      <td>228</td>\n",
              "      <td>409</td>\n",
              "      <td>CARIBE</td>\n",
              "    </tr>\n",
              "    <tr>\n",
              "      <th>6</th>\n",
              "      <td>BOYACA</td>\n",
              "      <td>64</td>\n",
              "      <td>14</td>\n",
              "      <td>0</td>\n",
              "      <td>0</td>\n",
              "      <td>78</td>\n",
              "      <td>77</td>\n",
              "      <td>1</td>\n",
              "      <td>63</td>\n",
              "      <td>15</td>\n",
              "      <td>26</td>\n",
              "      <td>52</td>\n",
              "      <td>ANDINA</td>\n",
              "    </tr>\n",
              "    <tr>\n",
              "      <th>7</th>\n",
              "      <td>CALDAS</td>\n",
              "      <td>146</td>\n",
              "      <td>22</td>\n",
              "      <td>0</td>\n",
              "      <td>0</td>\n",
              "      <td>168</td>\n",
              "      <td>164</td>\n",
              "      <td>4</td>\n",
              "      <td>134</td>\n",
              "      <td>34</td>\n",
              "      <td>45</td>\n",
              "      <td>123</td>\n",
              "      <td>ANDINA</td>\n",
              "    </tr>\n",
              "    <tr>\n",
              "      <th>8</th>\n",
              "      <td>CAQUETA</td>\n",
              "      <td>892</td>\n",
              "      <td>57</td>\n",
              "      <td>1</td>\n",
              "      <td>3</td>\n",
              "      <td>945</td>\n",
              "      <td>942</td>\n",
              "      <td>7</td>\n",
              "      <td>836</td>\n",
              "      <td>113</td>\n",
              "      <td>220</td>\n",
              "      <td>729</td>\n",
              "      <td>ORINOQUÍA</td>\n",
              "    </tr>\n",
              "    <tr>\n",
              "      <th>9</th>\n",
              "      <td>CASANARE</td>\n",
              "      <td>85</td>\n",
              "      <td>5</td>\n",
              "      <td>1</td>\n",
              "      <td>0</td>\n",
              "      <td>89</td>\n",
              "      <td>90</td>\n",
              "      <td>0</td>\n",
              "      <td>61</td>\n",
              "      <td>29</td>\n",
              "      <td>17</td>\n",
              "      <td>73</td>\n",
              "      <td>ORINOQUÍA</td>\n",
              "    </tr>\n",
              "    <tr>\n",
              "      <th>10</th>\n",
              "      <td>CAUCA</td>\n",
              "      <td>516</td>\n",
              "      <td>135</td>\n",
              "      <td>5</td>\n",
              "      <td>82</td>\n",
              "      <td>564</td>\n",
              "      <td>640</td>\n",
              "      <td>11</td>\n",
              "      <td>532</td>\n",
              "      <td>119</td>\n",
              "      <td>306</td>\n",
              "      <td>345</td>\n",
              "      <td>PACÍFICA</td>\n",
              "    </tr>\n",
              "    <tr>\n",
              "      <th>11</th>\n",
              "      <td>CESAR</td>\n",
              "      <td>135</td>\n",
              "      <td>23</td>\n",
              "      <td>0</td>\n",
              "      <td>7</td>\n",
              "      <td>151</td>\n",
              "      <td>146</td>\n",
              "      <td>12</td>\n",
              "      <td>99</td>\n",
              "      <td>59</td>\n",
              "      <td>79</td>\n",
              "      <td>79</td>\n",
              "      <td>ANDINA</td>\n",
              "    </tr>\n",
              "    <tr>\n",
              "      <th>12</th>\n",
              "      <td>CHOCO</td>\n",
              "      <td>175</td>\n",
              "      <td>34</td>\n",
              "      <td>38</td>\n",
              "      <td>33</td>\n",
              "      <td>138</td>\n",
              "      <td>208</td>\n",
              "      <td>1</td>\n",
              "      <td>169</td>\n",
              "      <td>40</td>\n",
              "      <td>120</td>\n",
              "      <td>89</td>\n",
              "      <td>PACÍFICA</td>\n",
              "    </tr>\n",
              "    <tr>\n",
              "      <th>13</th>\n",
              "      <td>CORDOBA</td>\n",
              "      <td>270</td>\n",
              "      <td>13</td>\n",
              "      <td>0</td>\n",
              "      <td>9</td>\n",
              "      <td>274</td>\n",
              "      <td>279</td>\n",
              "      <td>4</td>\n",
              "      <td>251</td>\n",
              "      <td>32</td>\n",
              "      <td>98</td>\n",
              "      <td>185</td>\n",
              "      <td>CARIBE</td>\n",
              "    </tr>\n",
              "    <tr>\n",
              "      <th>14</th>\n",
              "      <td>CUNDINAMARCA</td>\n",
              "      <td>129</td>\n",
              "      <td>12</td>\n",
              "      <td>0</td>\n",
              "      <td>0</td>\n",
              "      <td>141</td>\n",
              "      <td>136</td>\n",
              "      <td>5</td>\n",
              "      <td>110</td>\n",
              "      <td>31</td>\n",
              "      <td>50</td>\n",
              "      <td>91</td>\n",
              "      <td>ANDINA</td>\n",
              "    </tr>\n",
              "    <tr>\n",
              "      <th>15</th>\n",
              "      <td>GUAINIA</td>\n",
              "      <td>1</td>\n",
              "      <td>2</td>\n",
              "      <td>0</td>\n",
              "      <td>0</td>\n",
              "      <td>3</td>\n",
              "      <td>3</td>\n",
              "      <td>0</td>\n",
              "      <td>3</td>\n",
              "      <td>0</td>\n",
              "      <td>3</td>\n",
              "      <td>0</td>\n",
              "      <td>AMAZONÍA</td>\n",
              "    </tr>\n",
              "    <tr>\n",
              "      <th>16</th>\n",
              "      <td>GUAVIARE</td>\n",
              "      <td>230</td>\n",
              "      <td>37</td>\n",
              "      <td>0</td>\n",
              "      <td>43</td>\n",
              "      <td>224</td>\n",
              "      <td>265</td>\n",
              "      <td>2</td>\n",
              "      <td>226</td>\n",
              "      <td>41</td>\n",
              "      <td>115</td>\n",
              "      <td>152</td>\n",
              "      <td>AMAZONÍA</td>\n",
              "    </tr>\n",
              "    <tr>\n",
              "      <th>17</th>\n",
              "      <td>HUILA</td>\n",
              "      <td>214</td>\n",
              "      <td>22</td>\n",
              "      <td>0</td>\n",
              "      <td>0</td>\n",
              "      <td>236</td>\n",
              "      <td>226</td>\n",
              "      <td>10</td>\n",
              "      <td>202</td>\n",
              "      <td>34</td>\n",
              "      <td>50</td>\n",
              "      <td>186</td>\n",
              "      <td>ANDINA</td>\n",
              "    </tr>\n",
              "    <tr>\n",
              "      <th>18</th>\n",
              "      <td>LA GUAJIRA</td>\n",
              "      <td>57</td>\n",
              "      <td>3</td>\n",
              "      <td>0</td>\n",
              "      <td>9</td>\n",
              "      <td>51</td>\n",
              "      <td>59</td>\n",
              "      <td>1</td>\n",
              "      <td>19</td>\n",
              "      <td>41</td>\n",
              "      <td>27</td>\n",
              "      <td>33</td>\n",
              "      <td>CARIBE</td>\n",
              "    </tr>\n",
              "    <tr>\n",
              "      <th>19</th>\n",
              "      <td>MAGDALENA</td>\n",
              "      <td>32</td>\n",
              "      <td>14</td>\n",
              "      <td>0</td>\n",
              "      <td>0</td>\n",
              "      <td>46</td>\n",
              "      <td>46</td>\n",
              "      <td>0</td>\n",
              "      <td>28</td>\n",
              "      <td>18</td>\n",
              "      <td>28</td>\n",
              "      <td>18</td>\n",
              "      <td>CARIBE</td>\n",
              "    </tr>\n",
              "    <tr>\n",
              "      <th>20</th>\n",
              "      <td>META</td>\n",
              "      <td>1062</td>\n",
              "      <td>86</td>\n",
              "      <td>1</td>\n",
              "      <td>4</td>\n",
              "      <td>1143</td>\n",
              "      <td>1145</td>\n",
              "      <td>3</td>\n",
              "      <td>947</td>\n",
              "      <td>201</td>\n",
              "      <td>423</td>\n",
              "      <td>725</td>\n",
              "      <td>ORINOQUÍA</td>\n",
              "    </tr>\n",
              "    <tr>\n",
              "      <th>21</th>\n",
              "      <td>NARIÑO</td>\n",
              "      <td>915</td>\n",
              "      <td>142</td>\n",
              "      <td>40</td>\n",
              "      <td>160</td>\n",
              "      <td>857</td>\n",
              "      <td>1045</td>\n",
              "      <td>12</td>\n",
              "      <td>819</td>\n",
              "      <td>238</td>\n",
              "      <td>685</td>\n",
              "      <td>372</td>\n",
              "      <td>PACÍFICA</td>\n",
              "    </tr>\n",
              "    <tr>\n",
              "      <th>22</th>\n",
              "      <td>NORTE DE SANTANDER</td>\n",
              "      <td>892</td>\n",
              "      <td>70</td>\n",
              "      <td>0</td>\n",
              "      <td>1</td>\n",
              "      <td>961</td>\n",
              "      <td>946</td>\n",
              "      <td>16</td>\n",
              "      <td>767</td>\n",
              "      <td>195</td>\n",
              "      <td>298</td>\n",
              "      <td>664</td>\n",
              "      <td>ANDINA</td>\n",
              "    </tr>\n",
              "    <tr>\n",
              "      <th>23</th>\n",
              "      <td>PUTUMAYO</td>\n",
              "      <td>398</td>\n",
              "      <td>56</td>\n",
              "      <td>1</td>\n",
              "      <td>30</td>\n",
              "      <td>423</td>\n",
              "      <td>453</td>\n",
              "      <td>1</td>\n",
              "      <td>340</td>\n",
              "      <td>114</td>\n",
              "      <td>229</td>\n",
              "      <td>225</td>\n",
              "      <td>AMAZONÍA</td>\n",
              "    </tr>\n",
              "    <tr>\n",
              "      <th>24</th>\n",
              "      <td>QUINDIO</td>\n",
              "      <td>24</td>\n",
              "      <td>4</td>\n",
              "      <td>0</td>\n",
              "      <td>0</td>\n",
              "      <td>28</td>\n",
              "      <td>24</td>\n",
              "      <td>4</td>\n",
              "      <td>20</td>\n",
              "      <td>8</td>\n",
              "      <td>7</td>\n",
              "      <td>21</td>\n",
              "      <td>ANDINA</td>\n",
              "    </tr>\n",
              "    <tr>\n",
              "      <th>25</th>\n",
              "      <td>RISARALDA</td>\n",
              "      <td>19</td>\n",
              "      <td>3</td>\n",
              "      <td>0</td>\n",
              "      <td>0</td>\n",
              "      <td>22</td>\n",
              "      <td>19</td>\n",
              "      <td>3</td>\n",
              "      <td>14</td>\n",
              "      <td>8</td>\n",
              "      <td>15</td>\n",
              "      <td>7</td>\n",
              "      <td>ANDINA</td>\n",
              "    </tr>\n",
              "    <tr>\n",
              "      <th>26</th>\n",
              "      <td>SANTANDER</td>\n",
              "      <td>263</td>\n",
              "      <td>34</td>\n",
              "      <td>0</td>\n",
              "      <td>0</td>\n",
              "      <td>297</td>\n",
              "      <td>267</td>\n",
              "      <td>30</td>\n",
              "      <td>242</td>\n",
              "      <td>55</td>\n",
              "      <td>159</td>\n",
              "      <td>138</td>\n",
              "      <td>ANDINA</td>\n",
              "    </tr>\n",
              "    <tr>\n",
              "      <th>27</th>\n",
              "      <td>SUCRE</td>\n",
              "      <td>69</td>\n",
              "      <td>6</td>\n",
              "      <td>0</td>\n",
              "      <td>0</td>\n",
              "      <td>75</td>\n",
              "      <td>73</td>\n",
              "      <td>2</td>\n",
              "      <td>46</td>\n",
              "      <td>29</td>\n",
              "      <td>24</td>\n",
              "      <td>51</td>\n",
              "      <td>CARIBE</td>\n",
              "    </tr>\n",
              "    <tr>\n",
              "      <th>28</th>\n",
              "      <td>TOLIMA</td>\n",
              "      <td>500</td>\n",
              "      <td>39</td>\n",
              "      <td>0</td>\n",
              "      <td>4</td>\n",
              "      <td>535</td>\n",
              "      <td>535</td>\n",
              "      <td>4</td>\n",
              "      <td>382</td>\n",
              "      <td>157</td>\n",
              "      <td>83</td>\n",
              "      <td>456</td>\n",
              "      <td>ANDINA</td>\n",
              "    </tr>\n",
              "    <tr>\n",
              "      <th>29</th>\n",
              "      <td>VALLE DEL CAUCA</td>\n",
              "      <td>248</td>\n",
              "      <td>22</td>\n",
              "      <td>6</td>\n",
              "      <td>12</td>\n",
              "      <td>252</td>\n",
              "      <td>252</td>\n",
              "      <td>18</td>\n",
              "      <td>200</td>\n",
              "      <td>70</td>\n",
              "      <td>73</td>\n",
              "      <td>197</td>\n",
              "      <td>PACÍFICA</td>\n",
              "    </tr>\n",
              "  </tbody>\n",
              "</table>\n",
              "</div>\n",
              "      <button class=\"colab-df-convert\" onclick=\"convertToInteractive('df-b92a7002-71b8-4fe3-9cab-6effee05558d')\"\n",
              "              title=\"Convert this dataframe to an interactive table.\"\n",
              "              style=\"display:none;\">\n",
              "        \n",
              "  <svg xmlns=\"http://www.w3.org/2000/svg\" height=\"24px\"viewBox=\"0 0 24 24\"\n",
              "       width=\"24px\">\n",
              "    <path d=\"M0 0h24v24H0V0z\" fill=\"none\"/>\n",
              "    <path d=\"M18.56 5.44l.94 2.06.94-2.06 2.06-.94-2.06-.94-.94-2.06-.94 2.06-2.06.94zm-11 1L8.5 8.5l.94-2.06 2.06-.94-2.06-.94L8.5 2.5l-.94 2.06-2.06.94zm10 10l.94 2.06.94-2.06 2.06-.94-2.06-.94-.94-2.06-.94 2.06-2.06.94z\"/><path d=\"M17.41 7.96l-1.37-1.37c-.4-.4-.92-.59-1.43-.59-.52 0-1.04.2-1.43.59L10.3 9.45l-7.72 7.72c-.78.78-.78 2.05 0 2.83L4 21.41c.39.39.9.59 1.41.59.51 0 1.02-.2 1.41-.59l7.78-7.78 2.81-2.81c.8-.78.8-2.07 0-2.86zM5.41 20L4 18.59l7.72-7.72 1.47 1.35L5.41 20z\"/>\n",
              "  </svg>\n",
              "      </button>\n",
              "      \n",
              "  <style>\n",
              "    .colab-df-container {\n",
              "      display:flex;\n",
              "      flex-wrap:wrap;\n",
              "      gap: 12px;\n",
              "    }\n",
              "\n",
              "    .colab-df-convert {\n",
              "      background-color: #E8F0FE;\n",
              "      border: none;\n",
              "      border-radius: 50%;\n",
              "      cursor: pointer;\n",
              "      display: none;\n",
              "      fill: #1967D2;\n",
              "      height: 32px;\n",
              "      padding: 0 0 0 0;\n",
              "      width: 32px;\n",
              "    }\n",
              "\n",
              "    .colab-df-convert:hover {\n",
              "      background-color: #E2EBFA;\n",
              "      box-shadow: 0px 1px 2px rgba(60, 64, 67, 0.3), 0px 1px 3px 1px rgba(60, 64, 67, 0.15);\n",
              "      fill: #174EA6;\n",
              "    }\n",
              "\n",
              "    [theme=dark] .colab-df-convert {\n",
              "      background-color: #3B4455;\n",
              "      fill: #D2E3FC;\n",
              "    }\n",
              "\n",
              "    [theme=dark] .colab-df-convert:hover {\n",
              "      background-color: #434B5C;\n",
              "      box-shadow: 0px 1px 3px 1px rgba(0, 0, 0, 0.15);\n",
              "      filter: drop-shadow(0px 1px 2px rgba(0, 0, 0, 0.3));\n",
              "      fill: #FFFFFF;\n",
              "    }\n",
              "  </style>\n",
              "\n",
              "      <script>\n",
              "        const buttonEl =\n",
              "          document.querySelector('#df-b92a7002-71b8-4fe3-9cab-6effee05558d button.colab-df-convert');\n",
              "        buttonEl.style.display =\n",
              "          google.colab.kernel.accessAllowed ? 'block' : 'none';\n",
              "\n",
              "        async function convertToInteractive(key) {\n",
              "          const element = document.querySelector('#df-b92a7002-71b8-4fe3-9cab-6effee05558d');\n",
              "          const dataTable =\n",
              "            await google.colab.kernel.invokeFunction('convertToInteractive',\n",
              "                                                     [key], {});\n",
              "          if (!dataTable) return;\n",
              "\n",
              "          const docLinkHtml = 'Like what you see? Visit the ' +\n",
              "            '<a target=\"_blank\" href=https://colab.research.google.com/notebooks/data_table.ipynb>data table notebook</a>'\n",
              "            + ' to learn more about interactive tables.';\n",
              "          element.innerHTML = '';\n",
              "          dataTable['output_type'] = 'display_data';\n",
              "          await google.colab.output.renderOutput(dataTable, element);\n",
              "          const docLink = document.createElement('div');\n",
              "          docLink.innerHTML = docLinkHtml;\n",
              "          element.appendChild(docLink);\n",
              "        }\n",
              "      </script>\n",
              "    </div>\n",
              "  </div>\n",
              "  "
            ]
          },
          "metadata": {},
          "execution_count": 77
        }
      ]
    },
    {
      "cell_type": "code",
      "source": [
        "df1_cat.shape[0]"
      ],
      "metadata": {
        "colab": {
          "base_uri": "https://localhost:8080/"
        },
        "id": "C2NI8yvpy7YN",
        "outputId": "06813889-6bf8-4fdd-b80e-cbf9ce96ac2d"
      },
      "execution_count": null,
      "outputs": [
        {
          "output_type": "execute_result",
          "data": {
            "text/plain": [
              "12229"
            ]
          },
          "metadata": {},
          "execution_count": 19
        }
      ]
    },
    {
      "cell_type": "code",
      "source": [
        "# size=32\n",
        "# som = MiniSom(size, size, df1_cat.shape[0],\n",
        "              # neighborhood_function='gaussian', sigma=1.5,\n",
        "              # random_seed=1)"
      ],
      "metadata": {
        "id": "Ao6aFDcCyrYn"
      },
      "execution_count": null,
      "outputs": []
    },
    {
      "cell_type": "markdown",
      "source": [
        "##**Importar la librería sklearn**"
      ],
      "metadata": {
        "id": "L7-B51hTGg8p"
      }
    },
    {
      "cell_type": "code",
      "source": [
        "import sklearn"
      ],
      "metadata": {
        "id": "9BxEXIYGr9qV"
      },
      "execution_count": null,
      "outputs": []
    },
    {
      "cell_type": "code",
      "source": [
        "#Herramienta para escalar \n",
        "from sklearn.preprocessing import MinMaxScaler"
      ],
      "metadata": {
        "id": "GKx3ozclr_P6"
      },
      "execution_count": null,
      "outputs": []
    },
    {
      "cell_type": "markdown",
      "source": [
        "##**Implementación del algoritmo**"
      ],
      "metadata": {
        "id": "jbT2nyO_vxL-"
      }
    },
    {
      "cell_type": "code",
      "source": [
        "from sklearn.preprocessing import minmax_scale, scale"
      ],
      "metadata": {
        "id": "YMGaPjVpwLyH"
      },
      "execution_count": null,
      "outputs": []
    },
    {
      "cell_type": "markdown",
      "source": [
        "#**SOM (Mapa auto organizado)**"
      ],
      "metadata": {
        "id": "m76GgzfO_v0J"
      }
    },
    {
      "cell_type": "code",
      "source": [
        "#Instalar minisom\n",
        "!pip install minisom"
      ],
      "metadata": {
        "colab": {
          "base_uri": "https://localhost:8080/"
        },
        "id": "hgNucdF7_zGU",
        "outputId": "e696fd69-e44a-4c92-db52-853064dd80be"
      },
      "execution_count": null,
      "outputs": [
        {
          "output_type": "stream",
          "name": "stdout",
          "text": [
            "Looking in indexes: https://pypi.org/simple, https://us-python.pkg.dev/colab-wheels/public/simple/\n",
            "Collecting minisom\n",
            "  Downloading MiniSom-2.3.0.tar.gz (8.8 kB)\n",
            "Building wheels for collected packages: minisom\n",
            "  Building wheel for minisom (setup.py) ... \u001b[?25l\u001b[?25hdone\n",
            "  Created wheel for minisom: filename=MiniSom-2.3.0-py3-none-any.whl size=9016 sha256=634c79de994abdd00dc9655468f9c3441b995dd5a435e8803bcceda2c4511f85\n",
            "  Stored in directory: /root/.cache/pip/wheels/d4/ca/4a/488772b0399fec45ff53132ed14c948dec4b30deee3a532f80\n",
            "Successfully built minisom\n",
            "Installing collected packages: minisom\n",
            "Successfully installed minisom-2.3.0\n"
          ]
        }
      ]
    },
    {
      "cell_type": "code",
      "source": [
        "#Importar MiniSom\n",
        "from minisom import MiniSom"
      ],
      "metadata": {
        "id": "XVBW7_9q_1sl"
      },
      "execution_count": null,
      "outputs": []
    },
    {
      "cell_type": "code",
      "source": [
        "var_names = ['Mayor de 18 años', 'Menor de 18 años',\n",
        "       'Afrodescendiente', 'Indigena', 'No', 'Rural', 'Urbana', 'Herido',\n",
        "       'Muerto', 'Civil', 'Fuerza pública']"
      ],
      "metadata": {
        "id": "NgGS2ctr9e33"
      },
      "execution_count": null,
      "outputs": []
    },
    {
      "cell_type": "code",
      "source": [
        "from sklearn.preprocessing import minmax_scale, scale"
      ],
      "metadata": {
        "id": "-pWNATQg-MD2"
      },
      "execution_count": null,
      "outputs": []
    },
    {
      "cell_type": "code",
      "source": [
        "X = Data_final_victimas_reg[var_names].values\n",
        "X"
      ],
      "metadata": {
        "id": "r3IkxJ7Z98Ja"
      },
      "execution_count": null,
      "outputs": []
    },
    {
      "cell_type": "code",
      "source": [
        "X = scale(X)\n",
        "X"
      ],
      "metadata": {
        "id": "xsy-DN7iOgak"
      },
      "execution_count": null,
      "outputs": []
    },
    {
      "cell_type": "code",
      "source": [
        "#Implmentación del algoritmo\n",
        "#Definir el tamaño de la grilla\n",
        "size = 3\n",
        "#Definir la función som\n",
        "som = MiniSom(size, size, len(X[0]),\n",
        "              neighborhood_function='gaussian', sigma=1.5,\n",
        "              random_seed=1596)"
      ],
      "metadata": {
        "id": "2o56nu86AMY2"
      },
      "execution_count": null,
      "outputs": []
    },
    {
      "cell_type": "code",
      "source": [
        "#Entrenamiento del algoritmo para som\n",
        "som.pca_weights_init(X)\n",
        "som.train_random(X, 1000, verbose=False)\n"
      ],
      "metadata": {
        "id": "xVSZO4wTAcvb"
      },
      "execution_count": null,
      "outputs": []
    },
    {
      "cell_type": "markdown",
      "source": [
        "##**Mapa  1 de los departamentos con respecto  la característica grupo étnico**"
      ],
      "metadata": {
        "id": "13C_xnXsHBEF"
      }
    },
    {
      "cell_type": "code",
      "source": [
        "#Codificación de los departamentos \n",
        "depto_codes = {'ANTIOQUIA': 'ANTIOQUIA','CAUCA':'CAUCA','NARIÑO':'NARIÑO','BOLIVAR':'BOLIVAR','NORTE DE SANTANDER':'NORTE DE SANTANDER','CORDOBA':'CORDOBA','CASANARE':'CASANARE','AMAZONAS':'AMAZONAS','ARAUCA':'ARAUCA','ATLANTICO':'ATLANTICO','BOYACA':'BOYACA','CALDAS':'CALDAS',\n",
        "               'CAQUETA':'CAQUETA','CAUCA':'CAUCA','CHOCO':'CHOCO','CUNDINAMARCA':'CUNDINAMARCA','GUAINIA':'GUAINIA','LA GUAJIRA':'LA GUAJIRA','HUILA':'HUILA','MAGDALENA':'MAGDALENA','META':'META','NARIÑO':'NARIÑO','NORTE DE SANTANDER':'NORTE DE SANTANDER','PUTUMAYO':'PUTUMAYOT','BOGOTA DC':'BOGOT DC','QUINDIO':'QUINDIO','RISARALDA':'RISARALDA','SANTANDER':'SANTANDER','SUCRE':'SUCRE','TOLIMA':'TOLIMA','VALLE DEL CAUCA':'VALLE DEL CAUCA','VAUPES':'VAUPES','VICHADA':'VICHADA','CAQUETA':'CAQUETA','GUAVIARE':'GUAVIARE','CESAR':'CESAR'}"
      ],
      "metadata": {
        "id": "hMTfVoA2QaWw"
      },
      "execution_count": null,
      "outputs": []
    },
    {
      "cell_type": "code",
      "source": [
        "#Tamaño de la lista de elemntos claves\n",
        "len(depto_codes.keys())\n"
      ],
      "metadata": {
        "colab": {
          "base_uri": "https://localhost:8080/"
        },
        "id": "lPxvmlgwXK_y",
        "outputId": "1a473a7c-a463-4d62-a14b-7d1633662b4b"
      },
      "execution_count": null,
      "outputs": [
        {
          "output_type": "execute_result",
          "data": {
            "text/plain": [
              "32"
            ]
          },
          "metadata": {},
          "execution_count": 39
        }
      ]
    },
    {
      "cell_type": "code",
      "source": [
        "category_color_ge = {'AMAZONÍA': 'green',\n",
        "                  'ANDINA': 'blue','CARIBE':'red','PACÍFICA':'purple','ORINOQUÍA':'black'}"
      ],
      "metadata": {
        "id": "wlLhL7GAJQWp"
      },
      "execution_count": null,
      "outputs": []
    },
    {
      "cell_type": "code",
      "source": [
        "dept_colors_dict = {c: category_color_ge[dm] for c, dm in zip(Data_final_victimas_reg.departamento,Data_final_victimas_reg.Regiones_naturales)}"
      ],
      "metadata": {
        "id": "Li_wTYSCLNsB"
      },
      "execution_count": null,
      "outputs": []
    },
    {
      "cell_type": "code",
      "source": [
        "dept_colors_dict.items()"
      ],
      "metadata": {
        "colab": {
          "base_uri": "https://localhost:8080/"
        },
        "id": "uuFxHB1LLuU3",
        "outputId": "faee4f61-8b69-4740-c727-f1383605c13d"
      },
      "execution_count": null,
      "outputs": [
        {
          "output_type": "execute_result",
          "data": {
            "text/plain": [
              "dict_items([('AMAZONAS', 'green'), ('ANTIOQUIA', 'blue'), ('ARAUCA', 'black'), ('ATLANTICO', 'red'), ('BOGOTA DC', 'blue'), ('BOLIVAR', 'red'), ('BOYACA', 'blue'), ('CALDAS', 'blue'), ('CAQUETA', 'black'), ('CASANARE', 'black'), ('CAUCA', 'purple'), ('CESAR', 'blue'), ('CHOCO', 'purple'), ('CORDOBA', 'red'), ('CUNDINAMARCA', 'blue'), ('GUAINIA', 'green'), ('GUAVIARE', 'green'), ('HUILA', 'blue'), ('LA GUAJIRA', 'red'), ('MAGDALENA', 'red'), ('META', 'black'), ('NARIÑO', 'purple'), ('NORTE DE SANTANDER', 'blue'), ('PUTUMAYO', 'green'), ('QUINDIO', 'blue'), ('RISARALDA', 'blue'), ('SANTANDER', 'blue'), ('SUCRE', 'red'), ('TOLIMA', 'blue'), ('VALLE DEL CAUCA', 'purple'), ('VAUPES', 'green'), ('VICHADA', 'black')])"
            ]
          },
          "metadata": {},
          "execution_count": 47
        }
      ]
    },
    {
      "cell_type": "code",
      "source": [
        "def shorten_dept(c):\n",
        "    if len(c) > 3:\n",
        "        return depto_codes[c]\n",
        "    else:\n",
        "        return c\n",
        "\n"
      ],
      "metadata": {
        "id": "o43sMT92MGnV"
      },
      "execution_count": null,
      "outputs": []
    },
    {
      "cell_type": "code",
      "source": [
        "X.shape"
      ],
      "metadata": {
        "colab": {
          "base_uri": "https://localhost:8080/"
        },
        "id": "-ASGTEi2dAFP",
        "outputId": "abc46f0c-3ea2-4078-dc30-4f8913a94dc7"
      },
      "execution_count": null,
      "outputs": [
        {
          "output_type": "execute_result",
          "data": {
            "text/plain": [
              "(32, 11)"
            ]
          },
          "metadata": {},
          "execution_count": 49
        }
      ]
    },
    {
      "cell_type": "code",
      "source": [
        "dept_map.items()"
      ],
      "metadata": {
        "id": "6z2SDHu2XcOa",
        "colab": {
          "base_uri": "https://localhost:8080/"
        },
        "outputId": "c8b105fc-71fb-4f8a-d5ed-074f5c4ada37"
      },
      "execution_count": null,
      "outputs": [
        {
          "output_type": "execute_result",
          "data": {
            "text/plain": [
              "dict_items([((2, 2), Counter({'AMAZONAS': 1, 'ATLANTICO': 1, 'BOGOTA DC': 1, 'BOYACA': 1, 'CASANARE': 1, 'GUAINIA': 1, 'LA GUAJIRA': 1, 'MAGDALENA': 1, 'QUINDIO': 1, 'RISARALDA': 1, 'SUCRE': 1, 'VAUPES': 1, 'VICHADA': 1})), ((0, 0), Counter({'ANTIOQUIA': 1})), ((0, 2), Counter({'ARAUCA': 1, 'BOLIVAR': 1, 'TOLIMA': 1})), ((2, 1), Counter({'CALDAS': 1, 'CORDOBA': 1, 'CUNDINAMARCA': 1})), ((0, 1), Counter({'CAQUETA': 1, 'META': 1, 'NORTE DE SANTANDER': 1})), ((1, 1), Counter({'CAUCA': 1, 'GUAVIARE': 1, 'PUTUMAYO': 1})), ((1, 2), Counter({'CESAR': 1, 'HUILA': 1, 'SANTANDER': 1, 'VALLE DEL CAUCA': 1})), ((2, 0), Counter({'CHOCO': 1})), ((1, 0), Counter({'NARIÑO': 1}))])"
            ]
          },
          "metadata": {},
          "execution_count": 50
        }
      ]
    },
    {
      "cell_type": "code",
      "source": [
        "dept_map = som.labels_map(X,Data_final_victimas_reg.departamento)\n",
        "    \n",
        "plt.figure(figsize=(20, 20))\n",
        "for p, d in dept_map.items():\n",
        "    depts = list(d)\n",
        "    x = p[0] + .1\n",
        "    y = p[1] - .3\n",
        "    for i, c in enumerate(depts):\n",
        "        off_set = (i+1)/len(depts) - 0.05\n",
        "        plt.text(x, y+off_set,shorten_dept(c), color=dept_colors_dict[c], fontsize=10)\n",
        "plt.pcolor(som.distance_map().T, cmap='gray_r', alpha=.2)\n",
        "plt.xticks(np.arange(size+1))\n",
        "plt.yticks(np.arange(size+1))\n",
        "plt.grid()\n",
        "\n",
        "\n",
        "plt.show()"
      ],
      "metadata": {
        "colab": {
          "base_uri": "https://localhost:8080/",
          "height": 1000
        },
        "id": "yuVcMa0aMUJx",
        "outputId": "90f7a2fb-dc87-4176-d161-0c11cff157d7"
      },
      "execution_count": null,
      "outputs": [
        {
          "output_type": "display_data",
          "data": {
            "text/plain": [
              "<Figure size 1440x1440 with 1 Axes>"
            ],
            "image/png": "[encoded data removed]"
          },
          "metadata": {
            "needs_background": "light"
          }
        }
      ]
    },
    {
      "cell_type": "code",
      "source": [
        "plt.savefig('SOM_departamentos.jpg')"
      ],
      "metadata": {
        "colab": {
          "base_uri": "https://localhost:8080/",
          "height": 35
        },
        "id": "Ga6otLNtdYeu",
        "outputId": "015e613e-7469-458b-a3a1-5760eda777df"
      },
      "execution_count": null,
      "outputs": [
        {
          "output_type": "display_data",
          "data": {
            "text/plain": [
              "<Figure size 432x288 with 0 Axes>"
            ]
          },
          "metadata": {}
        }
      ]
    },
    {
      "cell_type": "code",
      "source": [
        "depto_codes"
      ],
      "metadata": {
        "colab": {
          "base_uri": "https://localhost:8080/"
        },
        "id": "Cz_p-maKbPF4",
        "outputId": "d0f7a288-a98f-4c10-d7c2-eb9581246c1e"
      },
      "execution_count": null,
      "outputs": [
        {
          "output_type": "execute_result",
          "data": {
            "text/plain": [
              "{'ANTIOQUIA': 'ANTIOQUIA',\n",
              " 'CAUCA': 'CAUCA',\n",
              " 'NARIÑO': 'NARIÑO',\n",
              " 'BOLIVAR': 'BOLIVAR',\n",
              " 'NORTE DE SANTANDER': 'NORTE DE SANTANDER',\n",
              " 'CORDOBA': 'CORDOBA',\n",
              " 'CASANARE': 'CASANARE',\n",
              " 'AMAZONAS': 'AMAZONAS',\n",
              " 'ARAUCA': 'ARAUCA',\n",
              " 'ATLANTICO': 'ATLANTICO',\n",
              " 'BOYACA': 'BOYACA',\n",
              " 'CALDAS': 'CALDAS',\n",
              " 'CAQUETA': 'CAQUETA',\n",
              " 'CHOCO': 'CHOCO',\n",
              " 'CUNDINAMARCA': 'CUNDINAMARCA',\n",
              " 'GUAINIA': 'GUAINIA',\n",
              " 'LA GUAJIRA': 'LA GUAJIRA',\n",
              " 'HUILA': 'HUILA',\n",
              " 'MAGDALENA': 'MAGDALENA',\n",
              " 'META': 'META',\n",
              " 'PUTUMAYO': 'PUTUMAYOT',\n",
              " 'BOGOTA DC': 'BOGOT DC',\n",
              " 'QUINDIO': 'QUINDIO',\n",
              " 'RISARALDA': 'RISARALDA',\n",
              " 'SANTANDER': 'SANTANDER',\n",
              " 'SUCRE': 'SUCRE',\n",
              " 'TOLIMA': 'TOLIMA',\n",
              " 'VALLE DEL CAUCA': 'VALLE DEL CAUCA',\n",
              " 'VAUPES': 'VAUPES',\n",
              " 'VICHADA': 'VICHADA',\n",
              " 'GUAVIARE': 'GUAVIARE',\n",
              " 'CESAR': 'CESAR'}"
            ]
          },
          "metadata": {},
          "execution_count": 52
        }
      ]
    },
    {
      "cell_type": "markdown",
      "source": [
        "##**Mapa 2 de los departametnos con respecto a la condicion**"
      ],
      "metadata": {
        "id": "c_W1UJ5SJ3RK"
      }
    },
    {
      "cell_type": "code",
      "source": [
        "X"
      ],
      "metadata": {
        "id": "Th8hrrMnBzVz"
      },
      "execution_count": null,
      "outputs": []
    },
    {
      "cell_type": "code",
      "source": [
        "dept_map = som.labels_map(X,Data_final_victimas_reg.departamento)\n",
        "    \n",
        "plt.figure(figsize=(20, 20))\n",
        "for p, d in dept_map.items():\n",
        "    depts = list(d)\n",
        "    x = p[0] + .1\n",
        "    y = p[1] - .3\n",
        "    for i, c in enumerate(depts):\n",
        "        off_set = (i+1)/len(depts) - 0.05\n",
        "        plt.text(x, y+off_set,shorten_dept(c), color=dept_colors_dict[c], fontsize=10)\n",
        "plt.pcolor(som.distance_map().T, cmap='gray_r', alpha=.2)\n",
        "plt.xticks(np.arange(size+1))\n",
        "plt.yticks(np.arange(size+1))\n",
        "plt.grid()\n",
        "\n",
        "\n",
        "plt.show()\n",
        "\n"
      ],
      "metadata": {
        "colab": {
          "base_uri": "https://localhost:8080/",
          "height": 1000
        },
        "id": "yyciUc2OW1E5",
        "outputId": "65a7347f-fafa-4b92-fa5c-4dc1b5727dea"
      },
      "execution_count": null,
      "outputs": [
        {
          "output_type": "display_data",
          "data": {
            "text/plain": [
              "<Figure size 1440x1440 with 1 Axes>"
            ],
            "image/png": "[encoded data removed]"
          },
          "metadata": {
            "needs_background": "light"
          }
        }
      ]
    },
    {
      "cell_type": "code",
      "source": [
        "plt.savefig('SOM1.png')"
      ],
      "metadata": {
        "colab": {
          "base_uri": "https://localhost:8080/",
          "height": 35
        },
        "id": "TWDNOvtRh0fZ",
        "outputId": "1215334f-81aa-4d4a-81e5-7c47e5ec6058"
      },
      "execution_count": null,
      "outputs": [
        {
          "output_type": "display_data",
          "data": {
            "text/plain": [
              "<Figure size 432x288 with 0 Axes>"
            ]
          },
          "metadata": {}
        }
      ]
    },
    {
      "cell_type": "code",
      "source": [
        "depto_codes"
      ],
      "metadata": {
        "id": "TZuybZlfYag9"
      },
      "execution_count": null,
      "outputs": []
    },
    {
      "cell_type": "markdown",
      "source": [
        "##**Planos de características**"
      ],
      "metadata": {
        "id": "OJeRZnEaCd9N"
      }
    },
    {
      "cell_type": "code",
      "source": [
        "var_quali_names = ['RANGO DE EDAD', 'CONDICIÓN', 'TIPO DE ÁREA', 'GRUPO ÉTNICO', 'GÉNERO']"
      ],
      "metadata": {
        "id": "0COLzff_1OxQ"
      },
      "execution_count": null,
      "outputs": []
    },
    {
      "cell_type": "code",
      "source": [
        "var_quali_names = ['grupoetnico']"
      ],
      "metadata": {
        "id": "BKwR3Ib_1M5j"
      },
      "execution_count": null,
      "outputs": []
    },
    {
      "cell_type": "code",
      "source": [
        "#Planos de características\n",
        "W = som.get_weights()\n",
        "plt.figure(figsize=(25, 25))\n",
        "for i, f in enumerate(var_quali_names):\n",
        "    plt.subplot(3, 3, i+1)\n",
        "    plt.title(f)\n",
        "    plt.pcolor(W[:,:,i].T, cmap='coolwarm')\n",
        "    plt.xticks(np.arange(size+1))\n",
        "    plt.yticks(np.arange(size+1))\n",
        "plt.tight_layout()\n",
        "plt.show()\n"
      ],
      "metadata": {
        "colab": {
          "base_uri": "https://localhost:8080/",
          "height": 755
        },
        "id": "ac53p0zbCO5t",
        "outputId": "5f7ab241-2f9a-4e4c-f019-88a7f38e5159"
      },
      "execution_count": null,
      "outputs": [
        {
          "output_type": "display_data",
          "data": {
            "text/plain": [
              "<Figure size 1800x1800 with 5 Axes>"
            ],
            "image/png": "[encoded data removed]"
          },
          "metadata": {
            "needs_background": "light"
          }
        }
      ]
    },
    {
      "cell_type": "markdown",
      "source": [
        "##**Interpretación del mapa del mapa de calor de características**\n",
        "\n",
        "\n",
        "* Dentro de la variable del rango de edad, los departamentos de Antioquía y Caquetá tienen un mayor porcentaje de víctimas mayores de 18 años en comparación con los demás departamentos\n",
        "\n",
        "* Dentro de la variable de condición, Antioquía y Caquetá tiene un mayor de porcentaje de heridos con respecto a los demás departamentos\n",
        "* En la variable tipo de área se puede notar que hay un gran porcentaje de víctimas de las zonas rurales de Nariño y Cauca en comparación con los demás departamentos donde se presentan más  heridos en el  área urbana\n",
        "*  Dentro de la variable grupo étnico se puede apreciar que existe un gran porcentaje de víctimas indígenas pertenecientes a los departamentos de Cauca y Nariño\n",
        "* Finalmente en género se puede evidenciar que existe un gran porcentaje de víctimas que son hombres  y se concentran sobretodo en lo departamentos de Antioquía y Caquetá"
      ],
      "metadata": {
        "id": "tFckQyXffPph"
      }
    },
    {
      "cell_type": "code",
      "source": [
        "plt.savefig('heatmap.jpg')"
      ],
      "metadata": {
        "colab": {
          "base_uri": "https://localhost:8080/",
          "height": 35
        },
        "id": "gZ4T6lybioJm",
        "outputId": "d567b715-177f-4737-bdf2-9f1ce7e4e580"
      },
      "execution_count": null,
      "outputs": [
        {
          "output_type": "display_data",
          "data": {
            "text/plain": [
              "<Figure size 432x288 with 0 Axes>"
            ]
          },
          "metadata": {}
        }
      ]
    }
  ]
}